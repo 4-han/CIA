{
 "cells": [
  {
   "cell_type": "code",
   "execution_count": 6,
   "id": "adecc128-1db0-4d3b-9fc1-d56fc1dd55c9",
   "metadata": {},
   "outputs": [],
   "source": [
    "import json\n",
    "import pandas as pd\n",
    "with open('database.json', 'r') as f_in:\n",
    "    documents = json.load(f_in)\n"
   ]
  },
  {
   "cell_type": "code",
   "execution_count": 7,
   "id": "328861fc-dfed-4575-8df8-95063eb5714f",
   "metadata": {},
   "outputs": [],
   "source": [
    "df_ground_truth = pd.read_csv('ground-truth-data.csv')\n",
    "ground_truth = df_ground_truth.to_dict(orient='records')"
   ]
  },
  {
   "cell_type": "code",
   "execution_count": 6,
   "id": "8ee3e666-a645-49d2-9568-5a89679f261f",
   "metadata": {},
   "outputs": [],
   "source": [
    "doc_idx = {d['url']: d for d in documents}"
   ]
  },
  {
   "cell_type": "code",
   "execution_count": 2,
   "id": "6dd19b56-4911-42ef-a656-363644299811",
   "metadata": {},
   "outputs": [],
   "source": [
    "from sentence_transformers import SentenceTransformer\n",
    "\n",
    "model_name = 'multi-qa-MiniLM-L6-cos-v1'\n",
    "model = SentenceTransformer(model_name)"
   ]
  },
  {
   "cell_type": "code",
   "execution_count": 3,
   "id": "ab83d154-f8b2-48c4-8137-065d6690a6be",
   "metadata": {},
   "outputs": [
    {
     "data": {
      "text/plain": [
       "ObjectApiResponse({'acknowledged': True, 'shards_acknowledged': True, 'index': 'course-questions'})"
      ]
     },
     "execution_count": 3,
     "metadata": {},
     "output_type": "execute_result"
    }
   ],
   "source": [
    "from elasticsearch import Elasticsearch\n",
    "es_client = Elasticsearch('http://localhost:9200')\n",
    "index_settings = {\n",
    "    \"settings\": {\n",
    "        \"number_of_shards\": 1,\n",
    "        \"number_of_replicas\": 0\n",
    "    },\n",
    "    \"mappings\": {\n",
    "        \"properties\": {\n",
    "            \"url\": {\"type\": \"text\"},\n",
    "            \"date\": {\"type\": \"text\"},\n",
    "            \"title\": {\"type\": \"text\"},\n",
    "            \"info\": {\"type\": \"text\"}\n",
    "        }\n",
    "    }\n",
    "}\n",
    "\n",
    "index_name = \"course-questions\"\n",
    "\n",
    "es_client.indices.delete(index=index_name, ignore_unavailable=True)\n",
    "es_client.indices.create(index=index_name, body=index_settings)\n"
   ]
  },
  {
   "cell_type": "code",
   "execution_count": 9,
   "id": "9c4455e5-724c-43fe-b1e2-a9e6f5f3de92",
   "metadata": {},
   "outputs": [
    {
     "data": {
      "application/vnd.jupyter.widget-view+json": {
       "model_id": "b21aa27bb0a548349b2c7d8dca6b60ae",
       "version_major": 2,
       "version_minor": 0
      },
      "text/plain": [
       "  0%|          | 0/89 [00:00<?, ?it/s]"
      ]
     },
     "metadata": {},
     "output_type": "display_data"
    }
   ],
   "source": [
    "from tqdm.auto import tqdm\n",
    "for doc in tqdm(documents):\n",
    "    es_client.index(index=index_name, document=doc)"
   ]
  },
  {
   "cell_type": "code",
   "execution_count": 10,
   "id": "7ee7efd4-5c01-4145-8668-50e8dddfc76f",
   "metadata": {},
   "outputs": [],
   "source": [
    "def elastic_search(query):\n",
    "    search_query = {\n",
    "        \"size\": 5,\n",
    "        \"query\": {\n",
    "            \"bool\": {\n",
    "                \"must\": {\n",
    "                    \"multi_match\": {\n",
    "                        \"query\": query,\n",
    "                        \"fields\": [\"title^2\", \"info\"],\n",
    "                        \"type\": \"best_fields\"\n",
    "                    }\n",
    "                }\n",
    "            }\n",
    "        }\n",
    "    }\n",
    "\n",
    "    response = es_client.search(index=index_name, body=search_query)\n",
    "    \n",
    "    result_docs = []\n",
    "    \n",
    "    for hit in response['hits']['hits']:\n",
    "        result_docs.append(hit['_source'])\n",
    "    \n",
    "    return result_docs"
   ]
  },
  {
   "cell_type": "code",
   "execution_count": 23,
   "id": "e0b4bd08-7327-4b54-9c52-b8434713284f",
   "metadata": {},
   "outputs": [],
   "source": [
    "def chunk_data(raw_doc, chunk_size=4999, overlap=100):\n",
    "    def chunk_content(content, chunk_size=4999, overlap=100):\n",
    "        chunks = []\n",
    "        start = 0\n",
    "        while start < len(content):\n",
    "            end = start + chunk_size\n",
    "            chunk = content[start:end]\n",
    "            chunks.append(chunk)\n",
    "            start = end - overlap\n",
    "        return chunks\n",
    "\n",
    "    chunked_data = []\n",
    "    for doc in raw_doc:\n",
    "        content_chunks = chunk_content(doc['info'], chunk_size, overlap)\n",
    "        for i, chunk in enumerate(content_chunks):\n",
    "            chunked_data.append({\n",
    "                'url': doc['url'],\n",
    "                'date': doc['date'],\n",
    "                'title': doc['title'],\n",
    "                'info': chunk\n",
    "            })\n",
    "    \n",
    "    return chunked_data"
   ]
  },
  {
   "cell_type": "code",
   "execution_count": 24,
   "id": "7df5f984-e781-4383-8d7a-5bb128027c21",
   "metadata": {},
   "outputs": [],
   "source": [
    "data_chunk = chunk_data(documents)"
   ]
  },
  {
   "cell_type": "code",
   "execution_count": 26,
   "id": "9d660b44-77fb-4249-ba1e-e8ea150cd48b",
   "metadata": {},
   "outputs": [
    {
     "data": {
      "text/plain": [
       "{'url': 'https://nitw.ac.in/api/static/files/Note_to_publish_OpenElective_courses-allot_2024-7-30-11-19-2.pdf',\n",
       " 'date': '2024-07-30',\n",
       " 'title': 'Allotment of Open Elective Courses to B.Tech. IV Year Students_Reg | Allotment of Open Elective Courses to B.Tech. IV Year Students_Reg',\n",
       " 'info': ' Karthikeya 60 21EEB0A29 Karan Mankani 61 21EEB0A17 Botla Shresta 62 21MEB0B21 Goni Mohan 63 21BTB0A12 Daga Sahaj Kumar 64 21EEB0B60 Uday Pratap Singh 65 21BTB0A19 Dishant Maithani 66 21MEB0B11 Dodda Sri Tej Deep Reddy 67 21CEB0B52 Syed Abdul Nadeem 68 21CSB0A39 Neerati Bhuvanesh 69 21MEB0B03 Akash Sharma 70 21ECB0B10 Challa Sivaram 71 21ECB0B28 Kosaraju Ajay Kumar 72 21CEB0B38 Potugalla Vivek 73 21CEB0A01 Adarsh Kumar 74 21MEB0B20 Donthi Aneesh Raj 75 21CEB0A10 Briansalcheang R Marak 76 21CEB0A43 Rathod Nirajkumar Kanhiram 77 21CEB0A16 Guntur Jayadeep 78 21ECB0A19 Guguloth Jayavardhan 79 21BTB0A06 Aditya Rajubhai Parmar 80 21MEB0B16 Jitender Patel \\n\\n3. Open Elective ME445 Alternative Sources of Energy Sl. No. Roll No Name 1 21CSB0B23 Jaiditya Beeraka 2 21CSB0B59 Tattukolla Charishma 3 21EEB0B13 Bayya Eka Rupa Vallabha Sneha 4 21CSB0B12 Chityala Sai Ashish Reddy 5 21CEB0A62 Uppuluri Varshini 6 21MMB0A29 Jai Punjabi 7 21CEB0A29 Midathada Layasri 8 21CEB0B14 Gaurav Kumar 9 21CSB0B45 Rachamadugu Naga Sai Charitha 10 21CSB0B25 Kaluva Siddhardh 11 21EEB0B10 Avancha Sai Madhava 12 21CEB0A25 Macherla Rishika 13 21EEB0B43 P Nitin Chinmay 14 21CEB0A36 Parnem Shiva Sumani 15 21CSB0B37 Muramsetti Abhi Sai 16 21CSB0F32 Shreyas Chirasseril Sivan 17 21CSB0B39 P S Sai Ratan 18 21ECB0B14 Elikanti Sandeep 19 21ECB0A27 Killamsetti Rajesh 20 21CSB0A27 Kanukuntla Jahnavi 21 21CSB0F33 Keshna Trivedi 22 21EEB0B48 Peeka Sanjana 23 21ECB0A38 Nallapu Akhila 24 21CSB0B14 Divyansh Chaudhary 25 21CHB0B40 Madhav 26 21EEB0B39 Mangipudi Mahati 27 21CSB0F24 Chandra Mohan Sah 28 21CEB0B45 Sairam Kashyap Yadav Chinnala 29 21ECB0F12 Prakash Sharma 30 21BTB0A29 Devavrata Patel 31 21ECB0F21 Safiyya Ishaq Syed 32 21CEB0A39 Pullakandam Saketh Ram 33 21CHB0A14 Dekka Hymavathi 34 21EEB0B18 Chanda Karthikeya 35 21BTB0A24 Hershit Rustagi 36 21CHB0B37 Kukudala Srishanth Reddy 37 21CSB0A16 Elkapelly Pranay Suhas 38 21EEB0A66 Vaibhav Kadam 39 21CHB0A57 Yashovardhan Srivastava 40 21CSB0B65 Verma Abhinav Basantkumar 41 21CHB0B52 Sarfaraz Mohammed 42 21CSB0B53 Shubham Singha Roy 43 21EEB0B56 Singam Sai Vara Prasad 44 21EEB0B61 V Laxman 45 21MMB0A04 Anurag Verma 46 21CEB0A41 Shiva Tiwari 47 21CHB0B45 Pathrikar Omkar Arvind 48 21CSB0A12 Chippa Amarindhraa Sai 49 21ECB0A55 Seeram Praba Karthikeya 50 21MMB0A71 Tekumalla Tejaswi 51 21MMB0A57 Pratik Prakash Dhakne 52 21EEB0B01 Abbidi Sreedhar Reddy 53 21ECB0B05 Bujoor Ranadheer Reddy 54 21CEB0A07 Balabhadra Srivatsav 55 21CEB0A27 Madhur Awasthi 56 21CHB0B22 Jami Sanat Kumar 57 21CSB0F02 Shreya Kyasaram 58 21EEB0B59 Tanmay Kumar Tewary 59 21CSB0F01 Ratnakaram Venkata Sai Sidhartha 60 21CEB0A32 Nandipalli Sivani 61 21CHB0B41 Rahul Kumar 62 21CSB0A18 Gayam Anusha Vennela Reddy 63 21ECB0B45 Sattaru Vijaya Vighneswara Reddy 64 21CSB0A58 Tanu Priya 65 21EEB0B32 Koppula Kumar Venkat 66 21CEB0A11 Chintakuntla Saivarun 67 21EEB0A09 Betmogarekar Sushant Balajirao 68 21CHB0A29 Mohammad Sameer Ur Rahman 69 21EEB0B42 Muppani Siddhartha Reddy 70 21BTB0A51 Nashwan Nawras 71 21CHB0A37 Nirmal Philip Kalapurackal 72 21CEB0A08 Badshetty Vignesh 73 21CEB0B34 Pabitra Kumar Mandal 74 21CEB0B63 Srikota Akshay 75 21CHB0A02 Abhinav Raj 76 21CHB0A15 Geddavalasa Sreeja 77 21CSB0A02 Adya Anant 78 21CSB0F36 Anubhav Agrawal 79 21CEB0B43 Ravi Kumar Meena 80 21CHB0A38 Pamulapati Santoshitha \\n\\n4. Open Elective EE446 Principles of Electrical Power Conversion Sl.No. Roll No Name 1 21ECB0B53 Sarvepalli Satya Shantha Mahathi 2 21CHB0A44 Rupam Mondal 3 21ECB0B27 Maisa Vasanth Rao 4 21ECB0B58 Somaraju Sai Rohith 5 21ECB0B55 Seggam Ramyalaxmi 6 21MEB0B41 Mir Rahaman 7 21CHB0A22 Jahnsan Kumar Basumatary 8 20CHB0A64 Anurag Ghosh 9 21CHB0A31 Md Haris Manzar 10 21ECB0B08 Buyya Karthik 11 21ECB0A39 Padala Sachit Anand 12 21ECB0B48 Rishendra Tiruveedhula 13 21ECB0B21 Kaveti Shrikar 14 21ECB0B65 Voorugonda Rahul 15 21MEB0A44 Patta Ajay Naidu 16 21MEB0B39 Mamidipalli Sri Vyshnavi 17 21ECB0F10 Aryan Prashant Desai 18 21ECB0B29 Manem Lakshmi Chaitanya 19 21MEB0A46 Palle Vinay Kumar 20 21ECB0A63 Thota Sandeep 21 21ECB0B12 Dasi Manjulatha 22 21MEB0B38 Madhara Dhanush 23 21CSB0B02 Aman Gupta 24 21CEB0A30 Mohammed Muzzammil Farooqui 25 21CHB0A39 Pankaj Dehariya 26 21BTB0A13 Arka Mishra 27 21CSB0B46 Rajat Rohan 28 21CSB0B56 Sunny Kumar 29 21CEB0B26 Kosireddi Subrahmanya Ujval Kumar 30 21CSB0B15 Elagonda Vivek 31 21ECB0B47 Simmasarthi Leela Krishna Prasad 32 20MEB0B74 Kornana Roja \\n\\n5. Open Elective ME444 Machine Learning for Materials \\n\\nSl. No. Roll No Name 1 21CHB0A59 Thupally Varshith Reddy 2 21ECB0B34 Mankala Srujan 3 21MMB0A15 Challa Sharmila 4 21ECB0F30 Shrutika Ramadurai 5 21BTB0A17 Beerelli Shivaram 6 21MMB0A67 Sriman V 7 21EEB0A05 Ankan Sen 8 21EEB0F01 Baradhi Manoj 9 21MMB0A78 Vangala Sanvi Rikthik Reddy 10 21ECB0A22 Jadav Pravalika 11 21CEB0B42 Ramineni Yoochanna Sry 12 21ECB0A25 Kanne Akhileshwar Yadav 13 21EEB0A51 Puvvula Hemanurag Sai 14 21MMB0A26 Guthi Manoj Kumar 15 21CEB0B27 Ladi Goutam 16 21ECB0B68 Yug Parale 17 21CHB0A28 Maruboina Shashank 18 21M'}"
      ]
     },
     "execution_count": 26,
     "metadata": {},
     "output_type": "execute_result"
    }
   ],
   "source": [
    "data_chunk[72]"
   ]
  },
  {
   "cell_type": "code",
   "execution_count": null,
   "id": "9d714c0d-93e0-4cf4-a74c-2695adddce64",
   "metadata": {},
   "outputs": [],
   "source": [
    "\n",
    "for doc in tqdm(data_chunk):\n",
    "    doc['header_vector'] = model.encode(doc['header'])\n",
    "    doc['main_content_vector'] = model.encode(doc['main_content'])"
   ]
  },
  {
   "cell_type": "code",
   "execution_count": null,
   "id": "b21ed8c6-6046-4345-8b29-42e8d9978868",
   "metadata": {},
   "outputs": [],
   "source": [
    "for doc in tqdm(data_chunk):\n",
    "    doc['header_vector'] = model.encode(doc['header'])\n",
    "    doc['main_content_vector'] = model.encode(doc['main_content'])"
   ]
  },
  {
   "cell_type": "code",
   "execution_count": null,
   "id": "dd674a16-57ff-41aa-9b5e-908222a1c1d6",
   "metadata": {},
   "outputs": [],
   "source": [
    "for doc in tqdm(data_chunk):\n",
    "    es_client.index(index=index_name_vector, document=doc)"
   ]
  },
  {
   "cell_type": "markdown",
   "id": "bcf73209-f4c9-461e-92b6-6d41771f4526",
   "metadata": {},
   "source": [
    "## LLM SETUP"
   ]
  },
  {
   "cell_type": "code",
   "execution_count": 55,
   "id": "a5ffdc1e-84a2-4213-b1a8-bdc70763ba87",
   "metadata": {},
   "outputs": [],
   "source": [
    "from openai import OpenAI\n",
    "from google import genai\n",
    "client_gemini = genai.Client()\n",
    "client_openai = OpenAI(base_url=\"https://openrouter.ai/api/v1\")"
   ]
  },
  {
   "cell_type": "code",
   "execution_count": 56,
   "id": "c2b4af32-e047-4649-9752-b886974e902c",
   "metadata": {},
   "outputs": [],
   "source": [
    "def llm_OpenAI(prompt):\n",
    "    response = client_openai.chat.completions.create(\n",
    "        model=\"deepseek/deepseek-chat-v3-0324:free\",\n",
    "        messages=[\n",
    "            {\"role\": \"user\", \"content\": prompt }\n",
    "        ]\n",
    "    )\n",
    "    \n",
    "    return response.choices[0].message.content \n",
    "\n",
    "def llm_gemini(prompt):\n",
    "    response = client_gemini.models.generate_content(\n",
    "        model=\"gemini-2.0-flash\",\n",
    "        contents=prompt ,\n",
    ")\n",
    "    return response.text"
   ]
  },
  {
   "cell_type": "code",
   "execution_count": 30,
   "id": "e1753556-37d6-4a67-843d-ed7176d66a2e",
   "metadata": {},
   "outputs": [],
   "source": [
    "def prompt_builder(query, search_results):       \n",
    "        prompt_template = \"\"\"You are an AI assistant designed to help students of NIT Warangal (NITW) by answering their questions accurately and responsibly.\n",
    "        \n",
    "        You are provided with CONTEXT retrieved from trusted NITW sources. Your job is to:\n",
    "        \n",
    "        1. Answer the user's question using ONLY the provided context.\n",
    "        2. Do NOT use any outside or prior knowledge, even if you know the answer.\n",
    "        3. If the answer is not present in the context, respond with:\n",
    "        \"I could not find a verified answer to that in the available information. Please refer to official sources or contact the relevant NITW department by visiting nitw.ac.in.\"\n",
    "        4. ALWAYS cite the source(s) used using the url provided format.\n",
    "        \n",
    "        URL: {url}\n",
    "        \n",
    "        CONTEXT: {context}   \n",
    "        \n",
    "        INSTRUCTIONS:\n",
    "        - Only use facts from the context.\n",
    "        - Do not assume or generate information not backed by the context.\n",
    "        - Make your response clear and concise.\n",
    "        - At the end of your answer, include a reference to the source like:\n",
    "        (SOURCE: {url})\n",
    "        \"\"\".strip()\n",
    "        \n",
    "        \n",
    "        context = \"\"\n",
    "        sources = \"\"\n",
    "        for doc in search_results:\n",
    "            context = context + f\"title: {doc['title']}\\ninfo: {doc['info']}\\n\\n\"\n",
    "            sources += f\"url: {doc['url']}\\n\"\n",
    "            \n",
    "        \n",
    "        prompt = prompt_template.format(url=sources, context=context).strip()\n",
    "        return prompt"
   ]
  },
  {
   "cell_type": "code",
   "execution_count": 57,
   "id": "68d219ce-9e05-4965-947a-9241a142f17a",
   "metadata": {},
   "outputs": [],
   "source": [
    "def rag(query):\n",
    "\n",
    "    search_results = elastic_search(query)\n",
    "    prompt = prompt_builder(query, search_results)\n",
    "    answer = llm_gemini(prompt)\n",
    "    return answer"
   ]
  },
  {
   "cell_type": "code",
   "execution_count": 58,
   "id": "828f92ef-d843-47fd-9f00-c7c894f12f6a",
   "metadata": {},
   "outputs": [],
   "source": [
    "query = '''I am an upcoming Phd Student at NIT warangal, can you pl\n",
    "ease let me know how to the registration and document uploading on SMILE ERP portal for Ph.D?'''"
   ]
  },
  {
   "cell_type": "code",
   "execution_count": 59,
   "id": "f33a9fbd-9cdb-408c-9f9e-cefcb53a93db",
   "metadata": {},
   "outputs": [],
   "source": [
    "llm_response = rag(query)"
   ]
  },
  {
   "cell_type": "code",
   "execution_count": 61,
   "id": "b991e1b5-a183-475b-bfb3-cbbdaabf9ab5",
   "metadata": {},
   "outputs": [
    {
     "data": {
      "text/plain": [
       "'To register and upload documents on the SMILE ERP portal, follow these steps:\\n\\n1.  Go to erp.nitw.ac.in/ext/adm/login.\\n2.  Enter your Email, Mobile No, Full Name & Date of Birth (as provided during application).\\n3.  Enter the Token and OTP sent to your registered email to create and confirm your password (Alphanumeric only).\\n4.  Sign in using your Email ID and Password.\\n5.  Select your concerned advertisement and click on \"Apply,\" then select your program and put choice as “1”.\\n6.  Verify your email using the Email Token and OTP.\\n7.  After confirmation, click on “My Applications” then click on “View” to proceed.\\n8.  Fill in all details by selecting each left panel (Personal, Education, Qualifying, Payment Details, Document upload and Freeze application).\\n9.  Pay the Institute fee and Hostel fee (if applicable).\\n10. Upload all the required documents.\\n11. Freeze the application once each section is completed. After the application is freezed, check all sections must be changed from red to green color.\\n12. After verification, take a printout of biodata from your login and submit it during physical reporting.\\n\\n(SOURCE: url: https://nitw.ac.in/cdis/assets/images/docs/Admission_Steps_ERP.pdf\\nurl: https://nitw.ac.in/cdis/assets/images/docs/Admission_Steps_ERP.pdf\\nurl: https://nitw.ac.in/api/static/files/Admission_Candidate_Steps_-_2024_2024-6-18-10-2-32.pdf\\nurl: https://nitw.ac.in/api/static/files/Admission_Candidate_Steps_-_2024_2024-6-18-10-2-32.pdf)\\n'"
      ]
     },
     "execution_count": 61,
     "metadata": {},
     "output_type": "execute_result"
    }
   ],
   "source": [
    "llm_response"
   ]
  },
  {
   "cell_type": "code",
   "execution_count": null,
   "id": "bffc9bda-fc3d-4912-8091-ba8313e03e9e",
   "metadata": {},
   "outputs": [],
   "source": [
    "def evaluate_relevance(question: str, answer_llm: str) -> dict:\n",
    "    prompt2_template = \"\"\"\n",
    "You are an expert evaluator for a Retrieval-Augmented Generation (RAG) system.\n",
    "Your task is to analyze the relevance of the generated answer to the given question.\n",
    "Based on the relevance of the generated answer, you will classify it\n",
    "as \"NON_RELEVANT\", \"PARTLY_RELEVANT\", or \"RELEVANT\".\n",
    "\n",
    "Here is the data for evaluation:\n",
    "\n",
    "Question: {question}\n",
    "Generated Answer: {answer_llm}\n",
    "\n",
    "Please analyze the content and context of the generated answer in relation to the question\n",
    "and provide your evaluation in parsable JSON without using code blocks:\n",
    "\n",
    "{{\n",
    "  \"Relevance\": \"NON_RELEVANT\" | \"PARTLY_RELEVANT\" | \"RELEVANT\",\n",
    "  \"Explanation\": \"[Provide a brief explanation for your evaluation]\"\n",
    "}}\n",
    "\"\"\".strip()\n",
    "\n",
    "    # Format the prompt with the question and answer\n",
    "    evaluation_prompt = prompt2_template.format(question=question, answer_llm=answer_llm)\n",
    "\n",
    "    # Get the evaluation from the LLM\n",
    "    evaluation_response = llm_haiku(evaluation_prompt)\n",
    "\n",
    "    # Parse the JSON response\n",
    "    try:\n",
    "        evaluation_result = json.loads(evaluation_response)\n",
    "    except json.JSONDecodeError:\n",
    "        # If JSON parsing fails, return an error result\n",
    "        return {\n",
    "            \"Relevance\": \"ERROR\",\n",
    "            \"Explanation\": \"Failed to parse LLM response as JSON\"\n",
    "        }\n",
    "\n",
    "    # Validate the structure of the parsed result\n",
    "    if \"Relevance\" not in evaluation_result or \"Explanation\" not in evaluation_result:\n",
    "        return {\n",
    "            \"Relevance\": \"ERROR\",\n",
    "            \"Explanation\": \"LLM response does not contain expected fields\"\n",
    "        }\n",
    "\n",
    "    # Validate the Relevance value\n",
    "    if evaluation_result[\"Relevance\"] not in [\"NON_RELEVANT\", \"PARTLY_RELEVANT\", \"RELEVANT\"]:\n",
    "        evaluation_result[\"Relevance\"] = \"ERROR\"\n",
    "        evaluation_result[\"Explanation\"] += \" (Invalid Relevance value)\"\n",
    "\n",
    "    rouge = Rouge()\n",
    "    scores = rouge.get_scores(answer_llm, question)\n",
    "    # Add ROUGE scores to the evaluation result as plain text\n",
    "    evaluation_result[\"ROUGE_1\"] = scores[0]['rouge-1']['f']\n",
    "    evaluation_result[\"ROUGE_2\"] = scores[0]['rouge-2']['f']\n",
    "    evaluation_result[\"ROUGE_3\"] = scores[0]['rouge-l']['f']\n",
    "    \n",
    "    \n",
    "    \n",
    "    return evaluation_result\n",
    "     \n"
   ]
  },
  {
   "cell_type": "code",
   "execution_count": null,
   "id": "8d8bacea-c4fd-4bfa-ab0e-551c3259d166",
   "metadata": {},
   "outputs": [],
   "source": [
    "version = \"text+simple\"\n",
    "relevance_list = []\n",
    "for i in range(5,8):\n",
    "    question = ground_truth[i][\"question\"]\n",
    "    answer = rag(question, version)\n",
    "    score = evaluate_relevance(question, answer)\n",
    "    score[\"question\"] = question\n",
    "    score[\"answer\"] = answer\n",
    "    relevance_list.append(score)"
   ]
  }
 ],
 "metadata": {
  "kernelspec": {
   "display_name": "Python 3 (ipykernel)",
   "language": "python",
   "name": "python3"
  },
  "language_info": {
   "codemirror_mode": {
    "name": "ipython",
    "version": 3
   },
   "file_extension": ".py",
   "mimetype": "text/x-python",
   "name": "python",
   "nbconvert_exporter": "python",
   "pygments_lexer": "ipython3",
   "version": "3.10.16"
  }
 },
 "nbformat": 4,
 "nbformat_minor": 5
}
