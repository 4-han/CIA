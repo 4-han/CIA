{
 "cells": [
  {
   "cell_type": "code",
   "execution_count": 6,
   "id": "adecc128-1db0-4d3b-9fc1-d56fc1dd55c9",
   "metadata": {},
   "outputs": [],
   "source": [
    "import json\n",
    "import pandas as pd\n",
    "with open('../data/database.json', 'r') as f_in:\n",
    "    documents = json.load(f_in)\n"
   ]
  },
  {
   "cell_type": "code",
   "execution_count": 32,
   "id": "97ac6b7e-3a56-4def-9961-a28f73f44868",
   "metadata": {},
   "outputs": [],
   "source": [
    "from rouge import Rouge"
   ]
  },
  {
   "cell_type": "code",
   "execution_count": 28,
   "id": "328861fc-dfed-4575-8df8-95063eb5714f",
   "metadata": {},
   "outputs": [],
   "source": [
    "df_ground_truth = pd.read_csv('../data/ground-truth-data.csv')\n",
    "ground_truth = df_ground_truth.to_dict(orient='records')"
   ]
  },
  {
   "cell_type": "code",
   "execution_count": 6,
   "id": "8ee3e666-a645-49d2-9568-5a89679f261f",
   "metadata": {},
   "outputs": [],
   "source": [
    "doc_idx = {d['url']: d for d in documents}"
   ]
  },
  {
   "cell_type": "code",
   "execution_count": 2,
   "id": "6dd19b56-4911-42ef-a656-363644299811",
   "metadata": {},
   "outputs": [],
   "source": [
    "from sentence_transformers import SentenceTransformer\n",
    "\n",
    "model_name = 'multi-qa-MiniLM-L6-cos-v1'\n",
    "model = SentenceTransformer(model_name)"
   ]
  },
  {
   "cell_type": "code",
   "execution_count": 3,
   "id": "ab83d154-f8b2-48c4-8137-065d6690a6be",
   "metadata": {},
   "outputs": [
    {
     "data": {
      "text/plain": [
       "ObjectApiResponse({'acknowledged': True, 'shards_acknowledged': True, 'index': 'course-questions'})"
      ]
     },
     "execution_count": 3,
     "metadata": {},
     "output_type": "execute_result"
    }
   ],
   "source": [
    "from elasticsearch import Elasticsearch\n",
    "es_client = Elasticsearch('http://localhost:9200')\n",
    "index_settings = {\n",
    "    \"settings\": {\n",
    "        \"number_of_shards\": 1,\n",
    "        \"number_of_replicas\": 0\n",
    "    },\n",
    "    \"mappings\": {\n",
    "        \"properties\": {\n",
    "            \"url\": {\"type\": \"text\"},\n",
    "            \"date\": {\"type\": \"text\"},\n",
    "            \"title\": {\"type\": \"text\"},\n",
    "            \"info\": {\"type\": \"text\"}\n",
    "        }\n",
    "    }\n",
    "}\n",
    "\n",
    "index_name = \"course-questions\"\n",
    "\n",
    "es_client.indices.delete(index=index_name, ignore_unavailable=True)\n",
    "es_client.indices.create(index=index_name, body=index_settings)\n"
   ]
  },
  {
   "cell_type": "code",
   "execution_count": 8,
   "id": "333ed444-dc31-4ee2-825e-cb18ea340cb6",
   "metadata": {},
   "outputs": [],
   "source": [
    "from tqdm.auto import tqdm"
   ]
  },
  {
   "cell_type": "code",
   "execution_count": 9,
   "id": "9c4455e5-724c-43fe-b1e2-a9e6f5f3de92",
   "metadata": {},
   "outputs": [
    {
     "data": {
      "application/vnd.jupyter.widget-view+json": {
       "model_id": "b21aa27bb0a548349b2c7d8dca6b60ae",
       "version_major": 2,
       "version_minor": 0
      },
      "text/plain": [
       "  0%|          | 0/89 [00:00<?, ?it/s]"
      ]
     },
     "metadata": {},
     "output_type": "display_data"
    }
   ],
   "source": [
    "from tqdm.auto import tqdm\n",
    "for doc in tqdm(documents):\n",
    "    es_client.index(index=index_name, document=doc)"
   ]
  },
  {
   "cell_type": "code",
   "execution_count": 10,
   "id": "7ee7efd4-5c01-4145-8668-50e8dddfc76f",
   "metadata": {},
   "outputs": [],
   "source": [
    "def elastic_search(query):\n",
    "    search_query = {\n",
    "        \"size\": 5,\n",
    "        \"query\": {\n",
    "            \"bool\": {\n",
    "                \"must\": {\n",
    "                    \"multi_match\": {\n",
    "                        \"query\": query,\n",
    "                        \"fields\": [\"title^2\", \"info\"],\n",
    "                        \"type\": \"best_fields\"\n",
    "                    }\n",
    "                }\n",
    "            }\n",
    "        }\n",
    "    }\n",
    "\n",
    "    response = es_client.search(index=index_name, body=search_query)\n",
    "    \n",
    "    result_docs = []\n",
    "    \n",
    "    for hit in response['hits']['hits']:\n",
    "        result_docs.append(hit['_source'])\n",
    "    \n",
    "    return result_docs"
   ]
  },
  {
   "cell_type": "code",
   "execution_count": 4,
   "id": "e0b4bd08-7327-4b54-9c52-b8434713284f",
   "metadata": {},
   "outputs": [],
   "source": [
    "def chunk_data(raw_doc, chunk_size=4999, overlap=100):\n",
    "    def chunk_content(content, chunk_size=4999, overlap=100):\n",
    "        chunks = []\n",
    "        start = 0\n",
    "        while start < len(content):\n",
    "            end = start + chunk_size\n",
    "            chunk = content[start:end]\n",
    "            chunks.append(chunk)\n",
    "            start = end - overlap\n",
    "        return chunks\n",
    "\n",
    "    chunked_data = []\n",
    "    for doc in raw_doc:\n",
    "        content_chunks = chunk_content(doc['info'], chunk_size, overlap)\n",
    "        for i, chunk in enumerate(content_chunks):\n",
    "            chunked_data.append({\n",
    "                'url': doc['url'],\n",
    "                'date': doc['date'],\n",
    "                'title': doc['title'],\n",
    "                'info': chunk\n",
    "            })\n",
    "    \n",
    "    return chunked_data"
   ]
  },
  {
   "cell_type": "code",
   "execution_count": 7,
   "id": "7df5f984-e781-4383-8d7a-5bb128027c21",
   "metadata": {},
   "outputs": [],
   "source": [
    "data_chunk = chunk_data(documents)"
   ]
  },
  {
   "cell_type": "code",
   "execution_count": 26,
   "id": "9d660b44-77fb-4249-ba1e-e8ea150cd48b",
   "metadata": {},
   "outputs": [
    {
     "data": {
      "text/plain": [
       "{'url': 'https://nitw.ac.in/api/static/files/Note_to_publish_OpenElective_courses-allot_2024-7-30-11-19-2.pdf',\n",
       " 'date': '2024-07-30',\n",
       " 'title': 'Allotment of Open Elective Courses to B.Tech. IV Year Students_Reg | Allotment of Open Elective Courses to B.Tech. IV Year Students_Reg',\n",
       " 'info': ' Karthikeya 60 21EEB0A29 Karan Mankani 61 21EEB0A17 Botla Shresta 62 21MEB0B21 Goni Mohan 63 21BTB0A12 Daga Sahaj Kumar 64 21EEB0B60 Uday Pratap Singh 65 21BTB0A19 Dishant Maithani 66 21MEB0B11 Dodda Sri Tej Deep Reddy 67 21CEB0B52 Syed Abdul Nadeem 68 21CSB0A39 Neerati Bhuvanesh 69 21MEB0B03 Akash Sharma 70 21ECB0B10 Challa Sivaram 71 21ECB0B28 Kosaraju Ajay Kumar 72 21CEB0B38 Potugalla Vivek 73 21CEB0A01 Adarsh Kumar 74 21MEB0B20 Donthi Aneesh Raj 75 21CEB0A10 Briansalcheang R Marak 76 21CEB0A43 Rathod Nirajkumar Kanhiram 77 21CEB0A16 Guntur Jayadeep 78 21ECB0A19 Guguloth Jayavardhan 79 21BTB0A06 Aditya Rajubhai Parmar 80 21MEB0B16 Jitender Patel \\n\\n3. Open Elective ME445 Alternative Sources of Energy Sl. No. Roll No Name 1 21CSB0B23 Jaiditya Beeraka 2 21CSB0B59 Tattukolla Charishma 3 21EEB0B13 Bayya Eka Rupa Vallabha Sneha 4 21CSB0B12 Chityala Sai Ashish Reddy 5 21CEB0A62 Uppuluri Varshini 6 21MMB0A29 Jai Punjabi 7 21CEB0A29 Midathada Layasri 8 21CEB0B14 Gaurav Kumar 9 21CSB0B45 Rachamadugu Naga Sai Charitha 10 21CSB0B25 Kaluva Siddhardh 11 21EEB0B10 Avancha Sai Madhava 12 21CEB0A25 Macherla Rishika 13 21EEB0B43 P Nitin Chinmay 14 21CEB0A36 Parnem Shiva Sumani 15 21CSB0B37 Muramsetti Abhi Sai 16 21CSB0F32 Shreyas Chirasseril Sivan 17 21CSB0B39 P S Sai Ratan 18 21ECB0B14 Elikanti Sandeep 19 21ECB0A27 Killamsetti Rajesh 20 21CSB0A27 Kanukuntla Jahnavi 21 21CSB0F33 Keshna Trivedi 22 21EEB0B48 Peeka Sanjana 23 21ECB0A38 Nallapu Akhila 24 21CSB0B14 Divyansh Chaudhary 25 21CHB0B40 Madhav 26 21EEB0B39 Mangipudi Mahati 27 21CSB0F24 Chandra Mohan Sah 28 21CEB0B45 Sairam Kashyap Yadav Chinnala 29 21ECB0F12 Prakash Sharma 30 21BTB0A29 Devavrata Patel 31 21ECB0F21 Safiyya Ishaq Syed 32 21CEB0A39 Pullakandam Saketh Ram 33 21CHB0A14 Dekka Hymavathi 34 21EEB0B18 Chanda Karthikeya 35 21BTB0A24 Hershit Rustagi 36 21CHB0B37 Kukudala Srishanth Reddy 37 21CSB0A16 Elkapelly Pranay Suhas 38 21EEB0A66 Vaibhav Kadam 39 21CHB0A57 Yashovardhan Srivastava 40 21CSB0B65 Verma Abhinav Basantkumar 41 21CHB0B52 Sarfaraz Mohammed 42 21CSB0B53 Shubham Singha Roy 43 21EEB0B56 Singam Sai Vara Prasad 44 21EEB0B61 V Laxman 45 21MMB0A04 Anurag Verma 46 21CEB0A41 Shiva Tiwari 47 21CHB0B45 Pathrikar Omkar Arvind 48 21CSB0A12 Chippa Amarindhraa Sai 49 21ECB0A55 Seeram Praba Karthikeya 50 21MMB0A71 Tekumalla Tejaswi 51 21MMB0A57 Pratik Prakash Dhakne 52 21EEB0B01 Abbidi Sreedhar Reddy 53 21ECB0B05 Bujoor Ranadheer Reddy 54 21CEB0A07 Balabhadra Srivatsav 55 21CEB0A27 Madhur Awasthi 56 21CHB0B22 Jami Sanat Kumar 57 21CSB0F02 Shreya Kyasaram 58 21EEB0B59 Tanmay Kumar Tewary 59 21CSB0F01 Ratnakaram Venkata Sai Sidhartha 60 21CEB0A32 Nandipalli Sivani 61 21CHB0B41 Rahul Kumar 62 21CSB0A18 Gayam Anusha Vennela Reddy 63 21ECB0B45 Sattaru Vijaya Vighneswara Reddy 64 21CSB0A58 Tanu Priya 65 21EEB0B32 Koppula Kumar Venkat 66 21CEB0A11 Chintakuntla Saivarun 67 21EEB0A09 Betmogarekar Sushant Balajirao 68 21CHB0A29 Mohammad Sameer Ur Rahman 69 21EEB0B42 Muppani Siddhartha Reddy 70 21BTB0A51 Nashwan Nawras 71 21CHB0A37 Nirmal Philip Kalapurackal 72 21CEB0A08 Badshetty Vignesh 73 21CEB0B34 Pabitra Kumar Mandal 74 21CEB0B63 Srikota Akshay 75 21CHB0A02 Abhinav Raj 76 21CHB0A15 Geddavalasa Sreeja 77 21CSB0A02 Adya Anant 78 21CSB0F36 Anubhav Agrawal 79 21CEB0B43 Ravi Kumar Meena 80 21CHB0A38 Pamulapati Santoshitha \\n\\n4. Open Elective EE446 Principles of Electrical Power Conversion Sl.No. Roll No Name 1 21ECB0B53 Sarvepalli Satya Shantha Mahathi 2 21CHB0A44 Rupam Mondal 3 21ECB0B27 Maisa Vasanth Rao 4 21ECB0B58 Somaraju Sai Rohith 5 21ECB0B55 Seggam Ramyalaxmi 6 21MEB0B41 Mir Rahaman 7 21CHB0A22 Jahnsan Kumar Basumatary 8 20CHB0A64 Anurag Ghosh 9 21CHB0A31 Md Haris Manzar 10 21ECB0B08 Buyya Karthik 11 21ECB0A39 Padala Sachit Anand 12 21ECB0B48 Rishendra Tiruveedhula 13 21ECB0B21 Kaveti Shrikar 14 21ECB0B65 Voorugonda Rahul 15 21MEB0A44 Patta Ajay Naidu 16 21MEB0B39 Mamidipalli Sri Vyshnavi 17 21ECB0F10 Aryan Prashant Desai 18 21ECB0B29 Manem Lakshmi Chaitanya 19 21MEB0A46 Palle Vinay Kumar 20 21ECB0A63 Thota Sandeep 21 21ECB0B12 Dasi Manjulatha 22 21MEB0B38 Madhara Dhanush 23 21CSB0B02 Aman Gupta 24 21CEB0A30 Mohammed Muzzammil Farooqui 25 21CHB0A39 Pankaj Dehariya 26 21BTB0A13 Arka Mishra 27 21CSB0B46 Rajat Rohan 28 21CSB0B56 Sunny Kumar 29 21CEB0B26 Kosireddi Subrahmanya Ujval Kumar 30 21CSB0B15 Elagonda Vivek 31 21ECB0B47 Simmasarthi Leela Krishna Prasad 32 20MEB0B74 Kornana Roja \\n\\n5. Open Elective ME444 Machine Learning for Materials \\n\\nSl. No. Roll No Name 1 21CHB0A59 Thupally Varshith Reddy 2 21ECB0B34 Mankala Srujan 3 21MMB0A15 Challa Sharmila 4 21ECB0F30 Shrutika Ramadurai 5 21BTB0A17 Beerelli Shivaram 6 21MMB0A67 Sriman V 7 21EEB0A05 Ankan Sen 8 21EEB0F01 Baradhi Manoj 9 21MMB0A78 Vangala Sanvi Rikthik Reddy 10 21ECB0A22 Jadav Pravalika 11 21CEB0B42 Ramineni Yoochanna Sry 12 21ECB0A25 Kanne Akhileshwar Yadav 13 21EEB0A51 Puvvula Hemanurag Sai 14 21MMB0A26 Guthi Manoj Kumar 15 21CEB0B27 Ladi Goutam 16 21ECB0B68 Yug Parale 17 21CHB0A28 Maruboina Shashank 18 21M'}"
      ]
     },
     "execution_count": 26,
     "metadata": {},
     "output_type": "execute_result"
    }
   ],
   "source": [
    "data_chunk[72]"
   ]
  },
  {
   "cell_type": "code",
   "execution_count": null,
   "id": "9d714c0d-93e0-4cf4-a74c-2695adddce64",
   "metadata": {},
   "outputs": [],
   "source": [
    "\n",
    "for doc in tqdm(data_chunk):\n",
    "    doc['header_vector'] = model.encode(doc['header'])\n",
    "    doc['main_content_vector'] = model.encode(doc['main_content'])"
   ]
  },
  {
   "cell_type": "code",
   "execution_count": null,
   "id": "b21ed8c6-6046-4345-8b29-42e8d9978868",
   "metadata": {},
   "outputs": [],
   "source": [
    "for doc in tqdm(data_chunk):\n",
    "    doc['header_vector'] = model.encode(doc['header'])\n",
    "    doc['main_content_vector'] = model.encode(doc['main_content'])"
   ]
  },
  {
   "cell_type": "code",
   "execution_count": 9,
   "id": "dd674a16-57ff-41aa-9b5e-908222a1c1d6",
   "metadata": {},
   "outputs": [
    {
     "data": {
      "application/vnd.jupyter.widget-view+json": {
       "model_id": "dc36cfb1a9474f968868b39f565e164e",
       "version_major": 2,
       "version_minor": 0
      },
      "text/plain": [
       "  0%|          | 0/184 [00:00<?, ?it/s]"
      ]
     },
     "metadata": {},
     "output_type": "display_data"
    },
    {
     "ename": "NameError",
     "evalue": "name 'es_client' is not defined",
     "output_type": "error",
     "traceback": [
      "\u001b[0;31m---------------------------------------------------------------------------\u001b[0m",
      "\u001b[0;31mNameError\u001b[0m                                 Traceback (most recent call last)",
      "Cell \u001b[0;32mIn[9], line 2\u001b[0m\n\u001b[1;32m      1\u001b[0m \u001b[38;5;28;01mfor\u001b[39;00m doc \u001b[38;5;129;01min\u001b[39;00m tqdm(data_chunk):\n\u001b[0;32m----> 2\u001b[0m     \u001b[43mes_client\u001b[49m\u001b[38;5;241m.\u001b[39mindex(index\u001b[38;5;241m=\u001b[39mindex_name_vector, document\u001b[38;5;241m=\u001b[39mdoc)\n",
      "\u001b[0;31mNameError\u001b[0m: name 'es_client' is not defined"
     ]
    }
   ],
   "source": [
    "for doc in tqdm(data_chunk):\n",
    "    es_client.index(index=index_name_vr, document=doc)"
   ]
  },
  {
   "cell_type": "markdown",
   "id": "bcf73209-f4c9-461e-92b6-6d41771f4526",
   "metadata": {},
   "source": [
    "## LLM SETUP"
   ]
  },
  {
   "cell_type": "code",
   "execution_count": 12,
   "id": "a5ffdc1e-84a2-4213-b1a8-bdc70763ba87",
   "metadata": {},
   "outputs": [],
   "source": [
    "from openai import OpenAI\n",
    "from google import genai\n",
    "client_gemini = genai.Client()\n",
    "client_openai = OpenAI(base_url=\"https://openrouter.ai/api/v1\")"
   ]
  },
  {
   "cell_type": "code",
   "execution_count": 26,
   "id": "c2b4af32-e047-4649-9752-b886974e902c",
   "metadata": {},
   "outputs": [],
   "source": [
    "def llm_openai(prompt):\n",
    "    response = client_openai.chat.completions.create(\n",
    "        model=\"mistralai/mixtral-8x7b-instruct\",\n",
    "        messages=[\n",
    "            {\"role\": \"user\", \"content\": prompt }\n",
    "        ]\n",
    "    )\n",
    "    \n",
    "    return response.choices[0].message.content \n",
    "\n",
    "def llm_gemini(prompt):\n",
    "    response = client_gemini.models.generate_content(\n",
    "        model=\"gemini-2.0-flash\",\n",
    "        contents=prompt ,\n",
    ")\n",
    "    return response.text"
   ]
  },
  {
   "cell_type": "code",
   "execution_count": 49,
   "id": "e1753556-37d6-4a67-843d-ed7176d66a2e",
   "metadata": {},
   "outputs": [],
   "source": [
    "def prompt_builder(query, search_results):       \n",
    "        prompt_template = \"\"\"You are an AI assistant designed to help students of NIT Warangal (NITW) by answering their questions accurately and responsibly.\n",
    "\n",
    "You are provided with CONTEXT retrieved from trusted NITW sources. Your job is to:\n",
    "\n",
    "1.  Base your answer *primarily* on the provided CONTEXT. Synthesize information from the context to address the user's query as accurately as possible.\n",
    "2.  Do NOT use any outside or prior knowledge. Your response must be derived *solely* from the provided context.\n",
    "3.  **Handling Insufficient or Loosely Related Context:**\n",
    "    *   If the context does not contain a direct or complete answer to the query, do *not* invent information.\n",
    "    *   Instead, summarize the most relevant information found in the context related to the query.\n",
    "    *   If the context is only loosely related or minimal, acknowledge the query and provide the relevant context snippets or simply list the source URL(s) as the best available information based on the text provided.\n",
    "    *   Do *not* use the phrase \"I could not find a verified answer to that in the available information.\"\n",
    "4.  **Crucially:** Do NOT hallucinate. Only state facts or information that are explicitly mentioned or clearly inferable *from the provided context*.\n",
    "5.  ALWAYS cite the source(s) used by including the URL(s) at the end of your response.\n",
    "\n",
    "Now, answer the following question:{query}\n",
    "URL: {url}\n",
    "\n",
    "CONTEXT: {context}\n",
    "\n",
    "INSTRUCTIONS:\n",
    "- Only use facts and information derived *strictly* from the context.\n",
    "- Do not assume, generate, or state information not backed by the context.\n",
    "- If a direct answer isn't possible from the context, provide relevant summaries or snippets from the context instead.\n",
    "- Make your response clear and concise.\n",
    "- At the end of your answer, include a reference to the source like:\n",
    "(SOURCE: {url})\n",
    "\"\"\".strip()\n",
    "        \n",
    "        \n",
    "        context = \"\"\n",
    "        sources = \"\"\n",
    "        for doc in search_results:\n",
    "            context = context + f\"title: {doc['title']}\\ninfo: {doc['info']}\\n\\n\"\n",
    "            sources += f\"url: {doc['url']}\\n\"\n",
    "            \n",
    "        \n",
    "        prompt = prompt_template.format(url=sources, context=context , query=query).strip()\n",
    "        return prompt"
   ]
  },
  {
   "cell_type": "code",
   "execution_count": 50,
   "id": "68d219ce-9e05-4965-947a-9241a142f17a",
   "metadata": {},
   "outputs": [],
   "source": [
    "def rag(query):\n",
    "\n",
    "    search_results = search(query)\n",
    "    prompt = prompt_builder(query, search_results)\n",
    "    answer = llm_gemini(prompt)\n",
    "    return answer"
   ]
  },
  {
   "cell_type": "code",
   "execution_count": 51,
   "id": "828f92ef-d843-47fd-9f00-c7c894f12f6a",
   "metadata": {},
   "outputs": [],
   "source": [
    "query = 'With the revised guidelines for tuition fee remission, how will the institute ensure equitable access to these benefits for students from diverse socio-economic backgrounds, especially considering potential variations in documentation and verification processes across different regions?'"
   ]
  },
  {
   "cell_type": "code",
   "execution_count": 52,
   "id": "f33a9fbd-9cdb-408c-9f9e-cefcb53a93db",
   "metadata": {},
   "outputs": [],
   "source": [
    "llm_response = rag(query)"
   ]
  },
  {
   "cell_type": "code",
   "execution_count": 53,
   "id": "b991e1b5-a183-475b-bfb3-cbbdaabf9ab5",
   "metadata": {},
   "outputs": [
    {
     "data": {
      "text/plain": [
       "'I am unable to answer the question about how NIT Warangal will ensure equitable access to tuition fee remission benefits for students from diverse socio-economic backgrounds. The provided documents focus on tuition fee payment procedures in ERP and guidelines for various NSP scholarships, but do not contain information about revised guidelines for tuition fee remission and ensuring equitable access for students from diverse socio-economic backgrounds.\\n\\nHowever, the following information regarding NSP scholarships at NIT Warangal may be relevant:\\n\\n*   **NSP Scholarship Application Details**:\\n    *   NIT Warangal has published the \"NATIONAL SCHOLARSHIP PORTAL (NSP) – 2024-25” notification.\\n    *   The last date for online application is 31.10.2024 and for submission of soft copies through email id acad_nspscholarships@nitw.ac.in and hard copies physically at Academic Section, and NIT Warangal on or before 31.10.2024.\\n*   **Verification Process**:\\n    *   Verification of student credentials such as caste and educational qualifications are done through DIGILOCKER.\\n    *   Online applications are verified at two levels: by the Institute and by the State Higher Education Department or a nominated State Nodal Agency.\\n*   **Reservation Policy**:\\n    *   Students from reserved categories/weaker sections/minorities are eligible for reservation based on merit, subject to Central Reservation Policy (15% for SCs, 7.5% for STs, 27% for OBCs, and 5% horizontal reservation for PwDs).\\n\\n(SOURCE: url: https://nitw.ac.in/api/static/files/Tuition_Fee_Payment_Procedure_in_ERP_(except_I_-_Year)_2024-7-15-12-15-23.pdf\\nurl: https://nitw.ac.in/api/static/files/NSP_2024-25__Institute_Guildliness_2024-9-5-9-49-0.pdf\\nurl: https://nitw.ac.in/api/static/files/NSP_2024-25__Institute_Guildliness_2024-9-5-9-49-0.pdf\\nurl: https://nitw.ac.in/api/static/files/NSP_2024-25__Institute_Guildliness_2024-9-5-9-49-0.pdf\\nurl: https://nitw.ac.in/api/static/files/NSP_2024-25__Institute_Guildliness_2024-9-5-9-49-0.pdf)'"
      ]
     },
     "execution_count": 53,
     "metadata": {},
     "output_type": "execute_result"
    }
   ],
   "source": [
    "llm_response"
   ]
  },
  {
   "cell_type": "code",
   "execution_count": 30,
   "id": "bffc9bda-fc3d-4912-8091-ba8313e03e9e",
   "metadata": {},
   "outputs": [],
   "source": [
    "def evaluate_relevance(question: str, answer_llm: str) -> dict:\n",
    "    prompt2_template = \"\"\"\n",
    "You are an expert evaluator for a Retrieval-Augmented Generation (RAG) system.\n",
    "Your task is to analyze the relevance of the generated answer to the given question.\n",
    "Based on the relevance of the generated answer, you will classify it\n",
    "as \"NON_RELEVANT\", \"PARTLY_RELEVANT\", or \"RELEVANT\".\n",
    "\n",
    "Here is the data for evaluation:\n",
    "\n",
    "Question: {question}\n",
    "Generated Answer: {answer_llm}\n",
    "\n",
    "Please analyze the content and context of the generated answer in relation to the question\n",
    "and provide your evaluation in parsable JSON without using code blocks:\n",
    "\n",
    "{{\n",
    "  \"Relevance\": \"NON_RELEVANT\" | \"PARTLY_RELEVANT\" | \"RELEVANT\",\n",
    "  \"Explanation\": \"[Provide a brief explanation for your evaluation]\"\n",
    "}}\n",
    "\"\"\".strip()\n",
    "\n",
    "    # Format the prompt with the question and answer\n",
    "    evaluation_prompt = prompt2_template.format(question=question, answer_llm=answer_llm)\n",
    "\n",
    "    # Get the evaluation from the LLM\n",
    "    evaluation_response = llm_openai(evaluation_prompt)\n",
    "\n",
    "    # Parse the JSON response\n",
    "    try:\n",
    "        evaluation_result = json.loads(evaluation_response)\n",
    "    except json.JSONDecodeError:\n",
    "        # If JSON parsing fails, return an error result\n",
    "        return {\n",
    "            \"Relevance\": \"ERROR\",\n",
    "            \"Explanation\": \"Failed to parse LLM response as JSON\"\n",
    "        }\n",
    "\n",
    "    # Validate the structure of the parsed result\n",
    "    if \"Relevance\" not in evaluation_result or \"Explanation\" not in evaluation_result:\n",
    "        return {\n",
    "            \"Relevance\": \"ERROR\",\n",
    "            \"Explanation\": \"LLM response does not contain expected fields\"\n",
    "        }\n",
    "\n",
    "    # Validate the Relevance value\n",
    "    if evaluation_result[\"Relevance\"] not in [\"NON_RELEVANT\", \"PARTLY_RELEVANT\", \"RELEVANT\"]:\n",
    "        evaluation_result[\"Relevance\"] = \"ERROR\"\n",
    "        evaluation_result[\"Explanation\"] += \" (Invalid Relevance value)\"\n",
    "\n",
    "    rouge = Rouge()\n",
    "    scores = rouge.get_scores(answer_llm, question)\n",
    "    # Add ROUGE scores to the evaluation result as plain text\n",
    "    evaluation_result[\"ROUGE_1\"] = scores[0]['rouge-1']['f']\n",
    "    evaluation_result[\"ROUGE_2\"] = scores[0]['rouge-2']['f']\n",
    "    evaluation_result[\"ROUGE_3\"] = scores[0]['rouge-l']['f']\n",
    "    \n",
    "    \n",
    "    \n",
    "    return evaluation_result\n",
    "     \n"
   ]
  },
  {
   "cell_type": "code",
   "execution_count": null,
   "id": "c00905d3-af2e-4db5-9837-a31ecbfb247a",
   "metadata": {},
   "outputs": [],
   "source": []
  },
  {
   "cell_type": "code",
   "execution_count": 46,
   "id": "a18b7252-65a8-488f-9c75-59a209a25b92",
   "metadata": {},
   "outputs": [],
   "source": [
    "relevance_list = []"
   ]
  },
  {
   "cell_type": "code",
   "execution_count": 54,
   "id": "8d8bacea-c4fd-4bfa-ab0e-551c3259d166",
   "metadata": {},
   "outputs": [],
   "source": [
    "\n",
    "for i in range(15, 20):\n",
    "    question = ground_truth[i][\"question\"]\n",
    "    answer = rag(question)\n",
    "    score = evaluate_relevance(question, answer)\n",
    "    score[\"question\"] = question\n",
    "    score[\"answer\"] = answer\n",
    "    relevance_list.append(score)"
   ]
  },
  {
   "cell_type": "code",
   "execution_count": 55,
   "id": "69a5fe9c-21ec-42c0-948f-c222ae48a116",
   "metadata": {},
   "outputs": [
    {
     "data": {
      "text/plain": [
       "[{'Relevance': 'NON_RELEVANT',\n",
       "  'Explanation': 'The generated answer does not provide any information or details related to the question about the revised guidelines for tuition fee remission, ensuring equitable access for students from diverse socio-economic backgrounds, or potential variations in documentation and verification processes across different regions.',\n",
       "  'ROUGE_1': 0.09836065080354768,\n",
       "  'ROUGE_2': 0.0,\n",
       "  'ROUGE_3': 0.06557376555764616,\n",
       "  'question': 'With the revised guidelines for tuition fee remission, how will the institute ensure equitable access to these benefits for students from diverse socio-economic backgrounds, especially considering potential variations in documentation and verification processes across different regions?',\n",
       "  'answer': 'I could not find a verified answer to that in the available information. Please refer to official sources or contact the relevant NITW department by visiting nitw.ac.in.\\n'},\n",
       " {'Relevance': 'NON_RELEVANT',\n",
       "  'Explanation': 'The generated answer does not provide any information related to the specific metrics or indicators for assessing the effectiveness of the revised guidelines, nor does it mention the frequency of evaluation and reporting. Instead, it advises to refer to official sources or contact the relevant department.',\n",
       "  'ROUGE_1': 0.13114753609244845,\n",
       "  'ROUGE_2': 0.028169009307677857,\n",
       "  'ROUGE_3': 0.09836065084654688,\n",
       "  'question': 'The notification mentions potential changes in the remission criteria. What specific metrics or indicators will be used to assess the effectiveness of the revised guidelines in achieving their intended objectives, and how frequently will these metrics be evaluated and reported to the student body?',\n",
       "  'answer': 'I could not find a verified answer to that in the available information. Please refer to official sources or contact the relevant NITW department by visiting nitw.ac.in.'},\n",
       " {'Relevance': 'NON_RELEVANT',\n",
       "  'Explanation': 'The generated answer does not provide any information related to the presence or absence of support mechanisms such as enhanced scholarship programs or subsidized resources for students who qualify for tuition fee remission. Instead, it suggests consulting official sources or contacting the relevant department.',\n",
       "  'ROUGE_1': 0.08955223399420832,\n",
       "  'ROUGE_2': 0.0,\n",
       "  'ROUGE_3': 0.05970148772555174,\n",
       "  'question': 'Considering the increasing cost of living and other academic expenses beyond tuition fees, will there be any accompanying support mechanisms, such as enhanced scholarship programs or subsidized resources, to further alleviate the financial burden on students who qualify for tuition fee remission?',\n",
       "  'answer': 'I could not find a verified answer to that in the available information. Please refer to official sources or contact the relevant NITW department by visiting nitw.ac.in.\\n'},\n",
       " {'Relevance': 'NON_RELEVANT',\n",
       "  'Explanation': \"The generated answer does not provide any information regarding the handling of changes in a student's financial situation or the process for appealing decisions regarding remission applications. Instead, it suggests referring to official sources or contacting the relevant department.\",\n",
       "  'ROUGE_1': 0.06666666171666703,\n",
       "  'ROUGE_2': 0.0,\n",
       "  'ROUGE_3': 0.06666666171666703,\n",
       "  'question': \"How will the institute handle cases where a student's financial situation changes significantly during the academic year, potentially making them eligible for tuition fee remission mid-year, and what is the process for appealing decisions regarding remission applications?\",\n",
       "  'answer': 'I could not find a verified answer to that in the available information. Please refer to official sources or contact the relevant NITW department by visiting nitw.ac.in.\\n'},\n",
       " {'Relevance': 'NON_RELEVANT',\n",
       "  'Explanation': 'The generated answer does not provide any information related to the question about revised guidelines, measures for transparency, preventing biases, or grievance avenues for tuition fee remission. Instead, it recommends referring to official sources or contacting the relevant department.',\n",
       "  'ROUGE_1': 0.15384614904615398,\n",
       "  'ROUGE_2': 0.027027022322864223,\n",
       "  'ROUGE_3': 0.15384614904615398,\n",
       "  'question': 'In light of the revised guidelines, what measures will be implemented to ensure transparency and prevent any potential biases or discrepancies in the application and selection process for tuition fee remission, and what avenues are available for students to raise concerns or grievances related to this process?',\n",
       "  'answer': 'I could not find a verified answer to that in the available information. Please refer to official sources or contact the relevant NITW department by visiting nitw.ac.in.'},\n",
       " {'Relevance': 'NON_RELEVANT',\n",
       "  'Explanation': 'The generated answer does not provide any information regarding the revised guidelines for tuition fee remission or how the institute will ensure equitable access for students from diverse socio-economic backgrounds. Instead, it describes the tuition fee payment procedure, available scholarships, and the general procedure for NSP scholarship applications, which are only partially relevant to the question.',\n",
       "  'ROUGE_1': 0.25882352621176474,\n",
       "  'ROUGE_2': 0.1333333307061729,\n",
       "  'ROUGE_3': 0.2470588203294118,\n",
       "  'question': 'With the revised guidelines for tuition fee remission, how will the institute ensure equitable access to these benefits for students from diverse socio-economic backgrounds, especially considering potential variations in documentation and verification processes across different regions?',\n",
       "  'answer': \"I am unable to answer how the institute will ensure equitable access to tuition fee remission, as the provided documents do not contain information about the specific processes used to ensure equitable access, or how variations in documentation and verification processes across different regions will be handled. However, the documents do provide information on tuition fee payments and available scholarships.\\n\\nThe tuition fee payment procedure through ERP is as follows: log in to ERP, click on 'Accounts,' then 'Student Academic Fee Details,' proceed, and select a payment option. After successful payment, a receipt will be generated. Students paying fees through a bank loan can select the “Bank Transfer” option, print the details, and submit the challan to their respective bank branch. (SOURCE: url: https://nitw.ac.in/api/static/files/Tuition_Fee_Payment_Procedure_in_ERP_(except_I_-_Year)_2024-7-15-12-15-23.pdf)\\n\\nNIT Warangal provides notifications for NSP scholarships. Several scholarships are available for students from SC, OBC, EBC, DNT, ST, and students with disabilities. (SOURCE: url: https://nitw.ac.in/api/static/files/NSP_2024-25__Institute_Guildliness_2024-9-5-9-49-0.pdf\\nurl: https://nitw.ac.in/api/static/files/NSP_2024-25__Institute_Guildliness_2024-9-5-9-49-0.pdf\\nurl: https://nitw.ac.in/api/static/files/NSP_2024-25__Institute_Guildliness_2024-9-5-9-49-0.pdf)\\n\\nThe general procedure for NSP scholarship applications includes online application through the National Scholarships Portal (NSP), and verification of credentials through DIGILOCKER. Online applications are verified at two levels: by the Institute and by the State Higher Education Department or State Nodal Agency. (SOURCE: url: https://nitw.ac.in/api/static/files/NSP_2024-25__Institute_Guildliness_2024-9-5-9-49-0.pdf\\nurl: https://nitw.ac.in/api/static/files/NSP_2024-25__Institute_Guildliness_2024-9-5-9-49-0.pdf\\nurl: https://nitw.ac.in/api/static/files/NSP_2024-25__Institute_Guildliness_2024-9-5-9-49-0.pdf)\"},\n",
       " {'Relevance': 'NON_RELEVANT',\n",
       "  'Explanation': 'The generated answer does not provide any specific information related to the question, such as the metrics or indicators for assessing the revised guidelines or the frequency of evaluation. It only states that the documents do not contain the required information.',\n",
       "  'ROUGE_1': 0.5185185136107302,\n",
       "  'ROUGE_2': 0.37499999505425347,\n",
       "  'ROUGE_3': 0.5185185136107302,\n",
       "  'question': 'The notification mentions potential changes in the remission criteria. What specific metrics or indicators will be used to assess the effectiveness of the revised guidelines in achieving their intended objectives, and how frequently will these metrics be evaluated and reported to the student body?',\n",
       "  'answer': \"I'm sorry, but the provided documents do not contain information about specific metrics or indicators that will be used to assess the effectiveness of revised remission guidelines, nor do they detail how frequently these metrics will be evaluated and reported to the student body.\\n(SOURCE: url: https://nitw.ac.in/api/static/files/Note_to_publish-ATTENTION_TO_B.TECH_Students_2024-7-16-11-27-43.pdf\\nurl: https://nitw.ac.in/api/static/files/NSP_2024-25__Institute_Guildliness_2024-9-5-9-49-0.pdf\\nurl: https://nitw.ac.in/api/static/files/NSP_2024-25__Institute_Guildliness_2024-9-5-9-49-0.pdf\\nurl: https://nitw.ac.in/api/static/files/NSP_2024-25__Institute_Guildliness_2024-9-5-9-49-0.pdf\\nurl: https://nitw.ac.in/api/static/files/NSP_2024-25__Institute_Guildliness_2024-9-5-9-49-0.pdf\\n)\\n\"},\n",
       " {'Relevance': 'PARTLY_RELEVANT',\n",
       "  'Explanation': 'The generated answer is partially relevant because it directly addresses the topic of financial support for students in the form of scholarships. However, it does not explicitly mention whether there are enhanced scholarship programs or subsidized resources specifically for students who qualify for tuition fee remission and are affected by the increasing cost of living and other academic expenses beyond tuition. The answer refers to general scholarship information from the provided documents.',\n",
       "  'ROUGE_1': 0.3291139202691876,\n",
       "  'ROUGE_2': 0.10152283934345137,\n",
       "  'ROUGE_3': 0.2151898696362763,\n",
       "  'question': 'Considering the increasing cost of living and other academic expenses beyond tuition fees, will there be any accompanying support mechanisms, such as enhanced scholarship programs or subsidized resources, to further alleviate the financial burden on students who qualify for tuition fee remission?',\n",
       "  'answer': 'While the provided documents focus on tuition fee payments and various National Scholarship Portal (NSP) schemes, they do not explicitly address the question of enhanced support mechanisms to alleviate financial burdens due to the increasing cost of living and academic expenses beyond tuition for students qualifying for tuition fee remission.\\n\\nHowever, the documents do provide information on available scholarships. Some key points include:\\n\\n*   **NSP Scholarships:** Several scholarships are available through the National Scholarship Portal (NSP) for SC, OBC, EBC, DNT, and ST students.\\n*   **Eligibility Criteria:** Each scholarship has specific eligibility criteria, including family income limits and academic performance.\\n*   **Benefits:** The scholarships may cover non-refundable fees, living expenses, books and stationery, and even a computer/laptop for fresh applicants in some cases.\\n*   **Important Note:** Students eligible for NSP scholarships should not apply for or receive other scholarships from any sources; otherwise, the scholarship will be canceled and the amount refunded.\\n\\n(SOURCE: url: https://nitw.ac.in/api/static/files/Tuition_Fee_Payment_Procedure_in_ERP_(except_I_-_Year)_2024-7-15-12-15-23.pdf\\nurl: https://nitw.ac.in/api/static/files/NSP_2024-25__Institute_Guildliness_2024-9-5-9-49-0.pdf\\nurl: https://nitw.ac.in/api/static/files/NSP_2024-25__Institute_Guildliness_2024-9-5-9-49-0.pdf\\nurl: https://nitw.ac.in/api/static/files/NSP_2024-25__Institute_Guildliness_2024-9-5-9-49-0.pdf\\nurl: https://nitw.ac.in/api/static/files/NSP_2024-25__Institute_Guildliness_2024-9-5-9-49-0.pdf)'},\n",
       " {'Relevance': 'NON_RELEVANT',\n",
       "  'Explanation': 'The generated answer does not provide any information related to the question as it is not present in the provided documents. The content only covers notifications and guidelines for NSP scholarships for the academic year 2024-25.',\n",
       "  'ROUGE_1': 0.3655913932708984,\n",
       "  'ROUGE_2': 0.22641508985404066,\n",
       "  'ROUGE_3': 0.32258064058272634,\n",
       "  'question': \"How will the institute handle cases where a student's financial situation changes significantly during the academic year, potentially making them eligible for tuition fee remission mid-year, and what is the process for appealing decisions regarding remission applications?\",\n",
       "  'answer': \"I am unable to provide information on how the institute handles changes in a student's financial situation during the academic year or the process for appealing decisions regarding remission applications, as this information is not available in the provided context.\\n\\nThe provided documents primarily concern notifications for various NSP scholarships, eligibility conditions, required documents, and application procedures for the academic year 2024-25. (SOURCE: url: https://nitw.ac.in/api/static/files/NSP_2024-25__Institute_Guildliness_2024-9-5-9-49-0.pdf\\nurl: https://nitw.ac.in/api/static/files/Note_to_publish-ATTENTION_TO_B.TECH_Students_2024-7-16-11-27-43.pdf\\nurl: https://nitw.ac.in/api/static/files/NSP_2024-25__Institute_Guildliness_2024-9-5-9-49-0.pdf\\nurl: https://nitw.ac.in/api/static/files/NSP_2024-25__Institute_Guildliness_2024-9-5-9-49-0.pdf\\nurl: https://nitw.ac.in/api/static/files/NSP_2024-25__Institute_Guildliness_2024-9-5-9-49-0.pdf)\\n\"},\n",
       " {'Relevance': 'NON_RELEVANT',\n",
       "  'Explanation': 'The generated answer does not provide any information or answer related to the question about measures for transparency, preventing biases, or grievance avenues in the tuition fee remission process. Instead, it informs that the information is not available in the provided document.',\n",
       "  'ROUGE_1': 0.5161290273881375,\n",
       "  'ROUGE_2': 0.3893805261461353,\n",
       "  'ROUGE_3': 0.5161290273881375,\n",
       "  'question': 'In light of the revised guidelines, what measures will be implemented to ensure transparency and prevent any potential biases or discrepancies in the application and selection process for tuition fee remission, and what avenues are available for students to raise concerns or grievances related to this process?',\n",
       "  'answer': 'I am unable to answer the question regarding the measures implemented to ensure transparency and prevent biases or discrepancies in the application and selection process for tuition fee remission, as well as the avenues for students to raise concerns or grievances, because this information is not contained within the provided document. However, the document does include guidelines for NSP scholarships.\\n(SOURCE: url: https://nitw.ac.in/api/static/files/NSP_2024-25__Institute_Guildliness_2024-9-5-9-49-0.pdf\\nurl: https://nitw.ac.in/api/static/files/NSP_2024-25__Institute_Guildliness_2024-9-5-9-49-0.pdf\\nurl: https://nitw.ac.in/api/static/files/NSP_2024-25__Institute_Guildliness_2024-9-5-9-49-0.pdf\\nurl: https://nitw.ac.in/api/static/files/NSP_2024-25__Institute_Guildliness_2024-9-5-9-49-0.pdf\\nurl: https://nitw.ac.in/api/static/files/NSP_2024-25__Institute_Guildliness_2024-9-5-9-49-0.pdf\\n)'}]"
      ]
     },
     "execution_count": 55,
     "metadata": {},
     "output_type": "execute_result"
    }
   ],
   "source": [
    "relevance_list"
   ]
  },
  {
   "cell_type": "code",
   "execution_count": null,
   "id": "0968491c-d9c0-4c2a-9f6b-fa03bb33cc52",
   "metadata": {},
   "outputs": [],
   "source": [
    "Index = minsearch.Index(\n",
    "    text_fields = [ \"title\" ,  \"info\" ],\n",
    "    keyword_fields= []\n",
    ")"
   ]
  },
  {
   "cell_type": "code",
   "execution_count": 1,
   "id": "157fa869-903f-4464-b9de-3e22463eea5f",
   "metadata": {},
   "outputs": [],
   "source": [
    "import minsearch"
   ]
  },
  {
   "cell_type": "code",
   "execution_count": 2,
   "id": "1e8de118-ed01-4193-8b2a-1fa60a0eaf74",
   "metadata": {},
   "outputs": [],
   "source": [
    "Index = minsearch.Index(\n",
    "    text_fields = [ \"title\" ,  \"info\" ],\n",
    "    keyword_fields= []\n",
    ")"
   ]
  },
  {
   "cell_type": "code",
   "execution_count": 9,
   "id": "f81408d0-4f57-44ff-bf64-5d83148a6d6a",
   "metadata": {},
   "outputs": [
    {
     "data": {
      "text/plain": [
       "<minsearch.Index at 0x7f134cdfef50>"
      ]
     },
     "execution_count": 9,
     "metadata": {},
     "output_type": "execute_result"
    }
   ],
   "source": [
    "Index.fit(data_chunk)"
   ]
  },
  {
   "cell_type": "code",
   "execution_count": 10,
   "id": "1fe23c3a-16b2-4613-a59b-ec352eb152fa",
   "metadata": {},
   "outputs": [],
   "source": [
    " def search (query):\n",
    "        boost = {\"title\": 1 , 'info': 1}\n",
    "        results = Index.search(\n",
    "            query=query,\n",
    "            boost_dict= boost,\n",
    "            num_results=5\n",
    "        )\n",
    "\n",
    "        return results"
   ]
  },
  {
   "cell_type": "code",
   "execution_count": 21,
   "id": "393835af-888c-4c1e-8c42-84284b9ad153",
   "metadata": {},
   "outputs": [],
   "source": [
    "import json\n",
    "\n",
    "with open(\"../data/chuncked_database.json\", \"w\", encoding=\"utf-8\") as f:\n",
    "    json.dump(data_chunk, f, ensure_ascii=False, indent=4)"
   ]
  },
  {
   "cell_type": "code",
   "execution_count": 38,
   "id": "13a38d76-b0b4-4a59-ab0f-6ca5ec7ac21c",
   "metadata": {
    "scrolled": true
   },
   "outputs": [
    {
     "data": {
      "text/plain": [
       "[{'url': 'https://nitw.ac.in/api/static/files/Tuition_Fee_Payment_Procedure_in_ERP_(except_I_-_Year)_2024-7-15-12-15-23.pdf',\n",
       "  'date': '2024-07-15',\n",
       "  'title': 'Tuition Fee Payment Procedure in ERP (except I - Year) | Tuition Fee Payment Procedure in ERP (except I - Year)',\n",
       "  'info': 'Pay Tuition FEE payment procedure on ERP \\n\\n1. After login to your ERP click on the Accounts. \\n\\n2. Click on Student Academic Fee Details \\n\\n3. Click on the button to proceed. \\n\\n4. One pop up will appear. Click on \\n\\nProceed 5. It will redirect you to a new page where you will find the button as shown below. Click on it. \\n\\n6. The payment options will appear as shown below. You may select any one of the options and complete your payment. \\n\\n7. After successful payment you will be redirected to your home page and you will get the payment receipt. \\n\\nSTUDENTS THOSE WHO ARE PAYING THE TUITION FEES THROUGH BANK LOAN. • Select the “Bank Transfer” option for payment and click “PAY”. \\n\\n• After selecting the “Bank Transfer” option and clicking on “PAY” the below details will appear as shown. Click on “PRINT DETAILS” \\n\\n• A Challan will be generated. Download the Challan and submit to the Respective Bank Branch (WHERE STUDENT(s) OBTAINED LOAN). The bank must pay the exact amount printed on the challan.'},\n",
       " {'url': 'https://nitw.ac.in/api/static/files/NSP_2024-25__Institute_Guildliness_2024-9-5-9-49-0.pdf',\n",
       "  'date': '2024-09-05',\n",
       "  'title': 'THE NOTIFICATION FOR NSP SCHOLARSHIP AND DOCUMENTS TO BE SUBMITTED FOR FRESH AND RENEWAL APPLICANTS FOR THE ACADEMIC YEAR 2024-25 | NSP SCHOLARSHIP INSTITUTE GUIDELINES',\n",
       "  'info': \" I, II and III. 3 Bonafide certificate (There is a prescribed format available in the NSP student login at bonafide uploading option,(which contains complete student information default) 4 Previous year attested Mark sheets 5 Seat Allotment Order 6 Aadhaar card 7 Fee Receipts 8 Income Certificate or form 16 \\n\\nImportant Note: - The NSP Scholarship eligible students shall not apply/get any other scholarships from any sources, if found in future all scholarship will be cancelled and scholarship amount refunded by the student. \\n\\n25 \\n\\nNational Scholarship Portal – National Scholarship for Postgraduate Studies Fresh and Renewal Scholarships for the year 2024-25 \\n\\nThe “University Grants Commission”, Bahadur Shah Zafar, New Delhi” has issued fresh and renewal scholarships notification for the scheme “National Scholarship for Post Graduate Studies” for the academic year 2024-25. https://scholarships.gov.in/ \\n\\nLast date for online application is 31.10.2024 and for submission of soft copies through email id acad_nspscholarships@nitw.ac.in and hard copies physically at the Scholarship Counter, Academic Section, and NIT Warangal on or before 31.10.2024. (It is advised to apply and submit the documents well in advance to avoid errors in the applications) \\n\\nEligibility conditions:- \\n\\n\\uf0d8 The scholarship is available to the students for the first PG Degree programme only. Students, who have already acquired any postgraduate degree, are not eligible to apply. \\uf0d8 Only the students, who are already admitted in the first year of PG degree programme in an eligible university/college/institution, (hereinafter referred to as the ‘Institution’), are eligible to apply. \\uf0d8 In case of integrated programmes, the scholarship shall be given for PG component only. \\uf0d8 Only students who are below the age of 30 years of age as on the date of admission in the first semester/year of a PG programme are eligible to apply under these schemes. \\uf0d8 The scholarship is available only for students who are admitted to PG degree programme through ‘Regular/Full Time’ mode. The students, who are pursuing any PG programme through pen/distance/correspondence mode, private or part-time mode, are not eligible to apply. \\uf0d8 The scholarship is available only for students who are pursuing recognized PG degree programmes leading to specified PG degrees notified by UGC from time to time i.e. the nomenclature and duration of course should be as per UGC Notification on Specification of Degrees, 2014, as amended from time to time. \\uf0d8 A student is eligible to receive only one scholarship at a time. The student is required to declare that he/she shall not accept/ receive any other monetary benefit/scholarship/fellowship from any other source. In other words, a student who receives scholarship under this scheme, shall not accept any other scholarship or hold any appointment, paid or otherwise, or receive any emoluments, salary, stipend, etc. from any other source during the tenure of the scholarship. \\n\\nSelection Procedure:- \\uf0d8 The selection shall be made strictly as per the merit of candidates except in case of 'Single/Twin/Fraternal Girl Child'. The slots shall be allocated as per Govt. of India reservation policy. However 30% slots will be reserved for the women candidates. \\uf020 \\uf0d8 Further, 50% of slots under each category are earmarked for Arts, Humanities and Social Sciences, Law, Management and other 50% are earmarked for Science, Engineering & Technology, medical, technical, agriculture, forestry programmes. \\uf020 \\uf0d8 In case of tie/more than one candidate having similar marks in their UG examination, at the lowest level of merit list, the list shall be further short listed/segregated on the basis of marks obtained by them in Under-graduation (UG). In case, there are still more candidates in the merit list as compared to the desired/declared slots, further short listing shall be done on the basis of marks obtained by candidates in XII class. \\uf020 \\uf020 \\uf0d8 The scholarships once awarded, will continue till the completion of the course subject to satisfactory performance of the student. (for the renewal students only )\\uf020 \\uf020 \\uf0d8 The scholarship will terminated, if the student fails to pass the final examination of each year or any terminal examination or semester examination prescribed.\\uf020\\n\\nNote:- The Institute has the authority only to forward online scholarship applications submitted by the student and upload the documents from institute login to the NSP portal. The Ministry is the final authority to select the eligible list from the online forwarded applications by the institute based on the 10+2 percentage (Grades are not valid only percentage is required) and family income. \\n\\n26 \\n\\nFor FRESH Applicant, submit the following documents in given order 1 Passport Photo 2 Online Application Scholarship 3 Latest Income certificate (Original) Note: The income mentioned in the certificate should be matched with the online application The income certificate shall be issued on or after 01.04.2024 by compete\"},\n",
       " {'url': 'https://nitw.ac.in/api/static/files/NSP_2024-25__Institute_Guildliness_2024-9-5-9-49-0.pdf',\n",
       "  'date': '2024-09-05',\n",
       "  'title': 'THE NOTIFICATION FOR NSP SCHOLARSHIP AND DOCUMENTS TO BE SUBMITTED FOR FRESH AND RENEWAL APPLICANTS FOR THE ACADEMIC YEAR 2024-25 | NSP SCHOLARSHIP INSTITUTE GUIDELINES',\n",
       "  'info': \"1 \\n\\n(An Institute of National Importance under the Ministry of Education, Govt. of India \\n\\nAs per the approval of the Dean, Academic The Scheme wise Guidelines for \\n\\n“NATIONAL SCHOLARSHIP PORTAL (NSP) – 2024-25” notification is published \\n\\nNATIONAL INSTITUTE OF TECHNOLOGY, WARANAGAL WARANGAL-506004-TELANGANA-INDIA राष्ट्रीय प्रौद्योगिकी संस्थान वारंिल- 400005, तेलंिाना-भारत ACADEMIC SECTION \\n\\n2 \\n\\nS.No. Name of the Dept./Ministry Name of the Central Scheme Page.No. 1 Ministry of Social Justice & Empowerment “Top Class Education Scheme for SC Students” 03-05 2 “Top class education in College for OBC, EBC and DNT Students” 06-08 3 Ministry of Tribal Welfare “ National Fellowship and Scholarship for Higher Education of ST Students - Scholarship (Formally Top Class Education for Schedule Tribe Students) - only for scholarships” 09-11 4 Dept. of Empowerment of Person With Disability “Post-matric Scholarship for Students with Disabilities” 12-14 5 “Scholarships for Top Class Education for students with Disabilities” 6 Dept. of Higher Education “Pradhan Mantri Uchchatar Shiksha Protsahan (PM-USP)” “Central Sector Scheme Of Scholarships For College AND University Students” 15-18 7 Ministry of Labour Empowerment “Financial Assistance for Education of the Wards of Beedi/Cine/IOMC/LSDM Workers - Post-Matric” 19-22 8 WARB, Ministry of Home affairs “Prime Minister's Scholarship Scheme For Central Armed Police Forces And Assam Rifles” 23 9 RPF / RPSF Ministry of Railway “Prime Minister's Scholarship Scheme For RPF/RPSF” 24 10 UGC Schemes “National Scholarship for Postgraduate Studies” 25-27 11 “Ishan Uday Special Scholarship Scheme for North Eastern Region” 28-30 \\n\\n3 \\n\\nNSP –Top Class Scholarship for SC Students Fresh and Renewal Scholarships for the year 2024-25 \\n\\nThe Ministry of Social Justice and Empowerment has issued fresh and renewal scholarships notification for the scheme “Central Sector Scholarship Scheme for Top Class Education for SC students.” for the academic year 2024-25. (For engineering courses only). https://scholarships.gov.in/ \\n\\nThe last date for online application is 31.10.2024 and for submission of soft copies through email id acad_nspscholarships@nitw.ac.in and hard copies physically on or before 31.10.2024 immediately as the same shall be communicated to the Ministry of Social Justice, New Delhi from the Institute. \\n\\n (It is advised to apply and submit the documents well in advance to avoid errors in the applications) \\n\\nEligibility conditions:- \\n\\n\\uf0d8 Family Annual Income from all sources up to 8 Lakh. \\uf0d8 The Ministry of Social Justice and Empowerment, New Delhi has fixed only 16 slots to the NIT Warangal, accordingly the Top (16) SC fresh students are only eligible to award of the scholarship based on their institute admitted ranks only (CRL (All India Rank) ranks not category ranks) for the admitted 1st-year students for the academic year 2024-25. \\n\\n\\uf0d8 Fresh Scholarship will be awarded only to 1st year students, students of 2nd/3rd/4th year will not be eligible for selection for fresh Scholarship. \\n\\n\\uf0d8 If there is more than one student with equal ranks to the last eligible slot then preference shall be given to the student with the lowest family income. \\n\\n\\uf0d8 Thirty percent (30%) of slots allotted to this institute shall be reserved for eligible SC girls as per their Merit ranks. \\n\\n\\uf0d8 However, the 30% slots mentioned above will not include those girl students who are selected on the based on performance in the overall merit list of SC fresh Students of the Institute. \\n\\n\\uf0d8 The scholarships once awarded, will continue till the completion of the course subject to satisfactory performance of the student. (for the renewal students only ) \\n\\n\\uf0d8 The scholarship shall be terminated, if the student fails to get promoted to the next semester or year. However, once such student gets promoted to the next class, the scholarship shall be released suo moto. \\uf020\\n\\nThe award of the following benefits under the scholarship Scheme.:- \\uf0d8 Other fee Non-refundable charges (The B.Tech SC students are eligible for complete tuition fee waiver, hence they are only eligible for only non-refundable charges i.e. Rs.41000/- to the first year fresh selected 16 students.)\\uf020 \\uf0d8 Living expenses @ Rs.36000 per annum, Books and Stationary @ Rs.5000/- per annum and Latest Reputed Brand Computer /Laptop with accessories @ Rs.45000/- (Total Rs.86,000) to first-year fresh selected fresh students for the academic year 2024-25. (Without submission of any invoice or bills).\\uf020 \\uf020 \\uf0d8 Living expenses @ Rs.36000 per annum, Books and Stationary @ Rs.5000/- per annum (Total Rs.41,000) to Second, Third and final, year renewal students.\\uf020 \\uf020\\n\\n4 \\n\\nFor FRESH Applicant, submit the following documents in given order 1 Passport Photo 2 Online Application Scholarship 3 Latest Income certificate (Original) Note: The income mentioned in the certificate should be matched with the online application The income certificate shall be issued on or after 01.04.2024 by competent author\"},\n",
       " {'url': 'https://nitw.ac.in/api/static/files/NSP_2024-25__Institute_Guildliness_2024-9-5-9-49-0.pdf',\n",
       "  'date': '2024-09-05',\n",
       "  'title': 'THE NOTIFICATION FOR NSP SCHOLARSHIP AND DOCUMENTS TO BE SUBMITTED FOR FRESH AND RENEWAL APPLICANTS FOR THE ACADEMIC YEAR 2024-25 | NSP SCHOLARSHIP INSTITUTE GUIDELINES',\n",
       "  'info': 'ase of Govt. employee and by the MP / MLA / DC / SDO Civil in case of others 23 Mizoram District Magistrate or any other officers authorized by District Magistrate 24 Nagaland Dy. Commissioners, addl. Dy. Commissioners and Sub-Divisional Officers (C) 25 Odisha Revenue Officers 26 Punjab CRO (Tahsildar / Naib Tahsildar concerned) 27 Pondicherry Tahsildar, Deputy Tahsildar 28 Rajasthan Tahsildar 29 Sikkim Special Executive Magistrate (Block Development Officers, Rural Management & Development 30 Telangana Tahsildar 31 Tamil Nadu Zonal Deputy Tahsildar 32 Tripura Deputy Commissioner of Respective Districts 33 Uttar Pradesh Tahsildar 34 Uttaranchal Tahsildar / SDM / City Magistrate 35 West Bengal Dist. Magistrate or -District Level Addl. Dist. Magistrate \\n\\nSub-Divisional Officer – Sub Divisional Level of the concerned \\n\\nBlock Development officer - Block Level of the concerned Blocks \\n\\nThe Collector, Kolkata – Kolkata Municipal Corporation. \\n\\nThe Collector, Kolkata – Student residing within \\n\\nCivil Jurisdiction of Hon’ble High Court, Kolkata \\n\\nOther areas covered in Kolkata Police are concerned i.e. areas over which collector, Kolkata does not exercise jurisdiction –concerned District magistrate or any other Officer Authorized by the District Magistrate of the respective district i. e. South 24 Paraganas and North 24 Paraganas Important Note: - The NSP Scholarship eligible students shall not apply/get any other scholarships from any sources, if found in future all scholarship will be cancelled and scholarship amount refunded by the student. Sd/- Superintendent (Academic) Head of Section (Role) For NSP Scholarships \\uf020 \\uf020 \\uf020\\n\\n6 \\n\\nNSP – CENTRAL SECTOR SCHEME OF TOP CLASS EDUCATION IN COLLEGE FOR OBC, EBC AND DNT STUDENTS \\n\\nThe Ministry of Social Justice and Empowerment has issued fresh scholarships notification for the scheme “Central Sector Scheme of Top class education in College for OBC, EBC and DNT Students.” for the academic year 2024-25. (For engineering courses only). https://scholarships.gov.in/ \\n\\nThe last date for online application is 31.10.2024 and for submission of soft copies through email id acad_nspscholarships@nitw.ac.in and hard copies physically on or before 31.10.2024 immediately as the same shall be communicated to the Ministry of Social Justice, New Delhi from the Institute. \\n\\n (It is advised to apply and submit the documents well in advance to avoid errors in the applications) \\n\\nEligibility conditions:- \\n\\n\\uf0d8 Family Annual Income from all sources up to 2.5 Lakh. \\uf0d8 The Ministry of Social Justice and Empowerment, New Delhi has fixed only 160 slots to the NIT Warangal, accordingly the Top (160) OBC/EBC/DNT fresh students are eligible to award of the scholarship based on their institute admitted ranks only (CRL (All India Rank) ranks not category ranks) for the academic year 2024-25. \\n\\n\\uf0d8 Fresh Scholarship will be awarded to 1st-year students, if 1st-year students find less applied then the balance slots may be offered to eligible students studying in 2nd/3rd/4th year on the basis of CRL rank. \\n\\n\\uf0d8 If there is more than one student with equal ranks to the last eligible slot then preference shall be given to the student with the lowest family income. \\n\\n\\uf0d8 Thirty percent (30%) of slots allotted to this institute shall be reserved for eligible girls as per their Merit ranks. \\n\\n\\uf0d8 However, the 30% slots mentioned above will not include those girl students who are selected on the based on performance in the overall merit list of OBC/EBC/DNT Students of the Institute. \\n\\n\\uf0d8 The scholarship shall be terminated, if the student fails to get promoted to the next semester or year. However, once such student gets promoted to the next class, the scholarship shall be released suo moto. \\uf020\\n\\n\\uf0d8 As the fund is majority earmarked for OBC, preference would be given to the OBC students while considering under the Scheme. \\n\\nThe award of the following benefits under the scholarship Scheme.:- \\uf0d8 Other fee Non-refundable charges (The B.Tech OBC/EBC/DNT students are eligible for tuition fee waiver, hence they are eligible for non-refundable charges) \\uf020 \\uf0d8 Living expenses @ Rs.36000 per annum, Books and Stationary @ Rs.5000/- per annum and Latest Reputed Brand Computer /Laptop with accessories @ Rs.45000/- (Total Rs.86,000) to fresh selected students for the Academic year 2024-25. (Without submission of any invoice or bills).\\uf020 \\uf020 \\uf0d8 Living expenses @ Rs.36000 per annum, Books and Stationary @ Rs.5000/- per annum (Total Rs.41,000) to Second, Third and final, year renewal students.\\uf020 \\uf020 \\uf020\\n\\n7 \\n\\nFor FRESH Applicant, submit the following documents in given order 1 Passport Photo 2 Online Application Scholarship 3 Latest Income certificate (Original) Note: The income mentioned in the certificate should be matched with the online application The income certificate shall be issued on or after 01.04.2024 by competent authority (competitive authorities listed end of the page and the notaries/Income tax filled returns are not valid 4 Caste (Photo copy)'},\n",
       " {'url': 'https://nitw.ac.in/api/static/files/NSP_2024-25__Institute_Guildliness_2024-9-5-9-49-0.pdf',\n",
       "  'date': '2024-09-05',\n",
       "  'title': 'THE NOTIFICATION FOR NSP SCHOLARSHIP AND DOCUMENTS TO BE SUBMITTED FOR FRESH AND RENEWAL APPLICANTS FOR THE ACADEMIC YEAR 2024-25 | NSP SCHOLARSHIP INSTITUTE GUIDELINES',\n",
       "  'info': ' of others 23 Mizoram District Magistrate or any other officers authorized by District Magistrate 24 Nagaland Dy. Commissioners, addl. Dy. Commissioners and Sub-Divisional Officers (C) 25 Odisha Revenue Officers 26 Punjab CRO (Tahsildar / Naib Tahsildar concerned) 27 Pondicherry Tahsildar, Deputy Tahsildar 28 Rajasthan Tahsildar 29 Sikkim Special Executive Magistrate (Block Development Officers, Rural Management & Development 30 Telangana Tahsildar 31 Tamil Nadu Zonal Deputy Tahsildar 32 Tripura Deputy Commissioner of Respective Districts 33 Uttar Pradesh Tahsildar 34 Uttaranchal Tahsildar / SDM / City Magistrate 35 West Bengal Dist. Magistrate or -District Level Addl. Dist. Magistrate \\n\\nSub-Divisional Officer – Sub Divisional Level of the concerned \\n\\nBlock Development officer - Block Level of the concerned Blocks \\n\\nThe Collector, Kolkata – Kolkata Municipal Corporation. \\n\\nThe Collector, Kolkata – Student residing within \\n\\nCivil Jurisdiction of Hon’ble High Court, Kolkata \\n\\nOther areas covered in Kolkata Police are concerned i.e. areas over which collector, Kolkata does not exercise jurisdiction –concerned District magistrate or any other Officer Authorized by the District Magistrate of the respective district i. e. South 24 Paraganas and North 24 Paraganas Important Note: - The NSP Scholarship eligible students shall not apply/get any other scholarships from any sources, if found in future all scholarship will be cancelled and scholarship amount refunded by the student. Sd/- Superintendent (Academic) Head of Section (Role) For NSP Scholarships \\uf020 \\uf020\\n\\n9 \\n\\nNSP – “National Fellowship and Scholarship for Higher Education of ST Students” – Fresh and Renewal Scholarships for the year 2024-25 \\n\\nThe Ministry of Tribal Welfare has issued fresh and renewal scholarships notification for the scheme “National Fellowship and Scholarship for Higher Education of ST students” for the academic year 2024-25. (For engineering courses only). https://scholarships.gov.in/ \\n\\nThe last date for online application is 31.10.2024 and for submission of soft copies through email id acad_nspscholarships@nitw.ac.in and hard copies physically on or before 31.10.2024 immediately as the same shall be communicated to the Ministry of Tribal Affairs, New Delhi from the Institute. \\n\\n (It is advised to apply and submit the documents well in advance to avoid errors in the applications) \\n\\nEligibility conditions:- \\uf0d8 Family Annual Income from all sources up to 6 Lakh.\\uf020 \\uf020 \\uf0d8 The Institute has the authority only to forward online scholarship applications submitted and uploaded by the students from Institute login to the NSP portal. The Ministry is the final authority to select the eligible list from the online forwarded applications by the institute based on the 10+2 percentage (Grades are not valid only percentage is required) and family Annual Income for the Fresh applications.\\uf020 \\uf020 \\uf0d8 There is no ceiling in number of slots for the scholarship Institution wise and stream wise.\\uf020 \\uf020 \\uf0d8 The scholarships once awarded, will continue till the completion of the course subject to satisfactory performance of the student. (for the renewal students only )\\uf020 \\uf020 \\uf0d8 The scholarship will terminated, if the student fails to promote to the final examination of each year or any terminal examination or semester examination prescribed.\\uf020 \\uf020 \\uf0d8 Important point: - If any 2, 3 and 4th year students are applying as fresh scholarship in 2024-25, they have to inform the Scholarship officials for the reason Why they are applying as fresh. (The Undertaking form shall be submitted).\\uf020\\n\\nThe award of the following benefits under the scholarship Scheme.:- \\uf0d8 Other fee Non-refundable charges (The B.Tech ST students are eligible for complete tuition fee waiver, hence they are eligible for only non-refundable charges i.e. Rs.41000/- to the selected fresh students.\\uf020 \\uf0d8 Living expenses @ Rs.36000 per annum, Books and Stationary @ Rs.5000/- per annum and Latest Reputed Brand Computer /Laptop with accessories @ Rs.45000/- (Total Rs.86,000) to selected fresh students for the academic year 2024-25. (Without submission of any invoice or bills).\\uf020 \\uf020 \\uf0d8 Living expenses @ Rs.36000 per annum, Books and Stationary @ Rs.5000/- per annum (Total Rs.41,000) to Second, Third and final, year renewal students.\\uf020 \\uf020 \\uf020\\n\\n10 \\n\\n\\uf020 For FRESH Applicant, submit the following documents in given order 1 Passport Photo 2 Online Application Scholarship 3 Latest Income certificate (Original) Note: The income mentioned in the certificate should be matched with the online application The income certificate shall be issued on or after 01.04.2024 by competent authority (competitive authorities listed end of the page and the notaries/Income tax filled returns are not valid 4 Caste (Photo copy) (Caste certificate by competent authority (Tehsildar /Executive Magistrate/District Magistrate/ Revenue Officer etc.) 5 Domical/Residence Certificate (Photo copy) 6 SSC (Photo copy) 7 10+2 (Photo copy) Note:- The Fresh applicants shall be mentioned 10+'}]"
      ]
     },
     "execution_count": 38,
     "metadata": {},
     "output_type": "execute_result"
    }
   ],
   "source": [
    "search('Considering the increasing cost of living and other academic expenses beyond tuition fees, will there be any accompanying suppor/t mechanisms, such as enhanced scholarship programs or subsidized resources, to further alleviate the financial burden on students who qualify for tuition fee remission?')"
   ]
  },
  {
   "cell_type": "code",
   "execution_count": null,
   "id": "8abb0f6f-4364-4673-bbec-3a000fb36374",
   "metadata": {},
   "outputs": [],
   "source": []
  }
 ],
 "metadata": {
  "kernelspec": {
   "display_name": "Python 3 (ipykernel)",
   "language": "python",
   "name": "python3"
  },
  "language_info": {
   "codemirror_mode": {
    "name": "ipython",
    "version": 3
   },
   "file_extension": ".py",
   "mimetype": "text/x-python",
   "name": "python",
   "nbconvert_exporter": "python",
   "pygments_lexer": "ipython3",
   "version": "3.10.16"
  }
 },
 "nbformat": 4,
 "nbformat_minor": 5
}
