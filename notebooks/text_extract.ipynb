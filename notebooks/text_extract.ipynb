{
 "cells": [
  {
   "cell_type": "code",
   "execution_count": 10,
   "id": "1ae8d6d2-ef7d-4baa-9cd2-4aee8d4f6ad7",
   "metadata": {},
   "outputs": [],
   "source": [
    "import json\n",
    "import pandas as pd\n",
    "LINKS_FILE = \"../data/pdf_links.json\"\n",
    "os.makedirs(os.path.dirname(LINKS_FILE), exist_ok=True)\n",
    "with open(LINKS_FILE , 'rt') as f_out:\n",
    "    documents = json.load(f_out)\n",
    "df = pd.DataFrame(documents)\n",
    "df = df.to_dict(orient='records')"
   ]
  },
  {
   "cell_type": "code",
   "execution_count": 2,
   "id": "e49dec02-c957-4ce5-8931-ef8758e15cfc",
   "metadata": {},
   "outputs": [],
   "source": [
    "import requests\n",
    "import fitz  \n",
    "from io import BytesIO\n",
    "from tqdm.auto import tqdm\n",
    "\n",
    "for doc in df:\n",
    "    try:\n",
    "        \n",
    "        response = requests.get(doc['url'])\n",
    "        response.raise_for_status()\n",
    "\n",
    "        \n",
    "        pdf_file = BytesIO(response.content)\n",
    "\n",
    "        # Open the PDF and extract text\n",
    "        pdf = fitz.open(stream=pdf_file, filetype=\"pdf\")\n",
    "        text = \"\"\n",
    "        for page in tqdm(pdf):\n",
    "            text += page.get_text()\n",
    "        pdf.close()\n",
    "\n",
    "        # Add the extracted text to the dictionary\n",
    "        doc[\"info\"] = text.strip()\n",
    "\n",
    "    except Exception as e:\n",
    "        doc[\"info\"] = f\"Error extracting text: {e}\"\n"
   ]
  },
  {
   "cell_type": "code",
   "execution_count": 11,
   "id": "2dbc8a58-01b6-4e26-acad-9acce9307be9",
   "metadata": {},
   "outputs": [
    {
     "data": {
      "text/plain": [
       "{'url': 'https://nitw.ac.in/api/static/files/AI_OUTR_B_Brouchre-1_2025-5-16-16-32-17.pdf',\n",
       " 'date': '2025-05-16',\n",
       " 'title': 'ONLINE FACULTY DEVELOPMENT PROGRAMME (FDP)ON : AI/ML Techniques for Medical Image and Signal Analysis: A Research Oriented Approach | (18th June – 28th June 2025) Organized by Electronics & ICT Academy, NIT Warangal.'}"
      ]
     },
     "execution_count": 11,
     "metadata": {},
     "output_type": "execute_result"
    }
   ],
   "source": [
    "documents[79]"
   ]
  },
  {
   "cell_type": "code",
   "execution_count": 4,
   "id": "f7fbb41a-460d-4f42-b1b9-0c4d4a6209aa",
   "metadata": {},
   "outputs": [],
   "source": [
    "import re\n",
    "\n",
    "def clean_text(raw_text):\n",
    "    text = re.sub(r'\\n\\s*\\n+', '\\n\\n', raw_text)\n",
    "    text = re.sub(r'(?<!\\n)\\n(?!\\n)', ' ', text)\n",
    "    text = re.sub(r' +', ' ', text)\n",
    "\n",
    "    return text\n"
   ]
  },
  {
   "cell_type": "code",
   "execution_count": 5,
   "id": "6933b407-c9cf-41ae-9b6b-8ec0b3ddda3a",
   "metadata": {},
   "outputs": [],
   "source": [
    "for doc in df:\n",
    "    doc['info'] = clean_text(doc['info'])\n",
    "    "
   ]
  },
  {
   "cell_type": "code",
   "execution_count": 6,
   "id": "1ae2fa75-e223-457c-becf-9846d072fa54",
   "metadata": {
    "scrolled": true
   },
   "outputs": [
    {
     "name": "stdout",
     "output_type": "stream",
     "text": [
      "{'url': 'https://nitw.ac.in/api/static/files/dvt2024_09-09_2024-9-9-18-14-3.pdf', 'date': '2024-09-03', 'title': 'Recruitment to the post of Registrar at NIT Warangal. Last date for receipt of applications: 13.10.2024 | ', 'info': 'Advt. No. 04/2024 dated 09.09.2024 \\n\\nPage 1 of 5 NATIONAL INSTITUTE OF TECHNOLOGY WARANGAL (Ministry of Education, Govt of India) WARANGAL – 506 004 (Telangana State) \\n\\nRecruitment Advt. No. 04/2024 dated 09.09.2024 RECRUITMENT TO THE POST OF REGISTRAR AT NIT WARANGAL “NIT WARANGAL STRIVES TO HAVE A WORKFORCE WHICH REFLECTS GENDER BALANCE AND WOMEN CANDIDATES ARE ENCOURAGED TO APPLY” Online applications are invited from eligible Indian Citizens to fill up the post of REGISTRAR on Deputation (IncludingShort Term Contract) basis. Eligible candidates can apply through the online recruitment portal available at: https://nitw.ac.in/Careers/. Post Code NITW/4/24/Registrar Emoluments Minimum pay of Rs. 1,44,200/- in Level 14 of the 7thCPC + DA + allowances as admissible for Central Government Employees posted in Warangal/ Hanamkonda. Pay and other terms and conditions governing deputation/ foreign service will be regulated as provided by the Department of Personnel & Trainingread with the First Statutes of NITs, as amended from time to time. Vacancies & Reservations 01, Reservation not applicable Method of Recruitment Deputation (including Short Term Contract), for a period of 05 years or till attaining the age of 62 years whichever is earlier, or as fixed by Government of India by orders issued in this regard from time to time Age Limit 56 years Essential Educational Qualifications & Experience Deputation (including Short Term Contract): Officers under the Central/ State Governments / Universities/ Recognized Research Institutes or Institute of national importance or Govt. laboratory or PSU:- Essential Educational Qualification: Masters’ degree with at least 55% Marks or its equivalent grade ‘B’ in the UGC 7 point scale from a recognized University/ Institute. Experience: i) Holding analogous post; OR ii) At least 15 years’ experience as Assistant Professor in the AGP of 7000/- and above or with 8 years of service in the AGP of 8000/- and above including as Associate Professor along with 3 years’ experience in educational administration, or iii) Comparable experience in research establishment and /or other institutions of higher education, or iv) 15 years of administrative experience, of which 8 years shall be as Deputy Registrar or an equivalent post in the GP of Rs.7600/- or above. DATE OF PUBLICATION:09.09.2024 OPENING OF ONLINE APPLICATION PORTAL: 10.09.2024 @ 04.00 pm onwards CLOSING OF ONLINE APPLICATION PORTAL: 13.10.2024 @ 23.59 hrs. Advt. No. 04/2024 dated 09.09.2024 \\n\\nPage 2 of 5 \\n\\nDesirable: i) Qualification in area of Management/ Engineering/ Law. ii) Experience in computerized administration / legal / financial / establishment matters. Method of Selection Selection from among the shortlisted candidates will be done based on the performance in the interview. However, if required, the Institute reserves the right to conduct an objective/ skill test before interview for further shortlisting the candidates. NOTE: 1. Those candidates who have applied for the post of Registrar against Advt. No. 02/2024 dated 05.07.2024 need not apply again or pay the application fee. However, they can update their profile, if they so desire. Otherwise, the status of the earlier application will be considered as final. The Institute will consider their candidature along with the candidates applied for the post against the present advertisement. 2. Short Term Contract is a form of deputation where officers from non-Government bodies e.g. universities, research institutions, public sector undertakings for teaching, research, scientific and technical post(s) applies to the Institute posts. When selected and appointed on short term contract, at the end of the specified period, he/ she will have to revert to the parent cadre. GENERAL INSTRUCTIONS I) APPLICATION FEE: i) Non-refundable Application Fee of Rs. 1000/- for UR/OBC/ EWS candidates payable through the online recruitment portal. ii) No fee will be charged for SC/ST/PwD/Women candidates. iii) Failing to remit fee in case of applicable category candidates as per the instructions will render rejection of the application. Fee once paid shall not be refunded under any circumstances. II) OTHER CONDITIONS: 1. Before applying, the candidate should ensure that he/she fulfills all the eligibility conditions mentioned in the advertisement. Candidates should ensure that they fill in the correct information. The candidate would be admitted to various stages of the recruitment process based on the information furnished by the candidate in his/her application. Only a summary scrutiny of the application would be made before the final stage of the recruitment process and detailed scrutiny of the eligibility of the candidate would be done only at the final stage of the recruitment process. As such, the candidature of the applicant shall remain provisional till detailed scrutiny is undertaken and the candidate is found eligible in all respects. NITW would be at liberty to reject any application at any stage of the recruitment process, if the candidate is found ineligible for the post or if it comes to its notice at any stage. The decision of NITW with regard to eligibility of the candidate shall be final. The mere fact that a call letter has been issued to the candidate and allowed to appear in the written test/interview or offered the post or allowed to join, will not imply that his/her candidature has been finally cleared or that entries made by the candidate in his/her application have been accepted as true and correct. 2. NITW reserves the right not to fill up the post or even to cancel/restrict/modify/alter the whole process of recruitment without issuing any further notice or assigning any reason thereof. 3. Candidates empaneled under waitlist will be offered appointment only if the selected candidate Advt. No. 04/2024 dated 09.09.2024 \\n\\nPage 3 of 5 \\n\\nin the select list does not join or ceases to be in employment within the panel validity. The validity of operation of waitlist will be one year from the date of preparation of the select panel or after notifying any such recruitment, whichever is earlier. 4. The eligibility criteria including the age, educational qualifications and period of experience, as prescribed in the advertisement will be determined with reference to the last date of receipt of application. 5. Regulation of terms and conditions governing Deputation (ISTC) will be considered as provided by the Department of Personnel & Training read with the NITSER Act & Statutes of NITs, as amended from time to time. 6. In case the Universities/Board, award grades/CGPA/OGPA, the same will have to be indicated in equivalent percentage of marks as per the norms adopted by that University/Board and a certificate to this effect issued by the University/ Board should be submitted in the online application. In the absence of the same, the candidature will not be considered. 7. Appointment to the post is subject to being found medically fit by the Competent Authority. 8. In addition to the Pay and allowances as applicable to the employees posted in the Institute, they would be entitled to the following facilities: a) Reimbursement of Children Education Allowance as per Central Government Rules b) Reimbursement of Medical expenses including referral to outside specialized and reputed hospitals for OP/IP for them and their dependent family members. c) Suitable institute residential accommodation in the campus, subject to availability. d) Leave Travel Concession as per Central Government Rules 18. The appointment of Registrar is made for an initial period of 1 year, which is extendable for further 4 years after review of performance upon completion of one yearof service by the Committee to be constituted by the Board. 19. The competent authority/screening committees of NITW reserve all the rights to set higher standards & parameters, to shortlist the candidates, which may include highest qualification prescribed in the Recruitment Rules, desirable/preferable qualifications and/or experience, and other requirements mentioned in the notification/recruitment rules. III) CANCELLATION OF THE CANDIDATURE Candidates are cautioned not to furnish any incomplete, false or misleading information or submit any document which is defective, forged or fabricated or otherwise not admissible or claim fraudulently EWS/SC/ST/ OBC/Persons with Benchmark Disability (Divyangjan)/Ex-Servicemen status etc. or resort to any type of malpractice during the selection process. Notwithstanding verification of original documents during various stages of the selection process, if any case of illegality is detected at any stage of the selection process or later on, this Institute reserves the right to cancel candidature or selection apart from taking other appropriate legal actions. IV) HOW TO APPLY ONLINE: 1. Facility for submission of online application will be available from 10-09-2024 at 04:00 pmto 13-10-2024 23:59 pm on website of NITW i.e. https://nitw.ac.in/Careers/. 2. Upon submission of online application, self-attested hard copy of the application should be routed through proper channel, so as to reach the “Registrar, National Institute of Technology, Warangal – 506004” within 30 days from the date of closing of online Advt. No. 04/2024 dated 09.09.2024 \\n\\nPage 4 of 5 \\n\\napplications, accompanied by the following documents: i) Certified copies of APARs for the last 05 years duly attested on each page by an officer not below the rank of Under Secretary or equivalent; ii) Vigilance clearance certificate; iii) No Objection certificate. The online application will be treated as advance copy only. In the event of non-receipt of hard copy of the application through proper channel within the stipulated period, candidature will be considered provisionally if No Objection Certificate is provided by that time along with an undertaking that he shall arrange for the above documents at the time of interview, failing which the candidature will be treated as cancelled and no further correspondence will be entertained in this regard. 3. Candidate should read the instructions in the advertisement and online application form carefully before making any entry or selecting any option. 4. Before filling application form, candidates should keep ready necessary documents/ certificates required. Candidate is required to fill up personal details and details of post applied for etc. and upload recently taken front facing passport size photograph. 5. A valid e-mail ID and Mobile Number is mandatory for submitting application online and email ID should be kept active till the declaration of results. The Institute will send call letter for selection process to the registered e-mail ID. No correspondence will be sent through post/courier. 6. Date, Time, Venue for various stages examination will be intimated through Website/Admit Card/call letter only. 7. The candidate must ensure that their photo and signature is clearly visible in preview at the time of filling application in online mode. If photo/signature displayed is small or not visible in preview on website, that means photo/signature is not as per the required format and in that case the application will be rejected. Therefore, candidates must ensure that photo and signature are clearly visible. \\n\\n8. Instruction for uploading Photo and Signature: Photo: Image should be of size 165 x 125 pixels in jpg/jpeg format and should not exceed 50 KB with name and date at the bottom of the photograph. Signature: Image should be of size 80 x 125 pixels in jpg/jpeg format and should not exceed 20 KB 9. For any administrative support, candidates may mail to:recruit_admn@nitw.ac.in 10. For technical support, details or clarification, technical details regarding online application portal, the candidates can email to: recruit@nitw.ac.in 11. Before clicking the submit button, the candidate is advised to check that all the details filled in are correct. Candidate may also ensure that name, date of birth, etc. are entered correctly in the application form as per Secondary School Certificate (SSC). Any incorrect information may disqualify candidature. After final submission of application, no request for change/correction in any of the information in the application form shall be entertained under any circumstances. 12. After submitting the online application form, candidates are required to take print/ save Advt. No. 04/2024 dated 09.09.2024 \\n\\nPage 5 of 5 \\n\\ncopy of the online application form and preserve it till the certificate verification/all the selection process is completed. V) At the time of certificate verification, on the informed date, candidates must bring hard copy of Online application Form along with Original and one set of photocopy of self-attested of the following documents: 1. Educational qualifications and technical qualifications (supported by appropriate mark sheets) starting from (SSC) / X standard onwards. 2. Date of birth/Proof of age. 3. No Objection Certificate in case of employees working under Central/State Government, Public Sector Undertakings/Statutory/Autonomous Bodies, etc. 4. Experience certificates (if applicable). 5. Certified copies of APARs for the last 05 years duly attested on each page by an officer not below the rank of Under Secretary or equivalent; 6. Vigilance clearance certificate; 7. Any other certificate in respect of claims made in the application form. \\n\\nNote: NITW is not responsible for any discrepancy in submitting details through online application. The applicants are therefore, advised to strictly follow the instructions. The particulars furnished by the applicant in the Application Form will be taken as final and further processing of the application will be based on these particulars only. Frivolous representation/clarification made through any correspondence without reading the instructions given in the advertisement thoroughly will not be entertained. WARNING: Applications which are not in conformity with the requirement will be rejected. Merely fulfilling of requirements as laid down in the advertisement does not qualify a candidate for consideration. No correspondence will be entertained with candidates not selected for appointment. CANVASSING IN ANY FORM WILL BE A DISQUALIFICATION SELECTIONS IN THIS INSTITUTE ARE MADE PURELY ON MERIT AND CANDIDATES ARE STRONGLY ADVISED NOT TO PAY MONEY TO ANY PERSON ASSURING OF EMPLOYMENT AND NOT TO BRING ANY INDIVIDUAL/POLITICAL INFLUENCE. CANDIDATES ARE ADVISED TO INFORM THE DETAILS OF ANY PERSON APPROACHING THEM IN THIS REGARD TO THIS OFFICE FOR TAKING STERN ACTION. ANY LEGAL DISPUTE ARISING OUT OF THIS ADVERTISEMENT OR THIS RECRUITMENT IS SUBJECT TO THE JURISDICTION OF WARANGAL/HYDERABAD. REGISTRAR I/C NIT Warangal'} \n",
      "\n",
      "{'url': 'https://nitw.ac.in/api/static/files/vsf2024_2024-8-23-20-4-25.pdf', 'date': '2024-08-23', 'title': 'WALK-IN INTERVIEW FOR ENGAGEMENT AS VISITING ASSISTANT  PROFESSOR - DEPARTMENT OF COMPUTER SCIENCE AND ENGINEERING | ', 'info': 'NATIONAL INSTITUTE OF TECHNOLOGY WARANGAL \\n\\n_____________________________________________________________________________________ Phone: +91-870-2462018, Mobile: +91 94901 64973, Email: dean_fa@nitw.ac.in Website: www.nitw.ac.in \\n\\nProf. A. Venu Vinod Dean, Faculty Welfare RDNo. NITW/Dean(FW)/2024/ \\n\\n 23rd Aug 2024 \\n\\nWALK-IN INTERVIEW FOR ENGAGEMENT AS VISITING ASSISTANT PROFESSOR (on purely temporary basis for the period September – December 2024) \\n\\nNational Institute of Technology Warangal intends to engage interested candidates as Visiting Assistant Professor in the Department of Computer Science and Engineering for the period September – December 2024. The schedule for appearing walk-in interview are mentioned below: \\n\\nTentative Reporting date and Time for verification of Documents 30.8.2024, 9 AM Tentative Date and time of Walk-in-interview 30.8.2024, 11 AM \\n\\nThe selection will be conducted in the Department in person. The selection process will consist of written test and interview. The emoluments will be Rs. 70,000 per month. Age limit for Assistant Professor: 45 years. \\n\\nEducational Qualifications 1. Ph.D Degree and shall have I class in B.Tech./B.E., M.Tech/M.E.in Computer Science and Engineering. 2. Degrees, preferably, from the Institute of repute [Refer MoE (MHRD) clarification dt. 16.04.2019]. . \\n\\nIMPORTANT INSTRUCTIONS \\n\\n1. Interested candidates shall appear for walk-in-interview along with duly filled prescribed application form as per the above schedule (please attach photocopies of various Degrees/Certificate/Marks Sheets) [Download the blank application form from the Institute Website]. Candidates may email the filled-in application (in PDF format) along with scanned copies of certificates to the respective Heads of the Departments. 2. Candidates must bring all the relevant original certificates for the verification purpose 3. This engagement is purely on temporary basis and they shall have no claim for regular appointment. 4. Candidates should submit category certificate (OBC-NCL / SC / ST / EWS / PwD) as per the proforma of Government of India. 5. No TA/DA shall be paid for attending interview. 6. For any clarifications, the Head of the Department may be contacted at cse_hod@nitw.ac.in. \\n\\n2\\n\\n NATIONAL INSTITUTE OF TECHNOLOGY WARANGAL \\n\\nApplication Form for Engagement of Visiting Assistant Professor (Purely on Contract Basis with Consolidated Salary) \\n\\n(No. NITW/ Dean(FW)/2024/VP dt. 24/08/2024) \\n\\nAPPLICATION FORM \\n\\nName of the Department \\n\\n: \\n\\nSpecialization \\n\\n: \\n\\nI. PERSONAL INFORMATION: \\n\\nName of the candidate: \\n\\nFather’s Name: \\n\\nGender: Date of Birth: Category: UR/OBC-NCL/SC/ST/EWS/PwD Correspondence Address: \\n\\nMobile No.: Email ID: \\n\\nII. EDUCATIONAL QUALIFICATION: \\n\\n (Please attach self-attested photocopies of Degrees/Certificate/Marks Sheets) \\n\\nSI. No. Degree/ Certificate Specialization %age of marks/ CGPA Division/ Grade Year Institution/ University 1. Ph.D \\n\\n2. \\n\\n(PG, degree to be mentioned) \\n\\n3. \\n\\n(UG, degree to be mentioned) \\n\\nWhether GATE qualified: Yes / No (Score: _______________) \\n\\nPassport size colour Photograph \\n\\n3\\n\\nIII. EXPERIENCE \\n\\nPosition/ Designation Name of Institution/ Organization From To Total Years Months \\n\\nIV. SUBJECTS TAUGHT (previously): \\n\\nName of the course Institute where taught PG / UG level Number of students in the class Feedback by students \\n\\nUNDERTAKING \\n\\nI have read all the information and instructions given in Advt No. NITW/ Dean(FW)/2024/VP dt. 23/08/2024) on the website i.e. www.nitw.ac.in and the above information given by me is correct. I understand that my application shall be rejected if (i) the information is not correct or ii) all the required certificates and documents are not attached or iii) application is incomplete. \\n\\nSignature of Applicant \\n\\nDate : \\n\\nPlace :'} \n",
      "\n",
      "{'url': 'https://nitw.ac.in/api/static/files/National_Space_Day_celebrations_2024-8-23-9-45-0.pdf', 'date': '2024-08-23', 'title': 'National Space Day celebrations | National Space Day celebrations', 'info': 'Venue: Bose Hall, Seminar Hall Complex (23rd Aug 2024) Dr. V M Chowdary, Scientist G, National Remote Sensing Centre, ISRO Title of the Talk: Role of Space applications for food Security\\n\\nDr CVS Kiran, Vice-President, Skyroot Aerospace Title of the Talk: Current Trends and Future Prospects of Lunar Exploration; Path Towards Global Space Leadership Distinguished Speakers Programme Schedule 9.30 AM: Welcome to the Dignitaries to the Dias 9.45 AM: Introductory remarks by Prof. Bidyadhar Subudhi, Director 9:55 AM: Introduction to distinguished expert by Prof. Shirish H. Sonawane, Dean (R&D) 10.00 AM: National Space Day lecture - 1 by the Distinguished Speaker Dr. V M Chowdary 10:45 AM: Tea Break 11.00 AM: Introduction to Distinguished expert by Prof. D. Haranath 11.05 AM: National Space Day lecture - 2 by the Distinguished Speaker Dr. C. V. S. Kiran 12:00 PM: Interaction with Experts 12:45 PM: Vote of Thanks by Prof. P. Sampath Kumar 1:00 PM: Lunch Break 2:30 PM: Address to School Students, Prof. L. Anjaneyulu 2:45 PM: Display of NSD Videos & Posters for School Children 4:00 PM: Tea Break 4:30 PM: R&D Laboratory visit and Interaction with Faculty'} \n",
      "\n",
      "{'url': 'https://nitw.ac.in/api/static/files/document_(41)_2024-8-13-15-14-59.pdf', 'date': '2024-08-13', 'title': 'Result of selection process for the posts notified against Advt. No. 01/2024 & 03/2023 – Reg. | Result of selection process for the posts notified against Advt. No. 01/2024 & 03/2023 – Reg.', 'info': 'F. No. A-12013/3/2024-Admn. National Institute of Technology Warangal Recruitment Cell Subject: Result of selection process for the posts notified against Advt. No. 01/2024 & 03/2023 – Reg. Reference: 1) NITW Recruitment Advt. No. 03/2023 dated 23.10.2023 2) NITW Recruitment Advt. No. 01/2024 dated 23.01.2024 The result for the following positions notified against the advertisements is as follows: S. No . Recruitment Advt. No. & Date Name of the Post Selected Candidate(s) Remarks 1. 03/2023 dt.23.10.23 Librarian (on Direct Rect.) NITW2362000010 - 2. 01/2024 dt.23.01.24 Deputy Registrar (on Direct Recruitment) NITW2481000054 - 3. 01/2024 dt.23.01.24 Deputy Registrar (on Deputation ISTC) NIL None Found Suitable 3. 01/2024 dt.23.01.24 Senior Technical Officer NITW2483000026 NITW2483000041 - 4. 01/2024 dt.23.01.24 Assistant Registrar (on Deputation ISTC) NIL - 5. 01/2024 dt.23.01.24 Assistant Engineer (on Deputation ISTC) NIL None Found Suitable\\n\\n2. The selected candidates may check their registered email for offer of appointment letter. Hard copy is not being sent. Sd/- Registrar I/c NIT Warangal A-12013/3/2024-Admn I/1030/2024'} \n",
      "\n"
     ]
    }
   ],
   "source": [
    "for pos ,doc in enumerate(df):\n",
    "    if pos in [27 , 28 ,29, 30]:\n",
    "        print(doc, '\\n')\n",
    "       "
   ]
  },
  {
   "cell_type": "code",
   "execution_count": 7,
   "id": "d1e1bb3e-b9b8-43dc-bf90-cee6b754e5a5",
   "metadata": {},
   "outputs": [],
   "source": [
    "with open(\"database.json\", \"w\", encoding=\"utf-8\") as f_in:\n",
    "    json.dump(df, f_in, indent=4, ensure_ascii=False)"
   ]
  },
  {
   "cell_type": "code",
   "execution_count": 26,
   "id": "a20d8418-4a55-46f2-bb3d-8cc404498897",
   "metadata": {},
   "outputs": [],
   "source": [
    "\n",
    "response = requests.get('https://nitw.ac.in/api/static/files/Allotment_of_MNC-4_courses_to_B.Tech._II_Year_Students-new_2024-7-30-14-46-27.pdf')\n",
    "response.raise_for_status()\n",
    "\n",
    "# Use BytesIO to avoid saving to disk\n",
    "pdf_file = BytesIO(response.content)\n",
    "\n",
    "# Open the PDF and extract text\n",
    "pdf = fitz.open(stream=pdf_file, filetype=\"pdf\")\n",
    "text = \"\"\n",
    "for page in pdf:\n",
    "    text += page.get_text()\n",
    "pdf.close()\n",
    "\n",
    "# Add the extracted text to the dictionary\n",
    "out = text.strip()\n",
    "out = clean_text(out)\n"
   ]
  },
  {
   "cell_type": "code",
   "execution_count": null,
   "id": "188b6186-7f72-4275-b1df-21b9495ab308",
   "metadata": {},
   "outputs": [],
   "source": []
  }
 ],
 "metadata": {
  "kernelspec": {
   "display_name": "Python 3 (ipykernel)",
   "language": "python",
   "name": "python3"
  },
  "language_info": {
   "codemirror_mode": {
    "name": "ipython",
    "version": 3
   },
   "file_extension": ".py",
   "mimetype": "text/x-python",
   "name": "python",
   "nbconvert_exporter": "python",
   "pygments_lexer": "ipython3",
   "version": "3.10.16"
  }
 },
 "nbformat": 4,
 "nbformat_minor": 5
}
