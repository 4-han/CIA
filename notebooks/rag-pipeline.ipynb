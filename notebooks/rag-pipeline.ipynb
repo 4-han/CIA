{
 "cells": [
  {
   "cell_type": "code",
   "execution_count": 1,
   "id": "d27f1a8b-f130-49d8-ab5e-f8ca4fa3eb0c",
   "metadata": {},
   "outputs": [],
   "source": [
    "import json\n",
    "with open ('../data/database.json' , 'rt') as f_in:\n",
    "    documents = json.load(f_in)"
   ]
  },
  {
   "cell_type": "code",
   "execution_count": 2,
   "id": "1ee9811b-03a2-4a3c-98b6-a2abb6036bae",
   "metadata": {},
   "outputs": [],
   "source": [
    "import minsearch"
   ]
  },
  {
   "cell_type": "code",
   "execution_count": 4,
   "id": "e4d9faca-9b73-4563-9e32-656d8041b456",
   "metadata": {},
   "outputs": [],
   "source": [
    "from sentence_transformers import SentenceTransformer"
   ]
  },
  {
   "cell_type": "code",
   "execution_count": 5,
   "id": "66c701d5-c8d2-48a8-8595-cd5fe891ca7b",
   "metadata": {},
   "outputs": [],
   "source": [
    "model_name = 'multi-qa-MiniLM-L6-cos-v1'\n",
    "model = SentenceTransformer(model_name)"
   ]
  },
  {
   "cell_type": "code",
   "execution_count": 3,
   "id": "03d55b9c-8b2e-498b-ad7d-2e11e268c36a",
   "metadata": {},
   "outputs": [],
   "source": [
    "query = 'I am an upcoming Phd Student at NIT warangal, can you please let me know how to the registration and document uploading on SMILE ERP portal for Ph.D?'\n",
    "# qv = model.encode(query)\n",
    "# len(qv)"
   ]
  },
  {
   "cell_type": "code",
   "execution_count": 4,
   "id": "4e687449-b086-4f03-8b9b-82c8ce7e7045",
   "metadata": {},
   "outputs": [
    {
     "data": {
      "text/plain": [
       "ObjectApiResponse({'acknowledged': True, 'shards_acknowledged': True, 'index': 'course-questions'})"
      ]
     },
     "execution_count": 4,
     "metadata": {},
     "output_type": "execute_result"
    }
   ],
   "source": [
    "from elasticsearch import Elasticsearch\n",
    "es_client = Elasticsearch('http://localhost:9200')\n",
    "index_settings = {\n",
    "    \"settings\": {\n",
    "        \"number_of_shards\": 1,\n",
    "        \"number_of_replicas\": 0\n",
    "    },\n",
    "    \"mappings\": {\n",
    "        \"properties\": {\n",
    "            \"url\": {\"type\": \"text\"},\n",
    "            \"date\": {\"type\": \"text\"},\n",
    "            \"title\": {\"type\": \"text\"},\n",
    "            \"info\": {\"type\": \"text\"}\n",
    "        }\n",
    "    }\n",
    "}\n",
    "\n",
    "index_name = \"course-questions\"\n",
    "\n",
    "es_client.indices.delete(index=index_name, ignore_unavailable=True)\n",
    "es_client.indices.create(index=index_name, body=index_settings)\n"
   ]
  },
  {
   "cell_type": "code",
   "execution_count": 5,
   "id": "ace31921-27bd-4e04-89d4-24cbf11adc82",
   "metadata": {},
   "outputs": [
    {
     "data": {
      "application/vnd.jupyter.widget-view+json": {
       "model_id": "6473f6f591ee45678a7535c7405e2e81",
       "version_major": 2,
       "version_minor": 0
      },
      "text/plain": [
       "  0%|          | 0/89 [00:00<?, ?it/s]"
      ]
     },
     "metadata": {},
     "output_type": "display_data"
    }
   ],
   "source": [
    "from tqdm.auto import tqdm\n",
    "for doc in tqdm(documents):\n",
    "    es_client.index(index=index_name, document=doc)"
   ]
  },
  {
   "cell_type": "code",
   "execution_count": 6,
   "id": "246d23fe-f0fd-4444-9414-61c5c1c3431e",
   "metadata": {},
   "outputs": [],
   "source": [
    "def elastic_search(query):\n",
    "    search_query = {\n",
    "        \"size\": 5,\n",
    "        \"query\": {\n",
    "            \"bool\": {\n",
    "                \"must\": {\n",
    "                    \"multi_match\": {\n",
    "                        \"query\": query,\n",
    "                        \"fields\": [\"title^2\", \"info\"],\n",
    "                        \"type\": \"best_fields\"\n",
    "                    }\n",
    "                }\n",
    "            }\n",
    "        }\n",
    "    }\n",
    "\n",
    "    response = es_client.search(index=index_name, body=search_query)\n",
    "    \n",
    "    result_docs = []\n",
    "    \n",
    "    for hit in response['hits']['hits']:\n",
    "        result_docs.append(hit['_source'])\n",
    "    \n",
    "    return result_docs"
   ]
  },
  {
   "cell_type": "code",
   "execution_count": 7,
   "id": "6c5fdbe4-bbb5-4d1b-b96b-69c0b14aaf73",
   "metadata": {
    "scrolled": true
   },
   "outputs": [],
   "source": [
    "search_results = elastic_search(query=query)"
   ]
  },
  {
   "cell_type": "code",
   "execution_count": 8,
   "id": "2f97b794-97ba-4220-a6d4-d3c6b610cb13",
   "metadata": {
    "scrolled": true
   },
   "outputs": [
    {
     "data": {
      "text/plain": [
       "[{'url': 'https://nitw.ac.in/cdis/assets/images/docs/Admission_Steps_ERP.pdf',\n",
       "  'date': '2025-05-26',\n",
       "  'title': 'Ph.D./ MBA/ M.Tech. (Self-Financed) Admissions - 2025 Registration and Document Uploading on SMILE ERP Portal | Instructions for registration and document uploading on SMILE ERP portal for Ph.D./ MBA / M.Tech. (Self-Financed) students 2025.',\n",
       "  'info': 'SMILE Instruction for Reporting \\n\\nStep 1 Go to:- https://erp.nitw.ac.in/ext/adm/login \\n\\nStep 2 Follow the below Steps \\n\\nContact Details: For Admissions related quiries : email id -> admissions@nitw.ac.in For Technical related quiries : email id -> erp_support@nitw.ac.in \\n\\nClick on \\n\\nEnter the Email, Mobile No, Full Name & Date of Birth. The data must be entered same as provided during application by the candidate. Then click on \\n\\nA Token and an OTP will be sent to your registered email as two separate mails. \\n\\nEnter the Token and an OTP sent to your registered email. create your own password and Confirm Password ( Password should be Alphanumeric only) then click on \\n\\nAfter Successful Registration the above message will be displayed. Then click on OK . Then click on to Sign In to the portal. \\n\\nEnter the Email ID and Password set during registration by you and then Click on \\n\\nAfter sign in, select your concerned advertisement click on Apply \\n\\nSelect the program belongs to you and put choice as “1” and click on \\n\\nSelect \\n\\nCandidate’s Verification popup will be displayed, Email Token and an OTP will be sent to your registered email. \\n\\nEnter the Email Token and an OTP sent to the registered email and click on “Verify Email Token & OTP” \\n\\nAfter successful verification Confirmation on click on “Yes”. \\n\\nAfter confirmation check your application status must be shown as . Then click on “My Applications”. Applied\\n\\nClick on “View” to proceed. \\n\\nBy selecting each left panel (Personal, Education, Qualifying, Payment Details, Document upload and Freeze application ). Fill up all the details. \\n\\nInstitute fee and Hostel fee ( applicable for hostel accommodation only) to be paid through this screen as mentioned above. \\n\\nUpload all the required documents. \\n\\nOnce each section completed, “Freeze” the application. \\n\\nOnce the application is freezed, check all sections (Personal, Education, Qualifying ., etc.) must be changed from red to green color shown as above. After verification of your application, Take a printout of biodata from your login, Submit during physical reporting.'},\n",
       " {'url': 'https://nitw.ac.in/api/static/files/Admission_Candidate_Steps_-_2024_2024-6-18-10-2-32.pdf',\n",
       "  'date': '2024-08-09',\n",
       "  'title': 'B.Tech./5 –Year Integrated M.Sc/M.Tech./ ALL MSc registration and document uploading on SMILE ERP portal | Instructions for registration and document uploading on SMILE ERP portal for   all admissions 2024',\n",
       "  'info': 'SMILE Instruction for Reporting \\n\\nStep 1 Go to:- https://erp.nitw.ac.in/ext/adm/login \\n\\nStep 2 Follow the below Steps \\n\\nContact Details: For Admissions related quiries : email id -> admissions@nitw.ac.in For Technical related quiries : email id -> erp_support@nitw.ac.in \\n\\nClick on \\n\\nEnter the Email, Mobile No, Full Name & Date of Birth. The data must be entered same as provided during application by the candidate. Then click on \\n\\nA Token and an OTP will be sent to your registered email as two separate mails. \\n\\nEnter the Token and an OTP sent to your registered email. create your own password and Confirm Password ( Password should be Alphanumeric only) then click on \\n\\nAfter Successful Registration the above message will be displayed. Then click on OK . Then click on to Sign In to the portal. \\n\\nEnter the Email ID and Password set during registration by you and then Click on \\n\\nAfter sign in, select your concerned advertisement click on Apply \\n\\nSelect the program belongs to you and put choice as “1” and click on \\n\\nSelect \\n\\nCandidate’s Verification popup will be displayed, Email Token and an OTP will be sent to your registered email. \\n\\nEnter the Email Token and an OTP sent to the registered email and click on “Verify Email Token & OTP” \\n\\nAfter successful verification Confirmation on click on “Yes”. \\n\\nAfter confirmation check your application status must be shown as . Then click on “My Applications”. Applied\\n\\nClick on “View” to proceed. \\n\\nBy selecting each left panel (Personal, Education, Qualifying, Payment Details, Document upload and Freeze application ). Fill up all the details. \\n\\nInstitute fee and Hostel fee ( applicable for hostel accommodation only) to be paid through this screen as mentioned above. \\n\\nUpload all the required documents. \\n\\nOnce each section completed, “Freeze” the application. \\n\\nOnce the application is freezed, check all sections (Personal, Education, Qualifying ., etc.) must be changed from red to green color shown as above. After verification of your application, Take a printout of biodata from your login, Submit during physical reporting.'},\n",
       " {'url': 'https://nitw.ac.in/api/static/files/JoSAA-CSAB-2024_Physical_Reporting_Instructions_for_B.Tech_First_Year_and_5-Year_Integrated_MSc_First_Years_Students_2024-8-7-18-1-52.pdf',\n",
       "  'date': '2024-08-07',\n",
       "  'title': 'JoSAA-CSAB-2024 Physical Reporting Instructions for B.Tech First Year and 5-Year Integrated MSc First Years Students | Physical Reporting Instructions for  First Year B.Tech and 5 year integrated M.Sc., Students Admitting  through JOSAA/CSAB - 2024 (Academic Year 2024-2025)',\n",
       "  'info': 'Page 1 of 9 \\n\\nNational Institute of Technology Warangal Physical Reporting Instructions for First Year B.Tech and 5 year integrated M.Sc., Students Admitting through JOSAA/CSAB - 2024 (Academic Year 2024-2025) Congratulations to the candidates who got provisional seat allotment in B.Tech and 5-year Integrated M.Sc. programmes at National Institute of Technology Warangal through JoSAA/CSAB-2024 for the academic year 2024-2025. All the candidates are requested to report physically at Dr. B.R. Ambedkar Learning Centre (ALC) for Provisional Admission during August 11 to August 17, 2024, @ 9.00AM. All the PwD candidates have to report @ 9.00AM on the respective dates during August 11 to August 17, 2024 at Dr. B.R. Ambedkar Learning Centre (ALC) for PwD physical verification by institute medical board. The candidates are requested to read this document completely before initiating any activity and note the following schedule: What? How? When? Payment of balance fee (Pay through SMILE-ERP portal and Entering basic data of the candidate and uploading of documents in SMILE-ERP portal) Online \\n\\nAugust 11th to 14th , 2024 \\n\\nResponding to queries of document verification officer through SMILE-ERP portal August 11th to 14th , 2024 \\n\\nPhysical reporting at Dr. B.R. Ambedkar Learning Centre for provisional admission \\n\\nOffline \\n\\nCivil Engineering I-Phase on 11.08.2024 & II-Phase on 16.08.2024 Electrical and Electronics Engineering Biotechnology Computer Science and Engineering I-Phase on 12.08.2024 & II-Phase on 16.08.2024 Artificial Intelligence and Data Science Metallurgical and Materials Engineering Electronics and Communication Engineering I-Phase on 13.08.2024 & II-Phase on 17.08.2024 VLSI Design and Technology Chemical Engineering Mechanical Engineering I-Phase on 14.08.2024 & II-Phase on 17.08.2024 Mathematics and Computing 5 year Integrated M.Sc. *Please contact the respective Head of the Department for any queries related to orientation programme and commencement of classwork. Contact details of all the Heads of the Departments and Faculty Advisors are available in page 9. \\n\\nPage 2 of 9 \\n\\nI. SMILE portal link for uploading the documents: https://erp.nitw.ac.in/ext/adm/login The instructions for registration and document uploading on SMILE portal for all the first year students is available at: https://nitw.ac.in/api/static/files/SMILE_Instruction_for_Reporting_2023-6-31-11-15-25.pdf you have to upload the necessary documents on the portal on or before August 14, 2024, @5.00PM. After verification of the documents, if all the uploaded documents are correct, you will be receiving an email from the Institute with the details of your provisional admission allotment number. For any technical issues, please contact: erp_support@nitw.ac.in The admission is PROVISIONAL subject to production of all required original documents mentioned below at the time of physical reporting to the Institute. Also, at the time of physical reporting to the Institute, if any certificate is found incorrect the admission will be cancelled. II. BALANCE FEE (Pay through SMILE-ERP portal) The details of balance fee (if applicable) to be paid to the Institute are given below. NOTE: (i) All the SC/ST/PwD category B.Tech students are exempted from paying the “tuition fee”. However, it is mandatory to pay the “other fee” as shown below. (ii) There is no tuition fee waiver for SC/ST/PwD students of 5-year Integrated M.Sc. programme. (iii) There is no income based fee remission for General/General-EWS/OBC-NCL students of 5-year Integrated M.Sc. programme. Table – 1 (Applicable only to B. Tech students admitted through JoSAA/CSAB-2024) \\n\\nS. No. Item GEN/ GEN-EW S/ OBC-NCL GEN/ GEN-EWS/ OBC-NCL (Income: 1-5 lakhs) GEN/ GEN-EWS/ OBC-NCL (Income below 1 lakh) \\n\\nSC/ ST/ PwD (1) Tuition Fee (per semester) 62,500/- 20,833/-* NIL* NIL (2) Other Fee (for first year) 42,500/- 42,500/- 42,500/- 42,500/- (3) Total [(1) + (2)] 1,05,000/- 63,333/- 42,500/- 42,500/- (4) Fee paid to JoSAA/ CSAB towards Seat Acceptance Fee and Partial Admission Fee 75,000/- 75,000/- 75,000/- 32,500/- (5) Balance fee to be paid 30,000/- Balance amount will be refunded to the student bank account Balance amount will be refunded to the student bank account 10,000/- Remarks - *Subject to acceptance of income certificate uploaded on SMILE portal - \\n\\nNOTE: (i) Candidates seeking fee remission based on income certificate are advised to pay the Tuition Fee, only after the acceptance of uploaded income certificate. (ii) The balance refundable amount (if applicable) will be deposited in the student bank account only after the Institute receives the student fee from JoSAA/CSAB. \\n\\nPage 3 of 9 \\n\\nTable-2 (Applicable only to 5-Year Integrated M.Sc. students admitted through JoSAA/CSAB-2024) S. No. Item GEN/GEN-EW S/OBC-NCL SC/ST/PwD (1) Tuition Fee (per semester) 20,000/- 20,000/- (2) Other Fee (for first year) 42,500/- 42,500/- (3) Total [(1) + (2)] 62,500/- 62,500/- (4) Fee paid to JoSAA/ CSAB towards Seat Acceptance Fee and Partial Admission Fee 75,000/- 32,500/- (5) Balance fee to be paid Balance amount will be refunded to the student bank account 30,000/- \\n\\nTable-3A Other Fee Details (one-time payment at the time of admission) S. No. Details Fee 1 Admission Fee 7,500 2 Identity Card 500 3 NITW Alma -mater fund 2,000 4 Institute Development and Maintenance Fund 20,000 Sub-total (A) 30,000 Table-3B Other Fee Details (to be paid every year) S. No. Details Fee 1 IT User Charges (maintenance of Computer / Email) 2000 2 Department Society Fee 1000 3 Student Activity Fund 1000 4 Student Welfare Fund 500 5 Games and Sports activities 1000 6 Medical and Health Services Fee 2000 7 Student Library Fund 2000 8 Institute Fests Fee (Spring Spree, Technozion, Youth fest & Aayodhan) 1000 9 Career Development Fee 2000 Sub-total (B) 12500 Table-3C Other Fee Details S. No. Details Fee 1 One-time payment at the time of admission (A) 30,000 2 To be paid every year (B) 12,500 Total (Other Fee Component for First Year) 42,500 NOTE: Other fee per year from second year onwards in Rs. 12,500/-. Convocation fee of Rs. 2,500/- will be collected in the final year and Rs. 200/- towards postal charges will be collected in the final year. Refund policy: The candidates who fail to physically report to the Institute will not get any refund. If any candidate wants to cancel his/her allotted seat after physical reporting to the Institute, he/she can send a request for cancellation to the Associate Dean (Admissions) through the respective Head of the Department. In that case, the candidate should provide the Bank account details (Name of the account holder, Account Number, Name of the bank branch, IFSC code) along with the proof (either a copy of cancelled cheque or front page of the bank passbook). The account must be in the name of the candidate. Such candidates are eligible to get the refund of Rs. 3,000/- (three thousand) only. The refund amount will be transferred to the candidate’s bank account only after receiving the amount from JoSAA/CSAB. The tentative timeline of receiving the amount from JoSAA/CSAB is February/March, 2025. \\n\\nPage 4 of 9 \\n\\nIII. HOSTEL FEE ( Pay through SMILE-ERP): Click the link for details https://nitw.ac.in/api/static/files/UG_Freshers_Hostel_fee_structure_2024-25_2024-7-11- 12-45-21.pdf \\n\\nIV. DOUEMENTS TO BE UPLOADED IN SMILE PORTAL 1. Provisional Seat Allotment Letter (after JoSAA Round-5/CSAB Special Round-2). 2. JEE (Main) Admit Card. 3. JEE (Main) Score/Rank Card. 4. SSC/ Class X Certificate. 5. Intermediate/ Class XII/ (10+2)/ Equivalent Pass Certificate / Marks Sheets. Class XII Transfer/ College Leaving Certificate (original to be submitted at the time of physical reporting). 6. Migration Certificate (original to be submitted at the time of physical reporting). 7. OBC-NCL Certificate (original issued on or after 01.04.2024 to be submitted at the time of physical reporting) [if applicable]. 8. EWS Certificate (original issued on or after 01.04.2024 to be submitted at the time of physical reporting) [if applicable]. 9. SC/ST/PwD Category Certificate. 10. OCI certificate/ PIO card [if applicable]. 11. Medical fitness certificate original uploaded to JoSAA/CSAB portal (original to be submitted at the time of physical reporting). \\n\\nApart from the above documents, applicants claiming fee remission should submit following documents in a single PDF file: \\n\\n12. Provisional Seat Allotment Letter (after JoSAA Round-6/CSAB Special Round-2). 13. Annual family income certificate issued on or after 01.04.2024 by the Competent Authority (original to be submitted at the time of physical reporting). If one of the parent is not an earning member, PAN card shall be submitted instead of the income certificate. 14. Undertaking for family income in the format given at the end of this document. 15. Aadhar cards of the student and parents separately duly self-attested. 16. PAN cards of father and mother duly self-attested. In case of non-availability of PAN card, they have to apply and upload the receipt of PAN card application. 17. An affidavit on a non-Judicial Stamp paper worth Rs. 50/- in the format given at the end of this document [in case the format of the certificate of a particular State (other than Telangana and Andhra Pradesh) does not include parent Aadhaar number]. \\n\\nPage 5 of 9 \\n\\nInstructions for submission of income certificate for claiming the tuition fee remission based on parents income: First year B.Tech students (fee remission is not applicable to 5-year Integrated M.Sc. students) admitting through JoSAA-2024/CSAB-2024 for the academic year 2024-2025 are required to submit their annual family income certificate for claiming tuition fee remission. The above documents (as a single pdf file) obtained from relevant authorities of the respective State shall be submitted through SMILE portal which will be activated on 11.08.2024 at 10:00 a.m. Last date for submission of income certificate and the relevant documents through SMILE portal is 14.08.2024, 5 p.m. If the income certificate is found incorrect and rejected, then the candidate has to pay the full tuition fee as shown in Table 1. Note: SC/ST/PwD students are exempted from payment of tuition fee. They need not have to submit any income certificate. The fee remission is applicable only to General, General- EWS, and OBC-NCL students. 1. The Annual Income Certificate issued in the Name of Family (including mother and father) is only to be submitted for claiming the tuition fee remission along with PAN card of mother and father. Certificate issued in the name of the student is not valid. The certificate shall be issued on or after April 1, 2024. [In case any State Government is not issuing family income certificate by including the income of the parents (both father and mother), individual certificates shall be obtained. If one of the parent is not an earning member, PAN card shall be submitted instead of the income certificate]. 2. The Aadhaar number of the parent shall be mandatorily mentioned in the income certificate. Certificates without Aadhaar number of parent is not valid. In case the format of the certificate of a particular State (other than Telangana and Andhra Pradesh) does not include Aadhaar number, an undertaking on Rs. 50/- non-Judicial stamp paper endorsed with Notary shall be submitted. The format for the undertaking is available at the end of this document. 3. The list of States issuing Income certificates with/ without Aadhaar Number is already available with the Academic Section as per the past records. Hence, the income certificate submitted by the students from such States without Aadhaar Number will not be considered for fee remission even with the affidavit. No further communication in this aspect will be entertained. 4. The issuing authority of the income certificate shall be according to the enclosed list for each State. Certificate issued by any other authority is not valid. 5. The applications submitted without any of the above documents or in improper format will not be considered for fee remission. 6. The applications received after the due date will not be considered. 7. All students are to take utmost care in uploading documents through SMILE portal after reading the instructions carefully. 8. Note that the institute will send these claims for investigation along with the Aadhaar number which is also linked to PAN. Strict action will be taken if anyone is found violating the rules. For any queries, please contact Academic Section UG Seat. Phone no.: 0870-2462056, Email: acad_ugseat@nitw.ac.in. \\n\\nPage 6 of 9 \\n\\nINCOME CERTIFICATE ISSUING AUTHORITY IN VARIOUS STATES / UNION TERRITORIES Sl. No. State/Union Territory Income Certificate Issuing Authority 1 Andaman & Nicobar Tahsildar 2 Andhra Pradesh Tahsildar 3 Arunachal Pradesh District Magistrate & Collector 4 Assam Revenue Circle Officers 5 Bihar Circle Officer of Circle Office 6 Chandigarh Sub Divisional Magistrates 7 Chhattisgarh Naib Tahsildar 8 Daman & Diu & Dadra & Nagar Haveli Mamlatdar, Daman and Mamlatdar, Diu 9 Delhi SDM of Govt. of NCT of Delhi 10 Goa Mamlatdar of all Talukas 11 Gujarat District Collector / Deputy Collector / Asstt. Collector / Prant Officer / Mamlatdar 12 Haryana CRO (Tahsildar / Naib Tahsildar concerned) 13 Himachal Pradesh Tahsildar of Revenue Department 14 Jammu & Kashmir Sub Divisional Magistrate (not below the rank of Tahsildar) 15 Jharkhand Sub Divisional Officer in each District 16 Karnataka Tahsildar 17 Kerala Village Officers 18 Lakshadweep Deputy Collectors in Agatti and Minicoy and SDOs in the remaining Islands 19 Madhya Pradesh Tahsildar / Naib Tahsildar 20 Maharashtra Tahsildar 21 Manipur District Authorities i.e. DC / ADC / SDO (not below the rank of SDO/SDM 22 Meghalaya Employer in case of Govt. employee and by the MP / MLA / DC / SDO Civil in case of others 23 Mizoram District Magistrate or any other officers authorized by District Magistrate 24 Nagaland Dy. Commissioners, Addl. Dy. Commissioners and Sub- Divisional Officers (C) 25 Odisha Revenue Officers 26 Punjab CRO (Tahsildar / Naib Tahsildar concerned) 27 Pondicherry Tahsildar, Deputy Tahsildar 28 Rajasthan Tahsildar 29 Sikkim Special Executive Magistrate (Block Development Officers, Rural Management & Development Deptt.) 30 Tamil Nadu Zonal Deputy Tahsildar 31 Telangana Tahsildar 32 Tripura Deputy Commissioner of Respective Districts 33 Uttar Pradesh Tahsildar 34 Uttaranchal Tahsildar / SDM / City Magistrate 35 West Bengal 1. Dist. Magistrate or -District Level Addl. Dist. Magistrate 2. Sub-Divisional Officer – Sub Divisional Level of the concerned 3. Block Development officer – Block Level of the concerned Blocks 4. The Collector, Kolkata – Kolkata Municipal Corporation. 5. The Collector, Kolkata – Student residing within Civil Jurisdiction of Hon’ble High Court, Kolkata 6. Other areas covered in Kolkata Police are concerned i.e. areas over which collector, Kolkata does not exercise jurisdiction – concerned District magistrate or any other Officer Authorized by the District Magistrate of the respective district i.e., South 24 Paraganas and North 24 Paraganas. Note: In the remaining States / Union Territories, the Income Certificate may be obtained from the authorities decided by the State Government /UT Government concerned. \\n\\nPage 7 of 9 \\n\\nDECLARATION FOR INCOME CERTIFICATES WITHOUT AADHAAR NUMBER \\n\\n(Rs. 50/- Non Judicial Stamp Paper) \\n\\nWe the resident of _________________________, Mandal ____________________________, District _______________________, State ____________________, PIN ___________ hereby declare that the statement given in the application form for remission of the tuition fee is true and correct and nothing has been concealed. Any change in my/our family income hereafter will be informed to the Institute promptly. We further undertake that in the event of any of the particulars given in the application form being found false: • The amount of exemption/ waiver/ remission provided to the student will be refunded to NIT Warangal. • I am not availing any other scholarships/ financial support from any other organization for tuition fee. NIT Warangal reserves the right to get the information/ credentials/ particulars/ certificates etc. with respect to the student and contents of the affidavit verified by the concerned authorities i.e. the Income Tax Department, the Bank, BDO/ CO/ Tehsildar/ Gram Panchayat etc., Land record authorities, previous Schools the student has studied in etc. • The remitted amount will be refunded by me if I indulge in any unfair means in any examination, misconduct including ragging, and consumption of intoxicating drinks/ drugs during the course of my study in the Institute. • I understand that if the information provided by me is found to be false or wrong, disciplinary proceedings will be initiated against me and action may be taken against me, which may include rustication from the Institute/ any other legal action deemed fit. \\n\\nSignature of the Student: \\n\\nName of the Student: \\n\\nJEE (Main) Application No.: \\n\\nAadhaar No.: \\n\\nContact No.: \\n\\nSignature of the Father: \\n\\nSignature of the Mother: \\n\\nName of the Father: \\n\\nName of the Mother: \\n\\nPAN No.: \\n\\nPAN No.: \\n\\nAadhaar No.: \\n\\nAadhaar No.: \\n\\nContact No.: \\n\\nContact No.: \\n\\nDATE: Note: The Affidavit should be signed by the student as well the parents/guardian. \\n\\nPage 8 of 9 \\n\\nUndertaking for Family Income \\n\\n(To be submitted on an A4 sheet) I _______________________________________________________________, Son / Daughter of Mr./Mrs. _________________________________________________________________________, JEE (Main) Application No. __________________________________________________________, admitting in B.Tech. First Year at NIT Warangal hereby state that my family income for the financial year 2023-2024 is Rs. (in words: _________ __________________________________only). I declare that the information provided by me is true. If at any time, it is found that my parent’s income is not correct as per the certificate submitted, I am ready to forego the fee remission and will pay the full fee as applicable, in addition to the disciplinary action that may be taken by the Institute. \\n\\nSignature of the student: Signature of the Parent: Name of the student: \\n\\n Name of the Parent: \\n\\nStudent Aadhaar No. \\n\\n Parent Aadhaar No. \\n\\nStudent Contact No. \\n\\n Parent Contact No. \\n\\nDATE: \\n\\nPage 9 of 9 \\n\\nCONTACT DETAILS OF HEADS OF THE DEPARTMENTS AND FACULTY ADVISORS Department Programme/ Branch Contact Details of Faculty Advisors Head of the Department Civil Engineering B.Tech Civil Engineering Dr. S. Anitha Priyadharshani priyadharshanianitha@nitw.ac.in 9489192069 civil_hod@nitw.ac.in 0870-2462100 9490165341 Electrical Engineering B.Tech Electrical and Electronics Engineering Dr. I. Satish Kumar drinjetisatishkumar@nitw.ac.in 9581371537 eee_hod@nitw.ac.in 0870-2462200 9490165342 Mechanical Engineering B.Tech Mechanical Engineering Dr. Ramesh Babu Pallekonda pallekonda@nitw.ac.in 6033298652 mech_hod@nitw.ac.in 0870-2462300 9490165343 Electronics and Communication Engineering B.Tech Electronics and Communication Engineering Dr. Vasundhara vasundhara@nitw.ac.in 9778162166 ece_hod@nitw.ac.in 0870-2462400 9490165344 B.Tech Electronics and Communication Engineering (VLSI Design and Technology) Dr. Satish M. satishm@nitw.ac.in 9760018986 Metallurgical and Materials Engineering B.Tech Metallurgical and Materials Engineering Dr. Sreedevi V. sreedeviv@nitw.ac.in 9849920318 mme_hod@nitw.ac.in 0870-2462500 9490165345 Chemical Engineering B.Tech Chemical Engineering Dr. P. Sampath Kumar Reddy pskr@nitw.ac.in 8497968889 chemical_hod@nitw.ac.in 0870-2462600 9490165346 Computer Science and Engineering B.Tech Computer Science and Engineering Dr. K. Venkateswara Rao venkat.kagita@nitw.ac.in 6281746931 Dr. Ch. Ramalinga Swamy rmlswamy@nitw.ac.in 9573827143 cse_hod@nitw.ac.in 0870-2462700 9490165347 Biotechnology B.Tech Biotechnology Dr. Anbumathi P. anbu@nitw.ac.in 8056628775 biotech_hod@nitw.ac.in 0870-2462880 9490165348 Physics 5-year Integrated M.Sc. Physics Dr. V. Jayalaxmi jayalakshmiv@nitw.ac.in 8332969477 physics_hod@nitw.ac.in 0870-2462550 9490165351 Chemistry 5-year Integrated M.Sc. Chemistry Dr. Raghu Chitta raghuchitta@nitw.ac.in 8290529060 chemistry_hod@nitw.ac.in 0870-2462650 9490165352 Mathematics 5-year Integrated M.Sc. Mathematics Dr. A. Benerji Babu abenerji@nitw.ac.in 8332969455 maths_hod@nitw.ac.in 0870-2462800 9490165350 B.Tech Mathematics and Computing Dr. E. Satyanarayana satya@nitw.ac.in 9611422816'},\n",
       " {'url': 'https://nitw.ac.in/api/static/files/DASA-2024_Physical_Reporting_Instructions_for_B.Tech_First_Year_Students_2024-8-7-18-0-27.pdf',\n",
       "  'date': '2024-08-07',\n",
       "  'title': 'DASA-2024 Physical Reporting Instructions | Physical Reporting Instructions for  First Year B.Tech and 5 year integrated M.Sc., Students Admitting through  DASA - 2024 (Academic Year 2024-2025)',\n",
       "  'info': 'Page 1 of 4 \\n\\nNational Institute of Technology Warangal Physical Reporting Instructions for First Year B.Tech and 5 year integrated M.Sc., Students Admitting through DASA - 2024 (Academic Year 2024-2025) Congratulations to the candidates who got provisional seat allotment in B.Tech programme at National Institute of Technology Warangal through DASA-2024 for the academic year 2024-2025. The candidates are requested to report physically at Dr. B.R. Ambedkar Learning Centre (ALC) for Provisional Admission during August 11 to August 17, 2024, @ 9.00AM. The candidates are requested to read this document completely before initiating any activity and note the following schedule: What? How? When? Payment of balance fee (Pay through SMILE-ERP portal and Entering basic data of the candidate and uploading of documents in SMILE-ERP portal) Online \\n\\nAugust 11th to 14th , 2024 \\n\\nResponding to queries of document verification officer through SMILE-ERP portal August 11th to 14th , 2024 \\n\\nPhysical reporting at Dr. B.R. Ambedkar Learning Centre for provisional admission \\n\\nOffline \\n\\nCivil Engineering I-Phase on 11.08.2024 & II-Phase on 16.08.2024 Electrical and Electronics Engineering Biotechnology Computer Science and Engineering I-Phase on 12.08.2024 & II-Phase on 16.08.2024 Artificial Intelligence and Data Science Metallurgical and Materials Engineering Electronics and Communication Engineering I-Phase on 13.08.2024 & II-Phase on 17.08.2024 VLSI Design and Technology Chemical Engineering Mechanical Engineering I-Phase on 14.08.2024 & II-Phase on 17.08.2024 Mathematics and Computing 5 year Integrated M.Sc. \\n\\n*Please contact the respective Head of the Department for any queries related to orientation programme and commencement of classwork. Contact details of all the Heads of the Departments and Faculty Advisors are available in page 4. Page 2 of 4 \\n\\nI. SMILE portal link for uploading the documents: https://erp.nitw.ac.in/ext/adm/login The instructions for registration and document uploading on SMILE portal for all the first year students is available at: https://nitw.ac.in/api/static/files/SMILE_Instruction_for_Reporting_2023-6-31-11-15-25.pdf you have to upload the necessary documents on the portal on or before August 14, 2024. After verification of the documents, if all the uploaded documents are correct, you will be receiving an email from the Institute with the details of your provisional admission allotment number. For any technical issues, please contact: erp_support@nitw.ac.in The admission is PROVISIONAL subject to production of all required original documents mentioned below at the time of physical reporting to the Institute. Also, at the time of physical reporting to the Institute, if any certificate is found incorrect the admission will be cancelled. \\n\\nII. BALANCE FEE (Pay through SMILE - ERP Portal): The balance fee to be paid to the Institute (to be paid in INR only) is Rs. 42,500/-. Table-3A Other Fee Details (one-time payment at the time of admission) S. No. Details Fee 1 Admission Fee 7,500 2 Identity Card 500 3 NITW Alma -mater fund 2,000 4 Institute Development and Maintenance Fund 20,000 Sub-total (A) 30,000 Table-3B Other Fee Details (to be paid every year) S. No. Details Fee 1 IT User Charges (maintenance of Computer / Email) 2000 2 Department Society Fee 1000 3 Student Activity Fund 1000 4 Student Welfare Fund 500 5 Games and Sports activities 1000 6 Medical and Health Services Fee 2000 7 Student Library Fund 2000 8 Institute Fests Fee (Spring Spree, Technozion, Youth fest & Aayodhan) 1000 9 Career Development Fee 2000 Sub-total (B) 12500 Table-3C Other Fee Details S. No. Details Fee 1 One-time payment at the time of admission (A) 30,000 2 To be paid every year (B) 12,500 Total (Other Fee Component for First Year) 42,500 NOTE: Other fee per year from second year onwards in Rs. 12,500/-. Convocation fee of Rs. 2,500/- will be collected in the final year and Rs. 200/- towards postal charges will be collected in the final year. \\n\\nPage 3 of 4 \\n\\nIII. HOSTEL FEE ( Pay through SMILE-ERP): Click the link for details https://nitw.ac.in/api/static/files/UG_Freshers_Hostel_fee_structure_2024- 25_2024-7-11-12-45-21.pdf \\n\\nIV. DOUEMENTS TO BE UPLOADED IN SMILE PORTAL • Provisional Seat Allotment Letter. • Balance Institute fee receipt. • DASA-2024 Rank Card / JEE (Main) – 2024 Rank Card. • SSC/ Class X Certificate. • Intermediate/ Class XII/ (10+2)/ Equivalent Pass Certificate / Marks Sheets. • Transfer/ College Leaving Certificate (original to be submitted at the time of physical reporting). • Migration Certificate (original to be submitted at the time of physical reporting). • Medical fitness certificate original (to be submitted at the time of physical reporting; format available at: https://nitw.ac.in/page/?url=/Self%20Declaration/UndertakingFormats • Passport and VISA. Apart from the above documents, DASA (CIWG*) candidates have to upload the following documents: • Passport of parent working in Gulf countries. • VISA of parent working in Gulf countries. • Letter from company of parent working in Gulf countries. • *Countries under CIWG: United Arab Emirates, Bahrain, Iraq, Iran, Kuwait, Oman, Qatar, and Saudi Arabia. Page 4 of 4 \\n\\nV. CONTACT DETAILS OF HEADS OF THE DEPARTMENTS AND FACULTY ADVISORS \\n\\nDepartment Branch Contact Details of Faculty Advisors Head of the Department Civil Engineering Civil Engineering Dr. B. Kavitha kavithab@nitw.ac.in 9944139989 civil_hod@nitw.ac.in 0870-2462100 9490165341 Electrical Engineering Electrical and Electronics Engineering Dr. I. Satish Kumar drinjetisatishkumar@nitw.ac.in 9581371537 eee_hod@nitw.ac.in 0870-2462200 9490165342 Mechanical Engineering Mechanical Engineering Dr. Ramesh Babu Pallekonda pallekonda@nitw.ac.in 6033298652 mech_hod@nitw.ac.in 0870-2462300 9490165343 Electronics and Communication Engineering Electronics and Communication Engineering Dr. Amarjitkumar amarjitk@nitw.ac.in 7906021481 ece_hod@nitw.ac.in 0870-2462400 9490165344 Electronics and Communication Engineering Electronics and Communication Engineering (VLSI Design and Technology) Dr. Amarjitkumar amarjitk@nitw.ac.in 7906021481 ece_hod@nitw.ac.in 0870-2462400 9490165344 Metallurgical and Materials Engineering Metallurgical and Materials Engineering Dr. Sreedevi V. sreedeviv@nitw.ac.in 9849920318 mme_hod@nitw.ac.in 0870-2462500 9490165345 Chemical Engineering Chemical Engineering Dr. Phanikumar Pentyala phanikumar@nitw.ac.in 9444321432 chemical_hod@nitw.ac.in 0870-2462600 9490165346 Computer Science and Engineering Computer Science and Engineering Prof. Tapan Tapan Sahu tapan@nitw.ac.in 7978180153 Prof. Shiva Darshan SL shivadarshan@nitw.ac.in 9743413637 Prof. Venkateswara Rao Kagita venkat.kagita@nitw.ac.in 9966456713 cse_hod@nitw.ac.in 0870-2462700 9490165347 Biotechnology Biotechnology Prof.Soumya Lipsa Rath slrath@nitw.ac.in 7978293479 biotech_hod@nitw.ac.in 0870-2462880 9490165348 Mathematics Mathematics and Computing Prof Y Srinivasa Rao ysr@nitw.ac.in 9494776866 \\n\\nmaths_hod@nitw.ac.in 0870-2462800 9490165350'},\n",
       " {'url': 'https://nitw.ac.in/cdis/assets/images/docs/Admission_Steps_ERP.pdf',\n",
       "  'date': '2024-11-27',\n",
       "  'title': 'SMILE ERP Instructions for online Reporting of PhD Admission, December 2024 | -',\n",
       "  'info': 'SMILE Instruction for Reporting \\n\\nStep 1 Go to:- https://erp.nitw.ac.in/ext/adm/login \\n\\nStep 2 Follow the below Steps \\n\\nContact Details: For Admissions related quiries : email id -> admissions@nitw.ac.in For Technical related quiries : email id -> erp_support@nitw.ac.in \\n\\nClick on \\n\\nEnter the Email, Mobile No, Full Name & Date of Birth. The data must be entered same as provided during application by the candidate. Then click on \\n\\nA Token and an OTP will be sent to your registered email as two separate mails. \\n\\nEnter the Token and an OTP sent to your registered email. create your own password and Confirm Password ( Password should be Alphanumeric only) then click on \\n\\nAfter Successful Registration the above message will be displayed. Then click on OK . Then click on to Sign In to the portal. \\n\\nEnter the Email ID and Password set during registration by you and then Click on \\n\\nAfter sign in, select your concerned advertisement click on Apply \\n\\nSelect the program belongs to you and put choice as “1” and click on \\n\\nSelect \\n\\nCandidate’s Verification popup will be displayed, Email Token and an OTP will be sent to your registered email. \\n\\nEnter the Email Token and an OTP sent to the registered email and click on “Verify Email Token & OTP” \\n\\nAfter successful verification Confirmation on click on “Yes”. \\n\\nAfter confirmation check your application status must be shown as . Then click on “My Applications”. Applied\\n\\nClick on “View” to proceed. \\n\\nBy selecting each left panel (Personal, Education, Qualifying, Payment Details, Document upload and Freeze application ). Fill up all the details. \\n\\nInstitute fee and Hostel fee ( applicable for hostel accommodation only) to be paid through this screen as mentioned above. \\n\\nUpload all the required documents. \\n\\nOnce each section completed, “Freeze” the application. \\n\\nOnce the application is freezed, check all sections (Personal, Education, Qualifying ., etc.) must be changed from red to green color shown as above. After verification of your application, Take a printout of biodata from your login, Submit during physical reporting.'}]"
      ]
     },
     "execution_count": 8,
     "metadata": {},
     "output_type": "execute_result"
    }
   ],
   "source": [
    "search_results"
   ]
  },
  {
   "cell_type": "code",
   "execution_count": 1,
   "id": "22be0c76-768d-4b89-b267-fa63ea346638",
   "metadata": {},
   "outputs": [],
   "source": [
    "def prompt_builder(query, search_results):       \n",
    "        prompt_template = \"\"\"You are an AI assistant designed to help students of NIT Warangal (NITW) by answering their questions accurately and responsibly.\n",
    "\n",
    "        You are provided with CONTEXT retrieved from trusted NITW sources. Your job is to:\n",
    "        \n",
    "        1.  Base your answer *primarily* on the provided CONTEXT. Synthesize information from the context to address the user's query as accurately as possible.\n",
    "        2.  Do NOT use any outside or prior knowledge. Your response must be derived *solely* from the provided context.\n",
    "        3.  **Handling Insufficient or Loosely Related Context:**\n",
    "            *   If the context does not contain a direct or complete answer to the query, do *not* invent information.\n",
    "            *   Instead, summarize the most relevant information found in the context related to the query.\n",
    "            *   If the context is only loosely related or minimal, acknowledge the query and provide the relevant context snippets or simply list the source URL(s) as the best available information based on the text provided.\n",
    "            *   Do *not* use the phrase \"I could not find a verified answer to that in the available information.\"\n",
    "        4.  **Crucially:** Do NOT hallucinate. Only state facts or information that are explicitly mentioned or clearly inferable *from the provided context*.\n",
    "        5.  ALWAYS cite the source(s) used by including the URL(s) at the end of your response.\n",
    "        \n",
    "        Now, answer the following question:{query}\n",
    "        URL: {url}\n",
    "        \n",
    "        CONTEXT: {context}\n",
    "        \n",
    "        INSTRUCTIONS:\n",
    "        - Only use facts and information derived *strictly* from the context.\n",
    "        - Do not assume, generate, or state information not backed by the context.\n",
    "        - If a direct answer isn't possible from the context, provide relevant summaries or snippets from the context instead.\n",
    "        - Make your response clear and concise.\n",
    "        - At the end of your answer, include a reference to the source like:\n",
    "        (SOURCE: {url})\"\"\".strip()\n",
    "        \n",
    "        \n",
    "        context = \"\"\n",
    "        sources = \"\"\n",
    "        for doc in search_results:\n",
    "            context = context + f\"title: {doc['title']}\\ninfo: {doc['info']}\\n\\n\"\n",
    "            sources += f\"url: {doc['url']}\\n\"\n",
    "            \n",
    "        \n",
    "        prompt = prompt_template.format(url=sources, context=context, query = query).strip()\n",
    "        return prompt"
   ]
  },
  {
   "cell_type": "code",
   "execution_count": 2,
   "id": "f3e82a24-975e-4154-8d59-5bc59d211741",
   "metadata": {},
   "outputs": [
    {
     "name": "stdout",
     "output_type": "stream",
     "text": [
      "Collecting genai\n",
      "  Downloading genai-2.1.0-py3-none-any.whl.metadata (6.5 kB)\n",
      "Requirement already satisfied: ipython<9.0.0,>=8.10.0 in /home/admin1/miniconda3/envs/dataeng/lib/python3.10/site-packages (from genai) (8.34.0)\n",
      "Collecting openai<0.28.0,>=0.27.0 (from genai)\n",
      "  Downloading openai-0.27.10-py3-none-any.whl.metadata (13 kB)\n",
      "Collecting tabulate<0.10.0,>=0.9.0 (from genai)\n",
      "  Downloading tabulate-0.9.0-py3-none-any.whl.metadata (34 kB)\n",
      "Collecting tiktoken<0.4.0,>=0.3.2 (from genai)\n",
      "  Downloading tiktoken-0.3.3-cp310-cp310-manylinux_2_17_x86_64.manylinux2014_x86_64.whl.metadata (5.2 kB)\n",
      "Requirement already satisfied: decorator in /home/admin1/miniconda3/envs/dataeng/lib/python3.10/site-packages (from ipython<9.0.0,>=8.10.0->genai) (5.2.1)\n",
      "Requirement already satisfied: exceptiongroup in /home/admin1/miniconda3/envs/dataeng/lib/python3.10/site-packages (from ipython<9.0.0,>=8.10.0->genai) (1.2.2)\n",
      "Requirement already satisfied: jedi>=0.16 in /home/admin1/miniconda3/envs/dataeng/lib/python3.10/site-packages (from ipython<9.0.0,>=8.10.0->genai) (0.19.2)\n",
      "Requirement already satisfied: matplotlib-inline in /home/admin1/miniconda3/envs/dataeng/lib/python3.10/site-packages (from ipython<9.0.0,>=8.10.0->genai) (0.1.7)\n",
      "Requirement already satisfied: pexpect>4.3 in /home/admin1/miniconda3/envs/dataeng/lib/python3.10/site-packages (from ipython<9.0.0,>=8.10.0->genai) (4.9.0)\n",
      "Requirement already satisfied: prompt_toolkit<3.1.0,>=3.0.41 in /home/admin1/miniconda3/envs/dataeng/lib/python3.10/site-packages (from ipython<9.0.0,>=8.10.0->genai) (3.0.50)\n",
      "Requirement already satisfied: pygments>=2.4.0 in /home/admin1/miniconda3/envs/dataeng/lib/python3.10/site-packages (from ipython<9.0.0,>=8.10.0->genai) (2.19.1)\n",
      "Requirement already satisfied: stack_data in /home/admin1/miniconda3/envs/dataeng/lib/python3.10/site-packages (from ipython<9.0.0,>=8.10.0->genai) (0.6.3)\n",
      "Requirement already satisfied: traitlets>=5.13.0 in /home/admin1/miniconda3/envs/dataeng/lib/python3.10/site-packages (from ipython<9.0.0,>=8.10.0->genai) (5.14.3)\n",
      "Requirement already satisfied: typing_extensions>=4.6 in /home/admin1/miniconda3/envs/dataeng/lib/python3.10/site-packages (from ipython<9.0.0,>=8.10.0->genai) (4.13.2)\n",
      "Requirement already satisfied: requests>=2.20 in /home/admin1/miniconda3/envs/dataeng/lib/python3.10/site-packages (from openai<0.28.0,>=0.27.0->genai) (2.32.3)\n",
      "Requirement already satisfied: tqdm in /home/admin1/miniconda3/envs/dataeng/lib/python3.10/site-packages (from openai<0.28.0,>=0.27.0->genai) (4.67.1)\n",
      "Requirement already satisfied: aiohttp in /home/admin1/miniconda3/envs/dataeng/lib/python3.10/site-packages (from openai<0.28.0,>=0.27.0->genai) (3.11.18)\n",
      "Requirement already satisfied: regex>=2022.1.18 in /home/admin1/miniconda3/envs/dataeng/lib/python3.10/site-packages (from tiktoken<0.4.0,>=0.3.2->genai) (2024.11.6)\n",
      "Requirement already satisfied: parso<0.9.0,>=0.8.4 in /home/admin1/miniconda3/envs/dataeng/lib/python3.10/site-packages (from jedi>=0.16->ipython<9.0.0,>=8.10.0->genai) (0.8.4)\n",
      "Requirement already satisfied: ptyprocess>=0.5 in /home/admin1/miniconda3/envs/dataeng/lib/python3.10/site-packages (from pexpect>4.3->ipython<9.0.0,>=8.10.0->genai) (0.7.0)\n",
      "Requirement already satisfied: wcwidth in /home/admin1/miniconda3/envs/dataeng/lib/python3.10/site-packages (from prompt_toolkit<3.1.0,>=3.0.41->ipython<9.0.0,>=8.10.0->genai) (0.2.13)\n",
      "Requirement already satisfied: charset_normalizer<4,>=2 in /home/admin1/miniconda3/envs/dataeng/lib/python3.10/site-packages (from requests>=2.20->openai<0.28.0,>=0.27.0->genai) (3.4.1)\n",
      "Requirement already satisfied: idna<4,>=2.5 in /home/admin1/miniconda3/envs/dataeng/lib/python3.10/site-packages (from requests>=2.20->openai<0.28.0,>=0.27.0->genai) (3.10)\n",
      "Requirement already satisfied: urllib3<3,>=1.21.1 in /home/admin1/miniconda3/envs/dataeng/lib/python3.10/site-packages (from requests>=2.20->openai<0.28.0,>=0.27.0->genai) (2.4.0)\n",
      "Requirement already satisfied: certifi>=2017.4.17 in /home/admin1/miniconda3/envs/dataeng/lib/python3.10/site-packages (from requests>=2.20->openai<0.28.0,>=0.27.0->genai) (2025.4.26)\n",
      "Requirement already satisfied: aiohappyeyeballs>=2.3.0 in /home/admin1/miniconda3/envs/dataeng/lib/python3.10/site-packages (from aiohttp->openai<0.28.0,>=0.27.0->genai) (2.6.1)\n",
      "Requirement already satisfied: aiosignal>=1.1.2 in /home/admin1/miniconda3/envs/dataeng/lib/python3.10/site-packages (from aiohttp->openai<0.28.0,>=0.27.0->genai) (1.3.2)\n",
      "Requirement already satisfied: async-timeout<6.0,>=4.0 in /home/admin1/miniconda3/envs/dataeng/lib/python3.10/site-packages (from aiohttp->openai<0.28.0,>=0.27.0->genai) (4.0.3)\n",
      "Requirement already satisfied: attrs>=17.3.0 in /home/admin1/miniconda3/envs/dataeng/lib/python3.10/site-packages (from aiohttp->openai<0.28.0,>=0.27.0->genai) (25.3.0)\n",
      "Requirement already satisfied: frozenlist>=1.1.1 in /home/admin1/miniconda3/envs/dataeng/lib/python3.10/site-packages (from aiohttp->openai<0.28.0,>=0.27.0->genai) (1.6.0)\n",
      "Requirement already satisfied: multidict<7.0,>=4.5 in /home/admin1/miniconda3/envs/dataeng/lib/python3.10/site-packages (from aiohttp->openai<0.28.0,>=0.27.0->genai) (6.4.4)\n",
      "Requirement already satisfied: propcache>=0.2.0 in /home/admin1/miniconda3/envs/dataeng/lib/python3.10/site-packages (from aiohttp->openai<0.28.0,>=0.27.0->genai) (0.3.1)\n",
      "Requirement already satisfied: yarl<2.0,>=1.17.0 in /home/admin1/miniconda3/envs/dataeng/lib/python3.10/site-packages (from aiohttp->openai<0.28.0,>=0.27.0->genai) (1.20.0)\n",
      "Requirement already satisfied: executing>=1.2.0 in /home/admin1/miniconda3/envs/dataeng/lib/python3.10/site-packages (from stack_data->ipython<9.0.0,>=8.10.0->genai) (2.1.0)\n",
      "Requirement already satisfied: asttokens>=2.1.0 in /home/admin1/miniconda3/envs/dataeng/lib/python3.10/site-packages (from stack_data->ipython<9.0.0,>=8.10.0->genai) (3.0.0)\n",
      "Requirement already satisfied: pure_eval in /home/admin1/miniconda3/envs/dataeng/lib/python3.10/site-packages (from stack_data->ipython<9.0.0,>=8.10.0->genai) (0.2.3)\n",
      "Downloading genai-2.1.0-py3-none-any.whl (16 kB)\n",
      "Downloading openai-0.27.10-py3-none-any.whl (76 kB)\n",
      "Downloading tabulate-0.9.0-py3-none-any.whl (35 kB)\n",
      "Downloading tiktoken-0.3.3-cp310-cp310-manylinux_2_17_x86_64.manylinux2014_x86_64.whl (1.7 MB)\n",
      "\u001b[2K   \u001b[90m━━━━━━━━━━━━━━━━━━━━━━━━━━━━━━━━━━━━━━━━\u001b[0m \u001b[32m1.7/1.7 MB\u001b[0m \u001b[31m1.8 MB/s\u001b[0m eta \u001b[36m0:00:00\u001b[0ma \u001b[36m0:00:01\u001b[0m\n",
      "\u001b[?25hInstalling collected packages: tabulate, tiktoken, openai, genai\n",
      "  Attempting uninstall: tiktoken\n",
      "    Found existing installation: tiktoken 0.9.0\n",
      "    Uninstalling tiktoken-0.9.0:\n",
      "      Successfully uninstalled tiktoken-0.9.0\n",
      "  Attempting uninstall: openai\n",
      "    Found existing installation: openai 1.77.0\n",
      "    Uninstalling openai-1.77.0:\n",
      "      Successfully uninstalled openai-1.77.0\n",
      "Successfully installed genai-2.1.0 openai-0.27.10 tabulate-0.9.0 tiktoken-0.3.3\n",
      "Note: you may need to restart the kernel to use updated packages.\n"
     ]
    }
   ],
   "source": []
  },
  {
   "cell_type": "code",
   "execution_count": 10,
   "id": "db1f4123-dfd6-4f9a-88a0-f0a98ba6bc12",
   "metadata": {},
   "outputs": [],
   "source": [
    "from openai import OpenAI\n",
    "\n",
    "client = OpenAI(\n",
    "    base_url=\"https://openrouter.ai/api/v1\"\n",
    ")"
   ]
  },
  {
   "cell_type": "code",
   "execution_count": 11,
   "id": "28720124-7a5f-4122-b57d-3c054a23bb1a",
   "metadata": {},
   "outputs": [],
   "source": [
    "def llm(prompt):\n",
    "    response = client.chat.completions.create(\n",
    "        model=\"mistralai/mixtral-8x7b-instruct\",  # Or any model from OpenRouter\n",
    "        messages=[\n",
    "            {\"role\": \"user\", \"content\": prompt }\n",
    "        ]\n",
    "    )\n",
    "    \n",
    "    return response.choices[0].message.content   "
   ]
  },
  {
   "cell_type": "code",
   "execution_count": 12,
   "id": "69398e5e-5ce8-41ff-b583-1f690021a891",
   "metadata": {},
   "outputs": [],
   "source": [
    "def rag(query):\n",
    "\n",
    "    search_results = elastic_search(query)\n",
    "    prompt = prompt_builder(query, search_results)\n",
    "    answer = llm(prompt)\n",
    "    return answer"
   ]
  },
  {
   "cell_type": "code",
   "execution_count": 13,
   "id": "48590152-efe9-4d5f-a7d5-7c8a907f20e7",
   "metadata": {},
   "outputs": [
    {
     "data": {
      "text/plain": [
       "\" To register and upload documents for Ph.D./ MBA/ M.Tech. (Self-Financed) admissions at NIT Warangal, follow these steps:\\n\\n1. Go to: https://erp.nitw.ac.in/ext/adm/login\\n2. After entering your email, mobile number, full name, and date of birth, click on 'Generate OTP and Token'. A Token and OTP will be sent to your registered email.\\n3. Enter the Token and OTP sent to your email, create your own password and Confirm Password, then click on 'Register'.\\n4. After successful registration, sign in using your email ID and password.\\n5. Select your concerned advertisement, click on 'Apply', select the program and fill in the required details.\\n6. Upload all the required documents and pay the fees (if applicable).\\n7. Once each section is completed, 'Freeze' the application.\\n8. After verification of your application, take a printout of the biodata from your login and submit it during physical reporting.\\n\\n(SOURCE: url: https://nitw.ac.in/cdis/assets/images/docs/Admission_Steps_ERP.pdf\\nurl: https://nitw.ac.in/api/static/files/Admission_Candidate_Steps_-_2024_2024-6-18-10-2-32.pdf\\nurl: https://nitw.ac.in/api/static/files/JoSAA-CSAB-2024_Physical_Reporting_Instructions_for_B.Tech_First_Year_and_5-Year_Integrated_MSc_First_Years_Students_2024-8-7-18-1-52.pdf\\nurl: https://nitw.ac.in/api/static/files/DASA-2024_Physical_Reporting_Instructions_for_B.Tech_First_Year_Students_2024-8-7-18-0-27.pdf\\nurl: https://nitw.ac.in/cdis/assets/images/docs/Admission_Steps_ERP.pdf)\""
      ]
     },
     "execution_count": 13,
     "metadata": {},
     "output_type": "execute_result"
    }
   ],
   "source": [
    "answer = rag(query)\n",
    "answer"
   ]
  },
  {
   "cell_type": "code",
   "execution_count": 15,
   "id": "a59a2899-75d4-4892-a68a-fed94cbb14f7",
   "metadata": {},
   "outputs": [],
   "source": [
    "Index = minsearch.Index(\n",
    "    text_fields = [ \"title\" ,  \"info\" ],\n",
    "    keyword_fields= []\n",
    ")"
   ]
  },
  {
   "cell_type": "code",
   "execution_count": 16,
   "id": "27f390b0-2f0b-481a-983b-d96bc67dbea0",
   "metadata": {},
   "outputs": [
    {
     "data": {
      "text/plain": [
       "<minsearch.Index at 0x7fd20f3e1c30>"
      ]
     },
     "execution_count": 16,
     "metadata": {},
     "output_type": "execute_result"
    }
   ],
   "source": [
    "Index.fit(documents)"
   ]
  },
  {
   "cell_type": "code",
   "execution_count": 17,
   "id": "f225dbd5-f1a6-4d17-886d-d7304f35f251",
   "metadata": {},
   "outputs": [],
   "source": [
    " def search (query):\n",
    "        boost = {\"title\": 1 , 'info': 1}\n",
    "        results = Index.search(\n",
    "            query=query,\n",
    "            boost_dict= boost,\n",
    "            num_results=5\n",
    "        )\n",
    "\n",
    "        return results"
   ]
  },
  {
   "cell_type": "code",
   "execution_count": 18,
   "id": "a7ce8ce6-3365-4802-8118-d81a1486c636",
   "metadata": {
    "scrolled": true
   },
   "outputs": [
    {
     "data": {
      "text/plain": [
       "[{'url': 'https://nitw.ac.in/cdis/assets/images/docs/Admission_Steps_ERP.pdf',\n",
       "  'date': '2025-05-26',\n",
       "  'title': 'Ph.D./ MBA/ M.Tech. (Self-Financed) Admissions - 2025 Registration and Document Uploading on SMILE ERP Portal | Instructions for registration and document uploading on SMILE ERP portal for Ph.D./ MBA / M.Tech. (Self-Financed) students 2025.',\n",
       "  'info': 'SMILE Instruction for Reporting \\n\\nStep 1 Go to:- https://erp.nitw.ac.in/ext/adm/login \\n\\nStep 2 Follow the below Steps \\n\\nContact Details: For Admissions related quiries : email id -> admissions@nitw.ac.in For Technical related quiries : email id -> erp_support@nitw.ac.in \\n\\nClick on \\n\\nEnter the Email, Mobile No, Full Name & Date of Birth. The data must be entered same as provided during application by the candidate. Then click on \\n\\nA Token and an OTP will be sent to your registered email as two separate mails. \\n\\nEnter the Token and an OTP sent to your registered email. create your own password and Confirm Password ( Password should be Alphanumeric only) then click on \\n\\nAfter Successful Registration the above message will be displayed. Then click on OK . Then click on to Sign In to the portal. \\n\\nEnter the Email ID and Password set during registration by you and then Click on \\n\\nAfter sign in, select your concerned advertisement click on Apply \\n\\nSelect the program belongs to you and put choice as “1” and click on \\n\\nSelect \\n\\nCandidate’s Verification popup will be displayed, Email Token and an OTP will be sent to your registered email. \\n\\nEnter the Email Token and an OTP sent to the registered email and click on “Verify Email Token & OTP” \\n\\nAfter successful verification Confirmation on click on “Yes”. \\n\\nAfter confirmation check your application status must be shown as . Then click on “My Applications”. Applied\\n\\nClick on “View” to proceed. \\n\\nBy selecting each left panel (Personal, Education, Qualifying, Payment Details, Document upload and Freeze application ). Fill up all the details. \\n\\nInstitute fee and Hostel fee ( applicable for hostel accommodation only) to be paid through this screen as mentioned above. \\n\\nUpload all the required documents. \\n\\nOnce each section completed, “Freeze” the application. \\n\\nOnce the application is freezed, check all sections (Personal, Education, Qualifying ., etc.) must be changed from red to green color shown as above. After verification of your application, Take a printout of biodata from your login, Submit during physical reporting.'},\n",
       " {'url': 'https://nitw.ac.in/api/static/files/Admission_Candidate_Steps_-_2024_2024-6-18-10-2-32.pdf',\n",
       "  'date': '2024-08-09',\n",
       "  'title': 'B.Tech./5 –Year Integrated M.Sc/M.Tech./ ALL MSc registration and document uploading on SMILE ERP portal | Instructions for registration and document uploading on SMILE ERP portal for   all admissions 2024',\n",
       "  'info': 'SMILE Instruction for Reporting \\n\\nStep 1 Go to:- https://erp.nitw.ac.in/ext/adm/login \\n\\nStep 2 Follow the below Steps \\n\\nContact Details: For Admissions related quiries : email id -> admissions@nitw.ac.in For Technical related quiries : email id -> erp_support@nitw.ac.in \\n\\nClick on \\n\\nEnter the Email, Mobile No, Full Name & Date of Birth. The data must be entered same as provided during application by the candidate. Then click on \\n\\nA Token and an OTP will be sent to your registered email as two separate mails. \\n\\nEnter the Token and an OTP sent to your registered email. create your own password and Confirm Password ( Password should be Alphanumeric only) then click on \\n\\nAfter Successful Registration the above message will be displayed. Then click on OK . Then click on to Sign In to the portal. \\n\\nEnter the Email ID and Password set during registration by you and then Click on \\n\\nAfter sign in, select your concerned advertisement click on Apply \\n\\nSelect the program belongs to you and put choice as “1” and click on \\n\\nSelect \\n\\nCandidate’s Verification popup will be displayed, Email Token and an OTP will be sent to your registered email. \\n\\nEnter the Email Token and an OTP sent to the registered email and click on “Verify Email Token & OTP” \\n\\nAfter successful verification Confirmation on click on “Yes”. \\n\\nAfter confirmation check your application status must be shown as . Then click on “My Applications”. Applied\\n\\nClick on “View” to proceed. \\n\\nBy selecting each left panel (Personal, Education, Qualifying, Payment Details, Document upload and Freeze application ). Fill up all the details. \\n\\nInstitute fee and Hostel fee ( applicable for hostel accommodation only) to be paid through this screen as mentioned above. \\n\\nUpload all the required documents. \\n\\nOnce each section completed, “Freeze” the application. \\n\\nOnce the application is freezed, check all sections (Personal, Education, Qualifying ., etc.) must be changed from red to green color shown as above. After verification of your application, Take a printout of biodata from your login, Submit during physical reporting.'},\n",
       " {'url': 'https://nitw.ac.in/cdis/assets/images/docs/Admission_Steps_ERP.pdf',\n",
       "  'date': '2024-11-27',\n",
       "  'title': 'SMILE ERP Instructions for online Reporting of PhD Admission, December 2024 | -',\n",
       "  'info': 'SMILE Instruction for Reporting \\n\\nStep 1 Go to:- https://erp.nitw.ac.in/ext/adm/login \\n\\nStep 2 Follow the below Steps \\n\\nContact Details: For Admissions related quiries : email id -> admissions@nitw.ac.in For Technical related quiries : email id -> erp_support@nitw.ac.in \\n\\nClick on \\n\\nEnter the Email, Mobile No, Full Name & Date of Birth. The data must be entered same as provided during application by the candidate. Then click on \\n\\nA Token and an OTP will be sent to your registered email as two separate mails. \\n\\nEnter the Token and an OTP sent to your registered email. create your own password and Confirm Password ( Password should be Alphanumeric only) then click on \\n\\nAfter Successful Registration the above message will be displayed. Then click on OK . Then click on to Sign In to the portal. \\n\\nEnter the Email ID and Password set during registration by you and then Click on \\n\\nAfter sign in, select your concerned advertisement click on Apply \\n\\nSelect the program belongs to you and put choice as “1” and click on \\n\\nSelect \\n\\nCandidate’s Verification popup will be displayed, Email Token and an OTP will be sent to your registered email. \\n\\nEnter the Email Token and an OTP sent to the registered email and click on “Verify Email Token & OTP” \\n\\nAfter successful verification Confirmation on click on “Yes”. \\n\\nAfter confirmation check your application status must be shown as . Then click on “My Applications”. Applied\\n\\nClick on “View” to proceed. \\n\\nBy selecting each left panel (Personal, Education, Qualifying, Payment Details, Document upload and Freeze application ). Fill up all the details. \\n\\nInstitute fee and Hostel fee ( applicable for hostel accommodation only) to be paid through this screen as mentioned above. \\n\\nUpload all the required documents. \\n\\nOnce each section completed, “Freeze” the application. \\n\\nOnce the application is freezed, check all sections (Personal, Education, Qualifying ., etc.) must be changed from red to green color shown as above. After verification of your application, Take a printout of biodata from your login, Submit during physical reporting.'},\n",
       " {'url': 'https://nitw.ac.in/api/static/files/dvt2024_09-09_2024-9-9-18-14-3.pdf',\n",
       "  'date': '2024-09-03',\n",
       "  'title': 'Recruitment to the post of Registrar at NIT Warangal. Last date for receipt of applications: 13.10.2024 | ',\n",
       "  'info': 'Advt. No. 04/2024 dated 09.09.2024 \\n\\nPage 1 of 5 NATIONAL INSTITUTE OF TECHNOLOGY WARANGAL (Ministry of Education, Govt of India) WARANGAL – 506 004 (Telangana State) \\n\\nRecruitment Advt. No. 04/2024 dated 09.09.2024 RECRUITMENT TO THE POST OF REGISTRAR AT NIT WARANGAL “NIT WARANGAL STRIVES TO HAVE A WORKFORCE WHICH REFLECTS GENDER BALANCE AND WOMEN CANDIDATES ARE ENCOURAGED TO APPLY” Online applications are invited from eligible Indian Citizens to fill up the post of REGISTRAR on Deputation (IncludingShort Term Contract) basis. Eligible candidates can apply through the online recruitment portal available at: https://nitw.ac.in/Careers/. Post Code NITW/4/24/Registrar Emoluments Minimum pay of Rs. 1,44,200/- in Level 14 of the 7thCPC + DA + allowances as admissible for Central Government Employees posted in Warangal/ Hanamkonda. Pay and other terms and conditions governing deputation/ foreign service will be regulated as provided by the Department of Personnel & Trainingread with the First Statutes of NITs, as amended from time to time. Vacancies & Reservations 01, Reservation not applicable Method of Recruitment Deputation (including Short Term Contract), for a period of 05 years or till attaining the age of 62 years whichever is earlier, or as fixed by Government of India by orders issued in this regard from time to time Age Limit 56 years Essential Educational Qualifications & Experience Deputation (including Short Term Contract): Officers under the Central/ State Governments / Universities/ Recognized Research Institutes or Institute of national importance or Govt. laboratory or PSU:- Essential Educational Qualification: Masters’ degree with at least 55% Marks or its equivalent grade ‘B’ in the UGC 7 point scale from a recognized University/ Institute. Experience: i) Holding analogous post; OR ii) At least 15 years’ experience as Assistant Professor in the AGP of 7000/- and above or with 8 years of service in the AGP of 8000/- and above including as Associate Professor along with 3 years’ experience in educational administration, or iii) Comparable experience in research establishment and /or other institutions of higher education, or iv) 15 years of administrative experience, of which 8 years shall be as Deputy Registrar or an equivalent post in the GP of Rs.7600/- or above. DATE OF PUBLICATION:09.09.2024 OPENING OF ONLINE APPLICATION PORTAL: 10.09.2024 @ 04.00 pm onwards CLOSING OF ONLINE APPLICATION PORTAL: 13.10.2024 @ 23.59 hrs. Advt. No. 04/2024 dated 09.09.2024 \\n\\nPage 2 of 5 \\n\\nDesirable: i) Qualification in area of Management/ Engineering/ Law. ii) Experience in computerized administration / legal / financial / establishment matters. Method of Selection Selection from among the shortlisted candidates will be done based on the performance in the interview. However, if required, the Institute reserves the right to conduct an objective/ skill test before interview for further shortlisting the candidates. NOTE: 1. Those candidates who have applied for the post of Registrar against Advt. No. 02/2024 dated 05.07.2024 need not apply again or pay the application fee. However, they can update their profile, if they so desire. Otherwise, the status of the earlier application will be considered as final. The Institute will consider their candidature along with the candidates applied for the post against the present advertisement. 2. Short Term Contract is a form of deputation where officers from non-Government bodies e.g. universities, research institutions, public sector undertakings for teaching, research, scientific and technical post(s) applies to the Institute posts. When selected and appointed on short term contract, at the end of the specified period, he/ she will have to revert to the parent cadre. GENERAL INSTRUCTIONS I) APPLICATION FEE: i) Non-refundable Application Fee of Rs. 1000/- for UR/OBC/ EWS candidates payable through the online recruitment portal. ii) No fee will be charged for SC/ST/PwD/Women candidates. iii) Failing to remit fee in case of applicable category candidates as per the instructions will render rejection of the application. Fee once paid shall not be refunded under any circumstances. II) OTHER CONDITIONS: 1. Before applying, the candidate should ensure that he/she fulfills all the eligibility conditions mentioned in the advertisement. Candidates should ensure that they fill in the correct information. The candidate would be admitted to various stages of the recruitment process based on the information furnished by the candidate in his/her application. Only a summary scrutiny of the application would be made before the final stage of the recruitment process and detailed scrutiny of the eligibility of the candidate would be done only at the final stage of the recruitment process. As such, the candidature of the applicant shall remain provisional till detailed scrutiny is undertaken and the candidate is found eligible in all respects. NITW would be at liberty to reject any application at any stage of the recruitment process, if the candidate is found ineligible for the post or if it comes to its notice at any stage. The decision of NITW with regard to eligibility of the candidate shall be final. The mere fact that a call letter has been issued to the candidate and allowed to appear in the written test/interview or offered the post or allowed to join, will not imply that his/her candidature has been finally cleared or that entries made by the candidate in his/her application have been accepted as true and correct. 2. NITW reserves the right not to fill up the post or even to cancel/restrict/modify/alter the whole process of recruitment without issuing any further notice or assigning any reason thereof. 3. Candidates empaneled under waitlist will be offered appointment only if the selected candidate Advt. No. 04/2024 dated 09.09.2024 \\n\\nPage 3 of 5 \\n\\nin the select list does not join or ceases to be in employment within the panel validity. The validity of operation of waitlist will be one year from the date of preparation of the select panel or after notifying any such recruitment, whichever is earlier. 4. The eligibility criteria including the age, educational qualifications and period of experience, as prescribed in the advertisement will be determined with reference to the last date of receipt of application. 5. Regulation of terms and conditions governing Deputation (ISTC) will be considered as provided by the Department of Personnel & Training read with the NITSER Act & Statutes of NITs, as amended from time to time. 6. In case the Universities/Board, award grades/CGPA/OGPA, the same will have to be indicated in equivalent percentage of marks as per the norms adopted by that University/Board and a certificate to this effect issued by the University/ Board should be submitted in the online application. In the absence of the same, the candidature will not be considered. 7. Appointment to the post is subject to being found medically fit by the Competent Authority. 8. In addition to the Pay and allowances as applicable to the employees posted in the Institute, they would be entitled to the following facilities: a) Reimbursement of Children Education Allowance as per Central Government Rules b) Reimbursement of Medical expenses including referral to outside specialized and reputed hospitals for OP/IP for them and their dependent family members. c) Suitable institute residential accommodation in the campus, subject to availability. d) Leave Travel Concession as per Central Government Rules 18. The appointment of Registrar is made for an initial period of 1 year, which is extendable for further 4 years after review of performance upon completion of one yearof service by the Committee to be constituted by the Board. 19. The competent authority/screening committees of NITW reserve all the rights to set higher standards & parameters, to shortlist the candidates, which may include highest qualification prescribed in the Recruitment Rules, desirable/preferable qualifications and/or experience, and other requirements mentioned in the notification/recruitment rules. III) CANCELLATION OF THE CANDIDATURE Candidates are cautioned not to furnish any incomplete, false or misleading information or submit any document which is defective, forged or fabricated or otherwise not admissible or claim fraudulently EWS/SC/ST/ OBC/Persons with Benchmark Disability (Divyangjan)/Ex-Servicemen status etc. or resort to any type of malpractice during the selection process. Notwithstanding verification of original documents during various stages of the selection process, if any case of illegality is detected at any stage of the selection process or later on, this Institute reserves the right to cancel candidature or selection apart from taking other appropriate legal actions. IV) HOW TO APPLY ONLINE: 1. Facility for submission of online application will be available from 10-09-2024 at 04:00 pmto 13-10-2024 23:59 pm on website of NITW i.e. https://nitw.ac.in/Careers/. 2. Upon submission of online application, self-attested hard copy of the application should be routed through proper channel, so as to reach the “Registrar, National Institute of Technology, Warangal – 506004” within 30 days from the date of closing of online Advt. No. 04/2024 dated 09.09.2024 \\n\\nPage 4 of 5 \\n\\napplications, accompanied by the following documents: i) Certified copies of APARs for the last 05 years duly attested on each page by an officer not below the rank of Under Secretary or equivalent; ii) Vigilance clearance certificate; iii) No Objection certificate. The online application will be treated as advance copy only. In the event of non-receipt of hard copy of the application through proper channel within the stipulated period, candidature will be considered provisionally if No Objection Certificate is provided by that time along with an undertaking that he shall arrange for the above documents at the time of interview, failing which the candidature will be treated as cancelled and no further correspondence will be entertained in this regard. 3. Candidate should read the instructions in the advertisement and online application form carefully before making any entry or selecting any option. 4. Before filling application form, candidates should keep ready necessary documents/ certificates required. Candidate is required to fill up personal details and details of post applied for etc. and upload recently taken front facing passport size photograph. 5. A valid e-mail ID and Mobile Number is mandatory for submitting application online and email ID should be kept active till the declaration of results. The Institute will send call letter for selection process to the registered e-mail ID. No correspondence will be sent through post/courier. 6. Date, Time, Venue for various stages examination will be intimated through Website/Admit Card/call letter only. 7. The candidate must ensure that their photo and signature is clearly visible in preview at the time of filling application in online mode. If photo/signature displayed is small or not visible in preview on website, that means photo/signature is not as per the required format and in that case the application will be rejected. Therefore, candidates must ensure that photo and signature are clearly visible. \\n\\n8. Instruction for uploading Photo and Signature: Photo: Image should be of size 165 x 125 pixels in jpg/jpeg format and should not exceed 50 KB with name and date at the bottom of the photograph. Signature: Image should be of size 80 x 125 pixels in jpg/jpeg format and should not exceed 20 KB 9. For any administrative support, candidates may mail to:recruit_admn@nitw.ac.in 10. For technical support, details or clarification, technical details regarding online application portal, the candidates can email to: recruit@nitw.ac.in 11. Before clicking the submit button, the candidate is advised to check that all the details filled in are correct. Candidate may also ensure that name, date of birth, etc. are entered correctly in the application form as per Secondary School Certificate (SSC). Any incorrect information may disqualify candidature. After final submission of application, no request for change/correction in any of the information in the application form shall be entertained under any circumstances. 12. After submitting the online application form, candidates are required to take print/ save Advt. No. 04/2024 dated 09.09.2024 \\n\\nPage 5 of 5 \\n\\ncopy of the online application form and preserve it till the certificate verification/all the selection process is completed. V) At the time of certificate verification, on the informed date, candidates must bring hard copy of Online application Form along with Original and one set of photocopy of self-attested of the following documents: 1. Educational qualifications and technical qualifications (supported by appropriate mark sheets) starting from (SSC) / X standard onwards. 2. Date of birth/Proof of age. 3. No Objection Certificate in case of employees working under Central/State Government, Public Sector Undertakings/Statutory/Autonomous Bodies, etc. 4. Experience certificates (if applicable). 5. Certified copies of APARs for the last 05 years duly attested on each page by an officer not below the rank of Under Secretary or equivalent; 6. Vigilance clearance certificate; 7. Any other certificate in respect of claims made in the application form. \\n\\nNote: NITW is not responsible for any discrepancy in submitting details through online application. The applicants are therefore, advised to strictly follow the instructions. The particulars furnished by the applicant in the Application Form will be taken as final and further processing of the application will be based on these particulars only. Frivolous representation/clarification made through any correspondence without reading the instructions given in the advertisement thoroughly will not be entertained. WARNING: Applications which are not in conformity with the requirement will be rejected. Merely fulfilling of requirements as laid down in the advertisement does not qualify a candidate for consideration. No correspondence will be entertained with candidates not selected for appointment. CANVASSING IN ANY FORM WILL BE A DISQUALIFICATION SELECTIONS IN THIS INSTITUTE ARE MADE PURELY ON MERIT AND CANDIDATES ARE STRONGLY ADVISED NOT TO PAY MONEY TO ANY PERSON ASSURING OF EMPLOYMENT AND NOT TO BRING ANY INDIVIDUAL/POLITICAL INFLUENCE. CANDIDATES ARE ADVISED TO INFORM THE DETAILS OF ANY PERSON APPROACHING THEM IN THIS REGARD TO THIS OFFICE FOR TAKING STERN ACTION. ANY LEGAL DISPUTE ARISING OUT OF THIS ADVERTISEMENT OR THIS RECRUITMENT IS SUBJECT TO THE JURISDICTION OF WARANGAL/HYDERABAD. REGISTRAR I/C NIT Warangal'},\n",
       " {'url': 'https://nitw.ac.in/api/static/files/Flyer_2025-5-20-15-20-20.pdf',\n",
       "  'date': '2025-05-20',\n",
       "  'title': 'A 6-Day Hybrid FDP on AI and ML Models : Frameworks, Applications and Challenges | (23rd to 29th May 2025, 9 AM to 6 PM), Organized by E & ICT Academy\".',\n",
       "  'info': 'Hybrid Faculty Development Programme (FDP) on AI and ML Models: Frameworks, Applications and Challenges (23rd to 29th May 2025) Organized by Electronics and ICT Academy, NIT Warangal In Association With Department of CSE-(CyS, DS) and AI & DS, VNR Vignana Jyothi Institute of Engineering & Technology, Hyderabad, Telangana Sponsored by Ministry of Electronics and Information Technology (MeitY), GoI \\n\\n\"Electronics & ICT Academy – Phase II\" was set up at NIT Warangal with financial assistance from MeitY, GoI. This academy’s role is to offer FDPs in standardized courses and emerging areas of Electronics, Information Communication Technologies, training and consultancy services for Industry, Curriculum development for Industry, CEP for working professionals, Advice and support for technical incubation and entrepreneurial activities. \\n\\nThe Faculty Development Programme (FDP) on \"AI and ML Models: Frameworks, Applications and Challenges\" aims to equip faculty members with in-depth knowledge of cutting-edge artificial intelligence and machine learning techniques. The program covers essential frameworks and explores their real-world applications across various domains. This FDP fosters hands-on experience, interdisciplinary learning, and academic-industry collaboration. \\n\\n● Introduction to Artificial Intelligence and Machine Learning ● Supervised, Unsupervised, and Reinforcement Learning ● Regression Techniques using R ● Nearest Neighbour Based Classifiers ● Decision Trees and Evaluation Parameters for Classifiers ● Outliers and Class Imbalance Problem in Machine Learning ● Natural Language Processing ● Deep Learning Applications ● Clustering Algorithms ● Impact of Feature Selection on Development of Prediction Models ● Open-Source Tools ● Large Language Models ● Recommender Systems ● Ensemble Learning ● Case Studies \\n\\nThe programme will be conducted by the faculty members from NIT Warangal; Academicians in the concerned field from IITs/NITs are invited to deliver lectures in the programme. Speakers from industries are also expected to deliver as part of the course. \\n\\nParticipants need to pay the Registration Fee Online using the following details. \\n\\nHow to apply: Participants are required to fill the online registration form by clicking on the following link: https://forms.gle/UScMk9xAvRUy4v5M6 \\n\\nSelection Criteria: Selection will be done based on first-come-first-serve basis to a maximum number of 50 (fifty). Candidates will be issued satisfactory certificates on successful completion of the course. \\n\\nImportant Dates: \\n\\nLast Date for Registration: 22.05.2025 Selection List by E-mail: 22.05.2025 Duration: 23.05.2025 to 29.05.2025 About NIT Warangal: National Institute of Technology, Warangal, is the first among 17 RECs set up as a joint venture of the Government of India and the state government. Over the years, the college has established itself as a premier Institute imparting technical education of a very high standard, leading to B.Tech degrees in various branches of engineering, M.Tech., and Ph.D. programmes in various specializations. All B. Tech and M. Tech programmes of NIT Warangal are NBA accredited. About VNRVJIET: Vallurupalli Nageswara Rao Vignana Jyothi Institute of Engineering and Technology (VNRVJIET), established in the year 1995, is a unique institution that charts distinct pathways towards Academic and Research excellence. VNRVJIET provides a value- added curriculum that is driven by robust infrastructure, highly qualified and competent staff and a vision to be a top ranked institution that is primed by research and innovation. It has become and remains one of the most distinguished and premier institutions of higher education in the State of Telangana. \\n\\nOnline Transfer Details Account Name : Electronics & ICT Academy NITW Account No : 62423775910 IFSC : SBIN0020149 Bank and Branch: State Bank of India, NIT Campus, Warangal Faculty and Research Scholars Rs. 1000/- Industry Participants Rs. 3000/- Dr. Sanjaya Kumar Panda Assistant Professor Department of CSE NIT Warangal Telangana - 506004 Email: sanjaya@nitw.ac.in Ph. No.: 9861126947 Prof. Rasmita Kumari Mohanty Assistant Professor Dept. of CSE-(CyS, DS) and AI & DS,VNRVJIET Telangana - 500090 Email: rasmitakumari_m@vnrvjiet.in Ph. No: 7207448520 Preamble: About the FDP: Major Course Content: Registration Fee Particulars: Coordinators: Faculty Conducting This Programme:'}]"
      ]
     },
     "execution_count": 18,
     "metadata": {},
     "output_type": "execute_result"
    }
   ],
   "source": [
    "search(query)"
   ]
  },
  {
   "cell_type": "code",
   "execution_count": null,
   "id": "ca07217d-b30a-460d-9301-4acca7e62e18",
   "metadata": {},
   "outputs": [],
   "source": []
  }
 ],
 "metadata": {
  "kernelspec": {
   "display_name": "Python 3 (ipykernel)",
   "language": "python",
   "name": "python3"
  },
  "language_info": {
   "codemirror_mode": {
    "name": "ipython",
    "version": 3
   },
   "file_extension": ".py",
   "mimetype": "text/x-python",
   "name": "python",
   "nbconvert_exporter": "python",
   "pygments_lexer": "ipython3",
   "version": "3.10.16"
  }
 },
 "nbformat": 4,
 "nbformat_minor": 5
}
