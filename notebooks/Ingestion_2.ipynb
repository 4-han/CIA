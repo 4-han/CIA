{
 "cells": [
  {
   "cell_type": "code",
   "execution_count": 10,
   "id": "eac0ceb5-b8c1-498c-b9dd-fb5645db58e5",
   "metadata": {},
   "outputs": [
    {
     "name": "stdout",
     "output_type": "stream",
     "text": [
      "ERP - Select your profile\n",
      "<html><head>\n",
      "        <title>ERP - Select your profile</title>\n",
      "        <meta charset=\"utf-8\">\n",
      "        <meta http-equiv=\"X-UA-Compatible\" content=\"IE=edge\">\n",
      "        <meta name=\"viewport\" content=\"width=device-width, initial-scale=1\">\n",
      "        \n",
      "        <!----Favicon--->\n",
      "        <link rel=\"icon\" href=\"/img/instlogos/NITW-COLOUR.png\" type=\"image/x-icon\">\n",
      "        <link rel=\"shortcut icon\" href=\"/img/instlogos/NITW-COLOUR.png\" type=\"image/x-icon\">\n",
      "\n",
      "        <!-- CSS libraries -->\n",
      "        <!-- Bootstrap 4.2.1 -->\n",
      "        <link rel=\"stylesheet\" href=\"/webjars/bootstrap/4.2.1/css/bootstrap.min.css\">\n",
      "        <!-- Smile CSS -->\n",
      "        <link rel=\"stylesheet\" href=\"/css/main.css\">\n",
      "        <!-- Font Awesome -->\n",
      "        <link rel=\"stylesheet\" href=\"/webjars/font-awesome/5.12.0/css/all.min.css\">\n",
      "        <!-- Theme style -->\n",
      "        <link rel=\"stylesheet\" href=\"/webjars/AdminLTE/3.0.0/dist/css/adminlte.min.css\">\n",
      "\n",
      "\n",
      "        <script type=\"text/javascript\" src=\"/webjars/AdminLTE/3.0.0/plugins/jquery/jquery.m\n"
     ]
    }
   ],
   "source": [
    "from selenium import webdriver\n",
    "from selenium.webdriver.common.by import By\n",
    "from selenium.webdriver.chrome.service import Service\n",
    "from selenium.webdriver.chrome.options import Options\n",
    "from webdriver_manager.chrome import ChromeDriverManager\n",
    "import time\n",
    "from selenium.webdriver.common.by import By\n",
    "from selenium.webdriver.support.ui import WebDriverWait\n",
    "from selenium.webdriver.support import expected_conditions as EC\n",
    "\n",
    "LOGIN_URL = \"https://erp.nitw.ac.in/erp/login\"\n",
    "\n",
    "USERNAME = \"Heatblast\"\n",
    "PASSWORD = \"Farhan786\"\n",
    "\n",
    "\n",
    "options = Options()\n",
    "options.add_argument(\"--headless\")\n",
    "options.add_argument(\"--no-sandbox\")\n",
    "options.add_argument(\"--disable-dev-shm-usage\")\n",
    "\n",
    "driver = webdriver.Chrome(service=Service(ChromeDriverManager().install()), options=options)\n",
    "driver.get(LOGIN_URL)\n",
    "time.sleep(2)\n",
    "\n",
    "# Fill in login credentials\n",
    "driver.find_element(By.NAME, \"username\").send_keys(USERNAME)\n",
    "driver.find_element(By.NAME, \"password\").send_keys(PASSWORD)\n",
    "\n",
    "submit_input = WebDriverWait(driver, 10).until(\n",
    "    EC.element_to_be_clickable((\n",
    "        By.CSS_SELECTOR,\n",
    "        \"body > div.container-fluid.mainDiv > div > div.row.loginRow > div > div > div.card.card-login.logindiv.col-xs-12.col-sm-12.col-md-4.col-lg-4 > div.card-body > form > div:nth-child(3) > input[type='submit']\"\n",
    "    ))\n",
    ")\n",
    "submit_input.click()\n",
    "time.sleep(3)\n",
    "\n",
    "# Optional: visit protected page after login\n",
    "driver.get(\"https://erp.nitw.ac.in/erp/secure/fw/instituteNotices\")\n",
    "time.sleep(2)\n",
    "\n",
    "# Output result\n",
    "print(driver.title)\n",
    "print(driver.page_source[:1000])  # Print first 1000 chars\n",
    "\n",
    "driver.quit()\n"
   ]
  },
  {
   "cell_type": "code",
   "execution_count": null,
   "id": "f12b64b8-7687-4ce4-ad2a-dd591da1e55d",
   "metadata": {},
   "outputs": [],
   "source": []
  }
 ],
 "metadata": {
  "kernelspec": {
   "display_name": "Python 3 (ipykernel)",
   "language": "python",
   "name": "python3"
  },
  "language_info": {
   "codemirror_mode": {
    "name": "ipython",
    "version": 3
   },
   "file_extension": ".py",
   "mimetype": "text/x-python",
   "name": "python",
   "nbconvert_exporter": "python",
   "pygments_lexer": "ipython3",
   "version": "3.10.16"
  }
 },
 "nbformat": 4,
 "nbformat_minor": 5
}
